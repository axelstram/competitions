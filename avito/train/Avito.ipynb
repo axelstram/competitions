{
 "cells": [
  {
   "cell_type": "code",
   "execution_count": 1,
   "metadata": {},
   "outputs": [
    {
     "name": "stderr",
     "output_type": "stream",
     "text": [
      "/home/axel/anaconda3/lib/python3.6/site-packages/h5py/__init__.py:36: FutureWarning: Conversion of the second argument of issubdtype from `float` to `np.floating` is deprecated. In future, it will be treated as `np.float64 == np.dtype(float).type`.\n",
      "  from ._conv import register_converters as _register_converters\n",
      "Using TensorFlow backend.\n"
     ]
    }
   ],
   "source": [
    "import pandas as pd\n",
    "import math\n",
    "\n",
    "from fastai.structured import *\n",
    "\n",
    "from sklearn import metrics\n",
    "import xgboost as xgb\n",
    "from sklearn.ensemble import RandomForestRegressor\n",
    "from collections import OrderedDict, defaultdict\n",
    "from sklearn.feature_extraction.text import CountVectorizer, TfidfVectorizer\n",
    "import nltk\n",
    "from nltk.corpus import stopwords\n",
    "from scipy import sparse\n",
    "from sklearn.preprocessing import LabelBinarizer\n",
    "import gc\n",
    "import lightgbm as lgb\n",
    "from sklearn.decomposition import TruncatedSVD\n",
    "from skopt import gp_minimize\n",
    "import threading\n",
    "from keras import Model\n",
    "\n",
    "import keras.applications.xception as xception\n",
    "import keras.applications.vgg16 as vgg\n",
    "import keras.applications.resnet50 as resnet\n",
    "from keras.layers import *\n",
    "from keras.preprocessing.image import ImageDataGenerator\n",
    "from PIL import Image\n",
    "from keras.preprocessing import image\n",
    "from tqdm import tqdm\n",
    "\n",
    "from pathlib import PurePath\n",
    "\n",
    "import bcolz"
   ]
  },
  {
   "cell_type": "code",
   "execution_count": 6,
   "metadata": {},
   "outputs": [],
   "source": [
    "def save_array(fname, arr):\n",
    "    c=bcolz.carray(arr, rootdir=fname, mode='w')\n",
    "    c.flush()\n",
    "\n",
    "\n",
    "def load_array(fname):\n",
    "    return bcolz.open(fname)[:]"
   ]
  },
  {
   "cell_type": "code",
   "execution_count": 7,
   "metadata": {},
   "outputs": [],
   "source": [
    "def calculate_mean_deal_prob(dic):\n",
    "    probabilities = list(dic.values())\n",
    "    probs = []\n",
    "    for p in probabilities:\n",
    "        probs.append(p['deal_probability'])\n",
    "        \n",
    "    return sum(probs) / float(len(probs))"
   ]
  },
  {
   "cell_type": "code",
   "execution_count": 8,
   "metadata": {},
   "outputs": [],
   "source": [
    "def calculate_feature_importance(m, cols):\n",
    "    headers = [\"name\", \"score\"]\n",
    "    values = sorted(zip(cols, m.feature_importances_), key=lambda x: x[1] * -1)\n",
    "    return values"
   ]
  },
  {
   "cell_type": "code",
   "execution_count": 9,
   "metadata": {},
   "outputs": [],
   "source": [
    "def get_predictions(df, dic, mean):\n",
    "    y_pred = []\n",
    "    \n",
    "    for row in df.itertuples():\n",
    "        category_name = row.category_name\n",
    "\n",
    "        if category_name in dic:\n",
    "            y_pred.append(dic[category_name]['deal_probability'])\n",
    "        else:\n",
    "            y_pred.append(mean)\n",
    "    \n",
    "    return y_pred"
   ]
  },
  {
   "cell_type": "code",
   "execution_count": 10,
   "metadata": {},
   "outputs": [],
   "source": [
    "def rmse(x,y): return math.sqrt(((x-y)**2).mean())"
   ]
  },
  {
   "cell_type": "code",
   "execution_count": 11,
   "metadata": {},
   "outputs": [],
   "source": [
    "def group_target_by_fields(df, target, fields = None):\n",
    "    if fields is None:\n",
    "        fields = df.columns\n",
    "    \n",
    "    target_mean = df[target].mean()\n",
    "    target_std = df[target].std()\n",
    "    \n",
    "    for f in fields:\n",
    "        gp = df.groupby(f)[target]\n",
    "        mean = gp.mean()\n",
    "        std  = gp.std()\n",
    "        \n",
    "        if pd.DataFrame(mean).isnull().values.any():\n",
    "            mean = mean.fillna(target_mean)\n",
    "            \n",
    "        if pd.DataFrame(std).isnull().values.any():\n",
    "            std = std.fillna(target_std)\n",
    "            \n",
    "        df[f + '_' + target + '_avg'] = df[f].map(mean)\n",
    "        df[f + '_' + target + '_std'] = df[f].map(std)"
   ]
  },
  {
   "cell_type": "code",
   "execution_count": 12,
   "metadata": {},
   "outputs": [],
   "source": [
    "def add_to_df(df, new_field, dic):\n",
    "    mean = calculate_mean_deal_prob(dic)\n",
    "    new_col = np.zeros((len(df),1))\n",
    "    field = new_field\n",
    "    \n",
    "    if field.endswith('_mean'):\n",
    "        field = field[:-5]\n",
    "    \n",
    "    i = 0\n",
    "    \n",
    "    for _, row in df.iterrows():\n",
    "\n",
    "        if row[field] in dic:\n",
    "            new_col[i] = dic[row[field]]['deal_probability']\n",
    "        else:\n",
    "            new_col[i] = mean\n",
    "        \n",
    "        i = i + 1    \n",
    "        \n",
    "    df[new_field] = new_col"
   ]
  },
  {
   "cell_type": "code",
   "execution_count": 13,
   "metadata": {},
   "outputs": [],
   "source": [
    "def string_columns_to_categorical(df):\n",
    "    train_cats(df)"
   ]
  },
  {
   "cell_type": "code",
   "execution_count": 14,
   "metadata": {},
   "outputs": [],
   "source": [
    "def remove_na_columns(df):\n",
    "    for c in df.columns:\n",
    "        if c.endswith('_na'):\n",
    "            df.drop(labels=[c], axis=1, inplace=True)"
   ]
  },
  {
   "cell_type": "code",
   "execution_count": 15,
   "metadata": {},
   "outputs": [],
   "source": [
    "def remove_columns_with_nans(df):\n",
    "    for c in df.columns:\n",
    "        if df[c].isnull().values.any():\n",
    "            df.drop(labels=[c], axis=1, inplace=True)"
   ]
  },
  {
   "cell_type": "code",
   "execution_count": 16,
   "metadata": {},
   "outputs": [],
   "source": [
    "def objective(space):\n",
    "    n_estimators = int(space['n_estimators'])\n",
    "    max_depth = int(space['max_depth'])\n",
    "    min_child_weight = space['min_child_weight']\n",
    "    subsample = space['subsample']\n",
    "    reg_alpha = space['reg_alpha']\n",
    "    reg_lambda = space['reg_lambda']\n",
    "    colsample_bylevel = space['colsample_bylevel']\n",
    "    colsample_bytree = space['colsample_bytree']\n",
    "    learning_rate = space['learning_rate']\n",
    "    gamma = space['gamma']\n",
    "    #scale_pos_weight = space['scale_pos_weight']\n",
    "    \n",
    "    print(\"params: \")\n",
    "    print(\"n_estimators: \" + str(n_estimators))\n",
    "    print(\"max_depth: \" + str(max_depth))\n",
    "    print(\"min_child_weight: \" + str(min_child_weight))\n",
    "    print(\"subsample: \" + str(subsample))\n",
    "    print(\"reg_alpha: \" + str(reg_alpha))\n",
    "    print(\"reg_lambda: \" + str(reg_lambda))\n",
    "    print(\"colsample_bylevel: \" + str(colsample_bylevel))\n",
    "    print(\"colsample_bytree: \" + str(colsample_bytree))\n",
    "    print(\"learning rate: \" + str(learning_rate))\n",
    "    print(\"gamma: \" + str(gamma))\n",
    "    #print(\"scale_pos_weight: \" + str(scale_pos_weight))\n",
    "        \n",
    "    clf = xgb.XGBRegressor(n_jobs=4,\n",
    "                        #scale_pos_weight = scale_pos_weight,\n",
    "                        n_estimators = n_estimators, \n",
    "                        learning_rate = learning_rate,\n",
    "                        max_depth = max_depth,\n",
    "                        min_child_weight = min_child_weight,\n",
    "                        subsample = subsample,\n",
    "                        reg_alpha = reg_alpha,\n",
    "                        reg_lambda = reg_lambda,\n",
    "                        colsample_bylevel = colsample_bylevel,\n",
    "                        colsample_bytree = colsample_bytree,\n",
    "                        gamma=gamma)\n",
    "    \n",
    "    eval_set  = [(X_train, y_train), (X_valid, y_valid)]\n",
    "\n",
    "    clf.fit(X_train, y_train,\n",
    "            eval_set=eval_set, eval_metric=\"rmse\", early_stopping_rounds=10)\n",
    "  \n",
    "    y_pred = clf.predict(X_valid)\n",
    "        \n",
    "    print(\"rmse:\" + str(rmse(y_valid, y_pred)))\n",
    "\n",
    "    return{'loss': rmse(y_valid, y_pred), 'status': STATUS_OK }"
   ]
  },
  {
   "cell_type": "code",
   "execution_count": 17,
   "metadata": {},
   "outputs": [],
   "source": [
    "def objective_lgb(space):\n",
    "   \n",
    "    num_leaves = int(space['num_leaves'])\n",
    "    max_depth = int(space['max_depth'])\n",
    "    subsample = space['subsample']\n",
    "    subsample_freq = int(space['subsample_freq'])\n",
    "    lambda_l1 = space['lambda_l1']\n",
    "    lambda_l2 = space['lambda_l2']\n",
    "    learning_rate = space['learning_rate']\n",
    "    feature_fraction = space['feature_fraction']\n",
    "    min_data_per_leaf = int(space['min_data_per_leaf'])\n",
    "    min_child_weight = space['min_child_weight']\n",
    "    \n",
    "    print(\"params: \")\n",
    "    print(\"num_leaves: \" + str(num_leaves))\n",
    "    print(\"max_depth: \" + str(max_depth))\n",
    "    print(\"min_child_weight: \" + str(min_child_weight))\n",
    "    print(\"subsample: \" + str(subsample))\n",
    "    print(\"subsample_freq: \" + str(subsample_freq))\n",
    "    print(\"lambda_l1: \" + str(lambda_l1))\n",
    "    print(\"lambda_l2: \" + str(lambda_l2))\n",
    "    print(\"feature_fraction: \" + str(feature_fraction))\n",
    "    print(\"learning rate: \" + str(learning_rate))\n",
    "    print(\"min_data_per_leaf: \" + str(min_data_per_leaf))        \n",
    "    \n",
    "    params = {\n",
    "        \"objective\" : \"regression\",\n",
    "        \"metric\" : \"rmse\",\n",
    "        \"n_estimators\": 5000,\n",
    "        \"max_depth\": max_depth,\n",
    "        \"num_leaves\" : num_leaves, \n",
    "        \"learning_rate\" : learning_rate,\n",
    "        \"subsample\" : subsample,\n",
    "        \"subsample_freq\" : subsample_freq,\n",
    "        \"lambda_l1\": lambda_l1,\n",
    "        \"lambda_l2\": lambda_l2,\n",
    "        \"feature_fraction\" : feature_fraction,\n",
    "        \"min_data_per_leaf\": min_data_per_leaf,\n",
    "        \"min_child_weight\": min_child_weight,\n",
    "        \"bagging_seed\" : 16,\n",
    "        \"device\" : \"gpu\",\n",
    "        \"max_bin\": 64\n",
    "    }\n",
    "\n",
    "    model = lgb.train(params, train, valid_sets=[train, val], early_stopping_rounds=100, verbose_eval=10)\n",
    "    \n",
    "    y_pred = model.predict(X_valid, num_iteration=model.best_iteration)\n",
    "    y_pred = np.clip(y_pred, 0, 1)\n",
    "      \n",
    "    print(\"rmse:\" + str(rmse(y_valid, y_pred)))\n",
    "\n",
    "    return{'loss': rmse(y_valid, y_pred), 'status': STATUS_OK }"
   ]
  },
  {
   "cell_type": "code",
   "execution_count": 18,
   "metadata": {},
   "outputs": [],
   "source": [
    "def image_classify(model, pack, img, top_n=3):\n",
    "    \"\"\"Classify image and return top matches.\"\"\"\n",
    "    target_size = (224, 224)\n",
    "    if img.size != target_size:\n",
    "        img = img.resize(target_size)\n",
    "    x = image.img_to_array(img)\n",
    "    x = np.expand_dims(x, axis=0)\n",
    "    x = pack.preprocess_input(x)\n",
    "    preds = model.predict(x)\n",
    "    return pack.decode_predictions(preds, top=top_n)[0]"
   ]
  },
  {
   "cell_type": "code",
   "execution_count": null,
   "metadata": {},
   "outputs": [],
   "source": []
  },
  {
   "cell_type": "code",
   "execution_count": null,
   "metadata": {},
   "outputs": [],
   "source": []
  },
  {
   "cell_type": "code",
   "execution_count": null,
   "metadata": {},
   "outputs": [],
   "source": []
  },
  {
   "cell_type": "code",
   "execution_count": 19,
   "metadata": {},
   "outputs": [],
   "source": [
    "PATH = \"/home/axel/Desktop/kaggle/avito\""
   ]
  },
  {
   "cell_type": "code",
   "execution_count": 20,
   "metadata": {},
   "outputs": [],
   "source": [
    "dateparse = lambda x: pd.datetime.strptime(x, '%Y-%m-%d')"
   ]
  },
  {
   "cell_type": "code",
   "execution_count": 21,
   "metadata": {},
   "outputs": [],
   "source": [
    "df = pd.read_csv(f'{PATH}/train/train.csv', parse_dates=['activation_date'])"
   ]
  },
  {
   "cell_type": "code",
   "execution_count": 22,
   "metadata": {},
   "outputs": [],
   "source": [
    "df_test = pd.read_csv(f'{PATH}/test/test.csv', parse_dates=['activation_date'])"
   ]
  },
  {
   "cell_type": "code",
   "execution_count": null,
   "metadata": {},
   "outputs": [],
   "source": []
  },
  {
   "cell_type": "code",
   "execution_count": null,
   "metadata": {},
   "outputs": [],
   "source": []
  },
  {
   "cell_type": "code",
   "execution_count": 23,
   "metadata": {},
   "outputs": [
    {
     "name": "stderr",
     "output_type": "stream",
     "text": [
      "/home/axel/anaconda3/lib/python3.6/site-packages/ipykernel_launcher.py:1: FutureWarning: Sorting because non-concatenation axis is not aligned. A future version\n",
      "of pandas will change to not sort by default.\n",
      "\n",
      "To accept the future behavior, pass 'sort=True'.\n",
      "\n",
      "To retain the current behavior and silence the warning, pass sort=False\n",
      "\n",
      "  \"\"\"Entry point for launching an IPython kernel.\n"
     ]
    }
   ],
   "source": [
    "df_all = pd.concat([df, df_test], axis=0)"
   ]
  },
  {
   "cell_type": "code",
   "execution_count": 20,
   "metadata": {},
   "outputs": [],
   "source": [
    "df_all['params'] = df_all.apply(lambda row: ' '.join([\n",
    "                        str(row['param_1']), \n",
    "                        str(row['param_2']), \n",
    "                        str(row['param_3'])]),axis=1)"
   ]
  },
  {
   "cell_type": "code",
   "execution_count": 21,
   "metadata": {},
   "outputs": [],
   "source": [
    "df_all['description'] = df_all['description'].fillna(' ')\n",
    "df_all['price'] = df_all['price'].fillna(df_all['price'].mean())\n",
    "df_all['image_top_1'] = df_all['image_top_1'].fillna(-999)\n",
    "df_all['params'] = df_all['params'].fillna(' ')"
   ]
  },
  {
   "cell_type": "code",
   "execution_count": 21,
   "metadata": {
    "collapsed": true
   },
   "outputs": [],
   "source": [
    "text_features = [\"description\", \"params\", \"title\"]\n",
    "\n",
    "for col in text_features:\n",
    "    df_all[col] = df_all[col].str.lower()\n",
    "    df_all[col] = df_all[col].str.replace(\"[^[:alpha:]]\", \" \")\n",
    "    df_all[col] = df_all[col].str.replace(\"\\\\s+\", \" \")\n",
    "    df_all[col + '_num_chars'] = df_all[col].apply(len)\n",
    "    df_all[col + '_num_words'] = df_all[col].apply(lambda comment: len(comment.split()))\n",
    "    df_all[col + '_num_unique_words'] = df_all[col].apply(lambda comment: len(set(w for w in comment.split())))\n",
    "    df_all[col + '_words_vs_unique'] = df_all[col+'_num_unique_words'] / df_all[col+'_num_words'] * 100\n"
   ]
  },
  {
   "cell_type": "code",
   "execution_count": 111,
   "metadata": {
    "collapsed": true
   },
   "outputs": [],
   "source": [
    "df_all['weekday'] = df_all['activation_date'].dt.weekday\n",
    "df_all[\"day_of_month\"] = df_all['activation_date'].dt.day\n",
    "\n",
    "df['weekday'] = df['activation_date'].dt.weekday\n",
    "df[\"day_of_month\"] = df['activation_date'].dt.day"
   ]
  },
  {
   "cell_type": "code",
   "execution_count": null,
   "metadata": {
    "collapsed": true
   },
   "outputs": [],
   "source": []
  },
  {
   "cell_type": "code",
   "execution_count": 113,
   "metadata": {
    "collapsed": true
   },
   "outputs": [],
   "source": [
    "cols_to_group = ['region', 'city', 'parent_category_name', 'category_name',\n",
    "                 'image_top_1', 'user_type','item_seq_number','weekday', 'day_of_month']\n",
    "group_target_by_fields(df_all, target='deal_probability', cols=cols_to_group)\n",
    "#group_target_by_fields(df_all, target='price', cols=cols_to_group)"
   ]
  },
  {
   "cell_type": "code",
   "execution_count": 24,
   "metadata": {},
   "outputs": [],
   "source": [
    "train_cats(df_all)"
   ]
  },
  {
   "cell_type": "code",
   "execution_count": 25,
   "metadata": {},
   "outputs": [
    {
     "data": {
      "text/plain": [
       "TfidfVectorizer(analyzer='word', binary=False, decode_error='strict',\n",
       "        dtype=<class 'numpy.int64'>, encoding='utf-8', input='content',\n",
       "        lowercase=True, max_df=0.4, max_features=800, min_df=10,\n",
       "        ngram_range=(1, 1), norm='l2', preprocessor=None, smooth_idf=True,\n",
       "        stop_words=['и', 'в', 'во', 'не', 'что', 'он', 'на', 'я', 'с', 'со', 'как', 'а', 'то', 'все', 'она', 'так', 'его', 'но', 'да', 'ты', 'к', 'у', 'же', 'вы', 'за', 'бы', 'по', 'только', 'ее', 'мне', 'было', 'вот', 'от', 'меня', 'еще', 'нет', 'о', 'из', 'ему', 'теперь', 'когда', 'даже', 'ну', 'вдруг', '...гда', 'лучше', 'чуть', 'том', 'нельзя', 'такой', 'им', 'более', 'всегда', 'конечно', 'всю', 'между'],\n",
       "        strip_accents=None, sublinear_tf=True,\n",
       "        token_pattern='(?u)\\\\b\\\\w\\\\w+\\\\b', tokenizer=None, use_idf=True,\n",
       "        vocabulary=None)"
      ]
     },
     "execution_count": 25,
     "metadata": {},
     "output_type": "execute_result"
    }
   ],
   "source": [
    "num_text_features = 800\n",
    "\n",
    "tfidf_title = TfidfVectorizer(max_features=num_text_features, stop_words = stopwords.words('russian'),\n",
    "                              ngram_range=(1,1), min_df=10, max_df=0.4, norm='l2', sublinear_tf=True)\n",
    "tfidf_title.fit(df_all['title'])\n",
    "\n",
    "\n",
    "tfidf_descr = TfidfVectorizer(max_features=num_text_features, stop_words = stopwords.words('russian'),\n",
    "                               ngram_range=(1,1), min_df=10, max_df=0.4, norm='l2', sublinear_tf=True)\n",
    "tfidf_descr.fit(df_all['description'])\n",
    "\n",
    "\n",
    "tfidf_params = TfidfVectorizer(max_features=num_text_features, stop_words = stopwords.words('russian'),\n",
    "                               ngram_range=(1,1), min_df=10, max_df=0.4, norm='l2', sublinear_tf=True)\n",
    "tfidf_params.fit(df_all['params'])"
   ]
  },
  {
   "cell_type": "code",
   "execution_count": 26,
   "metadata": {
    "collapsed": true
   },
   "outputs": [],
   "source": [
    "# title_features = np.array(tfidf_title.transform(df_all['title']).todense(), dtype=np.float16)\n",
    "\n",
    "# for i in range(num_text_features):\n",
    "#     df_all['title_feature_' + str(i)] = title_features[:, i]\n",
    "\n",
    "# del title_features\n",
    "# gc.collect()\n",
    "\n",
    "# description_features = np.array(tfidf_descr.transform(df_all['description']).todense(), dtype=np.float16)\n",
    "\n",
    "# for i in range(num_text_features):\n",
    "#     df_all['description_feature_' + str(i)] = description_features[:, i]\n",
    "\n",
    "# del description_features\n",
    "# gc.collect()\n",
    "\n",
    "# params_features = np.array(tfidf_params.transform(df_all['params']).todense(), dtype=np.float16)\n",
    "\n",
    "# for i in range(num_text_features):\n",
    "#     df_all['params_feature_' + str(i)] = params_features[:, i]\n",
    "\n",
    "# del params_features\n",
    "# gc.collect()"
   ]
  },
  {
   "cell_type": "code",
   "execution_count": 27,
   "metadata": {},
   "outputs": [
    {
     "data": {
      "text/plain": [
       "TruncatedSVD(algorithm='arpack', n_components=20, n_iter=5, random_state=None,\n",
       "       tol=0.0)"
      ]
     },
     "execution_count": 27,
     "metadata": {},
     "output_type": "execute_result"
    }
   ],
   "source": [
    "svd_features = 20\n",
    "\n",
    "svd_title = TruncatedSVD(n_components=svd_features, algorithm='arpack')\n",
    "svd_title.fit(tfidf_title.transform(df_all['title']))"
   ]
  },
  {
   "cell_type": "code",
   "execution_count": 28,
   "metadata": {},
   "outputs": [
    {
     "data": {
      "text/plain": [
       "TruncatedSVD(algorithm='arpack', n_components=20, n_iter=5, random_state=None,\n",
       "       tol=0.0)"
      ]
     },
     "execution_count": 28,
     "metadata": {},
     "output_type": "execute_result"
    }
   ],
   "source": [
    "svd_descr = TruncatedSVD(n_components=svd_features, algorithm='arpack')\n",
    "svd_descr.fit(tfidf_descr.transform(df_all['description']))"
   ]
  },
  {
   "cell_type": "code",
   "execution_count": 29,
   "metadata": {},
   "outputs": [
    {
     "data": {
      "text/plain": [
       "TruncatedSVD(algorithm='arpack', n_components=20, n_iter=5, random_state=None,\n",
       "       tol=0.0)"
      ]
     },
     "execution_count": 29,
     "metadata": {},
     "output_type": "execute_result"
    }
   ],
   "source": [
    "svd_params = TruncatedSVD(n_components=svd_features, algorithm='arpack')\n",
    "svd_params.fit(tfidf_params.transform(df_all['params']))"
   ]
  },
  {
   "cell_type": "code",
   "execution_count": null,
   "metadata": {
    "collapsed": true
   },
   "outputs": [],
   "source": []
  },
  {
   "cell_type": "code",
   "execution_count": 30,
   "metadata": {},
   "outputs": [
    {
     "data": {
      "text/plain": [
       "140"
      ]
     },
     "execution_count": 30,
     "metadata": {},
     "output_type": "execute_result"
    }
   ],
   "source": [
    "title_features = np.array(svd_title.transform(tfidf_title.transform(df_all['title'])), dtype=np.float16)\n",
    "\n",
    "for i in range(svd_features):\n",
    "    df_all['title_feature_' + str(i)] = title_features[:, i]\n",
    "\n",
    "del title_features\n",
    "gc.collect()\n",
    "\n",
    "description_features = np.array(svd_descr.transform(tfidf_descr.transform(df_all['description'])), dtype=np.float16)\n",
    "\n",
    "for i in range(svd_features):\n",
    "    df_all['description_feature_' + str(i)] = description_features[:, i]\n",
    "\n",
    "del description_features\n",
    "gc.collect()\n",
    "\n",
    "params_features = np.array(svd_params.transform(tfidf_params.transform(df_all['params'])), dtype=np.float16)\n",
    "\n",
    "for i in range(svd_features):\n",
    "    df_all['params_feature_' + str(i)] = params_features[:, i]\n",
    "\n",
    "del params_features\n",
    "gc.collect()"
   ]
  },
  {
   "cell_type": "code",
   "execution_count": null,
   "metadata": {
    "collapsed": true
   },
   "outputs": [],
   "source": []
  },
  {
   "cell_type": "code",
   "execution_count": 31,
   "metadata": {},
   "outputs": [
    {
     "data": {
      "text/plain": [
       "0.22550636859039797"
      ]
     },
     "execution_count": 31,
     "metadata": {},
     "output_type": "execute_result"
    }
   ],
   "source": [
    "svd_title.explained_variance_ratio_.sum()"
   ]
  },
  {
   "cell_type": "code",
   "execution_count": 32,
   "metadata": {},
   "outputs": [
    {
     "data": {
      "text/plain": [
       "0.19335975975655548"
      ]
     },
     "execution_count": 32,
     "metadata": {},
     "output_type": "execute_result"
    }
   ],
   "source": [
    "svd_descr.explained_variance_ratio_.sum()"
   ]
  },
  {
   "cell_type": "code",
   "execution_count": 33,
   "metadata": {},
   "outputs": [
    {
     "data": {
      "text/plain": [
       "0.39168218944408556"
      ]
     },
     "execution_count": 33,
     "metadata": {},
     "output_type": "execute_result"
    }
   ],
   "source": [
    "svd_params.explained_variance_ratio_.sum()"
   ]
  },
  {
   "cell_type": "code",
   "execution_count": null,
   "metadata": {
    "collapsed": true
   },
   "outputs": [],
   "source": []
  },
  {
   "cell_type": "code",
   "execution_count": 38,
   "metadata": {},
   "outputs": [
    {
     "data": {
      "text/plain": [
       "30"
      ]
     },
     "execution_count": 38,
     "metadata": {},
     "output_type": "execute_result"
    }
   ],
   "source": [
    "img_features_train = sparse.load_npz(f'{PATH}/train/train_features.npz')\n",
    "img_features_test = sparse.load_npz(f'{PATH}/test/test_features.npz')\n",
    "\n",
    "img_features_sparse = sparse.vstack([img_features_train, img_features_test])\n",
    "del img_features_train, img_features_test\n",
    "gc.collect()"
   ]
  },
  {
   "cell_type": "code",
   "execution_count": 35,
   "metadata": {},
   "outputs": [
    {
     "data": {
      "text/plain": [
       "TruncatedSVD(algorithm='arpack', n_components=32, n_iter=5, random_state=None,\n",
       "       tol=0.0)"
      ]
     },
     "execution_count": 35,
     "metadata": {},
     "output_type": "execute_result"
    }
   ],
   "source": [
    "number_img_features = 32\n",
    "\n",
    "svd_img_features = TruncatedSVD(n_components=number_img_features, algorithm='arpack')\n",
    "svd_img_features.fit(img_features)"
   ]
  },
  {
   "cell_type": "code",
   "execution_count": 36,
   "metadata": {},
   "outputs": [
    {
     "data": {
      "text/plain": [
       "0.55953503"
      ]
     },
     "execution_count": 36,
     "metadata": {},
     "output_type": "execute_result"
    }
   ],
   "source": [
    "svd_img_features.explained_variance_ratio_.sum()"
   ]
  },
  {
   "cell_type": "code",
   "execution_count": 39,
   "metadata": {
    "collapsed": true
   },
   "outputs": [],
   "source": []
  },
  {
   "cell_type": "code",
   "execution_count": 40,
   "metadata": {},
   "outputs": [
    {
     "data": {
      "text/plain": [
       "246"
      ]
     },
     "execution_count": 40,
     "metadata": {},
     "output_type": "execute_result"
    }
   ],
   "source": [
    "img_features = np.array(svd_img_features.transform(img_features_sparse), dtype=np.float16)\n",
    "\n",
    "for i in range(number_img_features):\n",
    "    df_all['img_feature_' + str(i)] = img_features[:, i]\n",
    "\n",
    "del img_features_sparse, img_features, svd_img_features\n",
    "gc.collect()\n"
   ]
  },
  {
   "cell_type": "code",
   "execution_count": null,
   "metadata": {
    "collapsed": true
   },
   "outputs": [],
   "source": []
  },
  {
   "cell_type": "code",
   "execution_count": 34,
   "metadata": {
    "collapsed": true
   },
   "outputs": [],
   "source": [
    "# msk = np.array([i for i in range(len(df_all))])\n",
    "# msk_train = (msk < 1390439)\n",
    "# msk_valid = (msk >= 1390439) & (msk < 1503424)\n",
    "# msk_test = (msk >= 1503424)"
   ]
  },
  {
   "cell_type": "code",
   "execution_count": 35,
   "metadata": {
    "collapsed": true
   },
   "outputs": [],
   "source": [
    "# df_train = df_all_sparse[msk_train]"
   ]
  },
  {
   "cell_type": "code",
   "execution_count": 36,
   "metadata": {
    "collapsed": true
   },
   "outputs": [],
   "source": [
    "# df_val = df_all_sparse[msk_valid]"
   ]
  },
  {
   "cell_type": "code",
   "execution_count": 37,
   "metadata": {
    "collapsed": true
   },
   "outputs": [],
   "source": [
    "# df_test = df_all_sparse[msk_test]"
   ]
  },
  {
   "cell_type": "code",
   "execution_count": 25,
   "metadata": {},
   "outputs": [
    {
     "ename": "KeyError",
     "evalue": "\"labels ['params'] not contained in axis\"",
     "output_type": "error",
     "traceback": [
      "\u001b[0;31m---------------------------------------------------------------------------\u001b[0m",
      "\u001b[0;31mKeyError\u001b[0m                                  Traceback (most recent call last)",
      "\u001b[0;32m<ipython-input-25-253498e43b67>\u001b[0m in \u001b[0;36m<module>\u001b[0;34m()\u001b[0m\n\u001b[0;32m----> 1\u001b[0;31m \u001b[0mdf_all\u001b[0m\u001b[0;34m.\u001b[0m\u001b[0mdrop\u001b[0m\u001b[0;34m(\u001b[0m\u001b[0mlabels\u001b[0m\u001b[0;34m=\u001b[0m\u001b[0;34m[\u001b[0m\u001b[0;34m'param_1'\u001b[0m\u001b[0;34m,\u001b[0m \u001b[0;34m'param_2'\u001b[0m\u001b[0;34m,\u001b[0m \u001b[0;34m'param_3'\u001b[0m\u001b[0;34m,\u001b[0m \u001b[0;34m'title'\u001b[0m\u001b[0;34m,\u001b[0m \u001b[0;34m'description'\u001b[0m\u001b[0;34m,\u001b[0m \u001b[0;34m'params'\u001b[0m\u001b[0;34m,\u001b[0m \u001b[0;34m'image'\u001b[0m\u001b[0;34m]\u001b[0m\u001b[0;34m,\u001b[0m \u001b[0maxis\u001b[0m\u001b[0;34m=\u001b[0m\u001b[0;36m1\u001b[0m\u001b[0;34m,\u001b[0m \u001b[0minplace\u001b[0m\u001b[0;34m=\u001b[0m\u001b[0;32mTrue\u001b[0m\u001b[0;34m)\u001b[0m\u001b[0;34m\u001b[0m\u001b[0m\n\u001b[0m",
      "\u001b[0;32m~/anaconda3/lib/python3.6/site-packages/pandas/core/frame.py\u001b[0m in \u001b[0;36mdrop\u001b[0;34m(self, labels, axis, index, columns, level, inplace, errors)\u001b[0m\n\u001b[1;32m   3692\u001b[0m                                            \u001b[0mindex\u001b[0m\u001b[0;34m=\u001b[0m\u001b[0mindex\u001b[0m\u001b[0;34m,\u001b[0m \u001b[0mcolumns\u001b[0m\u001b[0;34m=\u001b[0m\u001b[0mcolumns\u001b[0m\u001b[0;34m,\u001b[0m\u001b[0;34m\u001b[0m\u001b[0m\n\u001b[1;32m   3693\u001b[0m                                            \u001b[0mlevel\u001b[0m\u001b[0;34m=\u001b[0m\u001b[0mlevel\u001b[0m\u001b[0;34m,\u001b[0m \u001b[0minplace\u001b[0m\u001b[0;34m=\u001b[0m\u001b[0minplace\u001b[0m\u001b[0;34m,\u001b[0m\u001b[0;34m\u001b[0m\u001b[0m\n\u001b[0;32m-> 3694\u001b[0;31m                                            errors=errors)\n\u001b[0m\u001b[1;32m   3695\u001b[0m \u001b[0;34m\u001b[0m\u001b[0m\n\u001b[1;32m   3696\u001b[0m     @rewrite_axis_style_signature('mapper', [('copy', True),\n",
      "\u001b[0;32m~/anaconda3/lib/python3.6/site-packages/pandas/core/generic.py\u001b[0m in \u001b[0;36mdrop\u001b[0;34m(self, labels, axis, index, columns, level, inplace, errors)\u001b[0m\n\u001b[1;32m   3106\u001b[0m         \u001b[0;32mfor\u001b[0m \u001b[0maxis\u001b[0m\u001b[0;34m,\u001b[0m \u001b[0mlabels\u001b[0m \u001b[0;32min\u001b[0m \u001b[0maxes\u001b[0m\u001b[0;34m.\u001b[0m\u001b[0mitems\u001b[0m\u001b[0;34m(\u001b[0m\u001b[0;34m)\u001b[0m\u001b[0;34m:\u001b[0m\u001b[0;34m\u001b[0m\u001b[0m\n\u001b[1;32m   3107\u001b[0m             \u001b[0;32mif\u001b[0m \u001b[0mlabels\u001b[0m \u001b[0;32mis\u001b[0m \u001b[0;32mnot\u001b[0m \u001b[0;32mNone\u001b[0m\u001b[0;34m:\u001b[0m\u001b[0;34m\u001b[0m\u001b[0m\n\u001b[0;32m-> 3108\u001b[0;31m                 \u001b[0mobj\u001b[0m \u001b[0;34m=\u001b[0m \u001b[0mobj\u001b[0m\u001b[0;34m.\u001b[0m\u001b[0m_drop_axis\u001b[0m\u001b[0;34m(\u001b[0m\u001b[0mlabels\u001b[0m\u001b[0;34m,\u001b[0m \u001b[0maxis\u001b[0m\u001b[0;34m,\u001b[0m \u001b[0mlevel\u001b[0m\u001b[0;34m=\u001b[0m\u001b[0mlevel\u001b[0m\u001b[0;34m,\u001b[0m \u001b[0merrors\u001b[0m\u001b[0;34m=\u001b[0m\u001b[0merrors\u001b[0m\u001b[0;34m)\u001b[0m\u001b[0;34m\u001b[0m\u001b[0m\n\u001b[0m\u001b[1;32m   3109\u001b[0m \u001b[0;34m\u001b[0m\u001b[0m\n\u001b[1;32m   3110\u001b[0m         \u001b[0;32mif\u001b[0m \u001b[0minplace\u001b[0m\u001b[0;34m:\u001b[0m\u001b[0;34m\u001b[0m\u001b[0m\n",
      "\u001b[0;32m~/anaconda3/lib/python3.6/site-packages/pandas/core/generic.py\u001b[0m in \u001b[0;36m_drop_axis\u001b[0;34m(self, labels, axis, level, errors)\u001b[0m\n\u001b[1;32m   3138\u001b[0m                 \u001b[0mnew_axis\u001b[0m \u001b[0;34m=\u001b[0m \u001b[0maxis\u001b[0m\u001b[0;34m.\u001b[0m\u001b[0mdrop\u001b[0m\u001b[0;34m(\u001b[0m\u001b[0mlabels\u001b[0m\u001b[0;34m,\u001b[0m \u001b[0mlevel\u001b[0m\u001b[0;34m=\u001b[0m\u001b[0mlevel\u001b[0m\u001b[0;34m,\u001b[0m \u001b[0merrors\u001b[0m\u001b[0;34m=\u001b[0m\u001b[0merrors\u001b[0m\u001b[0;34m)\u001b[0m\u001b[0;34m\u001b[0m\u001b[0m\n\u001b[1;32m   3139\u001b[0m             \u001b[0;32melse\u001b[0m\u001b[0;34m:\u001b[0m\u001b[0;34m\u001b[0m\u001b[0m\n\u001b[0;32m-> 3140\u001b[0;31m                 \u001b[0mnew_axis\u001b[0m \u001b[0;34m=\u001b[0m \u001b[0maxis\u001b[0m\u001b[0;34m.\u001b[0m\u001b[0mdrop\u001b[0m\u001b[0;34m(\u001b[0m\u001b[0mlabels\u001b[0m\u001b[0;34m,\u001b[0m \u001b[0merrors\u001b[0m\u001b[0;34m=\u001b[0m\u001b[0merrors\u001b[0m\u001b[0;34m)\u001b[0m\u001b[0;34m\u001b[0m\u001b[0m\n\u001b[0m\u001b[1;32m   3141\u001b[0m             \u001b[0mdropped\u001b[0m \u001b[0;34m=\u001b[0m \u001b[0mself\u001b[0m\u001b[0;34m.\u001b[0m\u001b[0mreindex\u001b[0m\u001b[0;34m(\u001b[0m\u001b[0;34m**\u001b[0m\u001b[0;34m{\u001b[0m\u001b[0maxis_name\u001b[0m\u001b[0;34m:\u001b[0m \u001b[0mnew_axis\u001b[0m\u001b[0;34m}\u001b[0m\u001b[0;34m)\u001b[0m\u001b[0;34m\u001b[0m\u001b[0m\n\u001b[1;32m   3142\u001b[0m             \u001b[0;32mtry\u001b[0m\u001b[0;34m:\u001b[0m\u001b[0;34m\u001b[0m\u001b[0m\n",
      "\u001b[0;32m~/anaconda3/lib/python3.6/site-packages/pandas/core/indexes/base.py\u001b[0m in \u001b[0;36mdrop\u001b[0;34m(self, labels, errors)\u001b[0m\n\u001b[1;32m   4385\u001b[0m             \u001b[0;32mif\u001b[0m \u001b[0merrors\u001b[0m \u001b[0;34m!=\u001b[0m \u001b[0;34m'ignore'\u001b[0m\u001b[0;34m:\u001b[0m\u001b[0;34m\u001b[0m\u001b[0m\n\u001b[1;32m   4386\u001b[0m                 raise KeyError(\n\u001b[0;32m-> 4387\u001b[0;31m                     'labels %s not contained in axis' % labels[mask])\n\u001b[0m\u001b[1;32m   4388\u001b[0m             \u001b[0mindexer\u001b[0m \u001b[0;34m=\u001b[0m \u001b[0mindexer\u001b[0m\u001b[0;34m[\u001b[0m\u001b[0;34m~\u001b[0m\u001b[0mmask\u001b[0m\u001b[0;34m]\u001b[0m\u001b[0;34m\u001b[0m\u001b[0m\n\u001b[1;32m   4389\u001b[0m         \u001b[0;32mreturn\u001b[0m \u001b[0mself\u001b[0m\u001b[0;34m.\u001b[0m\u001b[0mdelete\u001b[0m\u001b[0;34m(\u001b[0m\u001b[0mindexer\u001b[0m\u001b[0;34m)\u001b[0m\u001b[0;34m\u001b[0m\u001b[0m\n",
      "\u001b[0;31mKeyError\u001b[0m: \"labels ['params'] not contained in axis\""
     ]
    }
   ],
   "source": [
    "df_all.drop(labels=['param_1', 'param_2', 'param_3', 'title', 'description', 'params', 'image'], axis=1, inplace=True)"
   ]
  },
  {
   "cell_type": "code",
   "execution_count": 26,
   "metadata": {},
   "outputs": [],
   "source": [
    "df_train = df_all[df_all.activation_date < '2017-03-28']"
   ]
  },
  {
   "cell_type": "code",
   "execution_count": 27,
   "metadata": {},
   "outputs": [],
   "source": [
    "df_val = df_all[(df_all.activation_date >= '2017-03-28') & (df_all.activation_date <= '2017-04-07')]"
   ]
  },
  {
   "cell_type": "code",
   "execution_count": 28,
   "metadata": {},
   "outputs": [],
   "source": [
    "df_test = df_all[df_all.activation_date >= '2017-04-12']"
   ]
  },
  {
   "cell_type": "code",
   "execution_count": 46,
   "metadata": {
    "scrolled": true
   },
   "outputs": [
    {
     "data": {
      "text/plain": [
       "1390439"
      ]
     },
     "execution_count": 46,
     "metadata": {},
     "output_type": "execute_result"
    }
   ],
   "source": [
    "len(df_train)"
   ]
  },
  {
   "cell_type": "code",
   "execution_count": 47,
   "metadata": {},
   "outputs": [
    {
     "data": {
      "text/plain": [
       "112985"
      ]
     },
     "execution_count": 47,
     "metadata": {},
     "output_type": "execute_result"
    }
   ],
   "source": [
    "len(df_val)"
   ]
  },
  {
   "cell_type": "code",
   "execution_count": null,
   "metadata": {
    "collapsed": true
   },
   "outputs": [],
   "source": []
  },
  {
   "cell_type": "code",
   "execution_count": 48,
   "metadata": {
    "collapsed": true
   },
   "outputs": [],
   "source": [
    "#df_train.dtypes"
   ]
  },
  {
   "cell_type": "code",
   "execution_count": 49,
   "metadata": {
    "collapsed": true
   },
   "outputs": [],
   "source": [
    "df_submission = pd.DataFrame(df_test['item_id'])"
   ]
  },
  {
   "cell_type": "code",
   "execution_count": 29,
   "metadata": {},
   "outputs": [
    {
     "name": "stderr",
     "output_type": "stream",
     "text": [
      "/home/axel/anaconda3/lib/python3.6/site-packages/pandas/core/frame.py:3694: SettingWithCopyWarning: \n",
      "A value is trying to be set on a copy of a slice from a DataFrame\n",
      "\n",
      "See the caveats in the documentation: http://pandas.pydata.org/pandas-docs/stable/indexing.html#indexing-view-versus-copy\n",
      "  errors=errors)\n"
     ]
    }
   ],
   "source": [
    "df_train.drop(labels=['activation_date', 'item_id'], axis=1, inplace=True)\n",
    "df_val.drop(labels=['activation_date', 'item_id'], axis=1, inplace=True)\n",
    "df_test.drop(labels=['activation_date', 'item_id', 'deal_probability'], axis=1, inplace=True)"
   ]
  },
  {
   "cell_type": "code",
   "execution_count": null,
   "metadata": {
    "collapsed": true
   },
   "outputs": [],
   "source": []
  },
  {
   "cell_type": "code",
   "execution_count": 51,
   "metadata": {
    "collapsed": true
   },
   "outputs": [],
   "source": [
    "# df_submission = pd.read_feather('df_sub')"
   ]
  },
  {
   "cell_type": "code",
   "execution_count": 52,
   "metadata": {
    "collapsed": true
   },
   "outputs": [],
   "source": [
    "# X_train = pd.read_feather('X_train'); y_train = pd.read_feather('y_train').as_matrix().ravel()"
   ]
  },
  {
   "cell_type": "code",
   "execution_count": 53,
   "metadata": {
    "collapsed": true
   },
   "outputs": [],
   "source": [
    "# X_valid = pd.read_feather('X_valid'); y_valid = pd.read_feather('y_valid').as_matrix().ravel()"
   ]
  },
  {
   "cell_type": "code",
   "execution_count": 54,
   "metadata": {
    "collapsed": true
   },
   "outputs": [],
   "source": [
    "# X_test = pd.read_feather('X_test')"
   ]
  },
  {
   "cell_type": "code",
   "execution_count": null,
   "metadata": {
    "collapsed": true
   },
   "outputs": [],
   "source": []
  },
  {
   "cell_type": "code",
   "execution_count": null,
   "metadata": {
    "collapsed": true
   },
   "outputs": [],
   "source": []
  },
  {
   "cell_type": "code",
   "execution_count": 30,
   "metadata": {},
   "outputs": [
    {
     "name": "stderr",
     "output_type": "stream",
     "text": [
      "/home/axel/anaconda3/lib/python3.6/site-packages/pandas/core/frame.py:3694: SettingWithCopyWarning: \n",
      "A value is trying to be set on a copy of a slice from a DataFrame\n",
      "\n",
      "See the caveats in the documentation: http://pandas.pydata.org/pandas-docs/stable/indexing.html#indexing-view-versus-copy\n",
      "  errors=errors)\n"
     ]
    }
   ],
   "source": [
    "X_train, y_train, _ = proc_df(df_train, 'deal_probability')"
   ]
  },
  {
   "cell_type": "code",
   "execution_count": 31,
   "metadata": {},
   "outputs": [
    {
     "name": "stderr",
     "output_type": "stream",
     "text": [
      "/home/axel/anaconda3/lib/python3.6/site-packages/pandas/core/frame.py:3694: SettingWithCopyWarning: \n",
      "A value is trying to be set on a copy of a slice from a DataFrame\n",
      "\n",
      "See the caveats in the documentation: http://pandas.pydata.org/pandas-docs/stable/indexing.html#indexing-view-versus-copy\n",
      "  errors=errors)\n"
     ]
    }
   ],
   "source": [
    "X_valid, y_valid, _ = proc_df(df_val, 'deal_probability')"
   ]
  },
  {
   "cell_type": "code",
   "execution_count": 32,
   "metadata": {},
   "outputs": [
    {
     "name": "stderr",
     "output_type": "stream",
     "text": [
      "/home/axel/anaconda3/lib/python3.6/site-packages/ipykernel_launcher.py:1: SettingWithCopyWarning: \n",
      "A value is trying to be set on a copy of a slice from a DataFrame.\n",
      "Try using .loc[row_indexer,col_indexer] = value instead\n",
      "\n",
      "See the caveats in the documentation: http://pandas.pydata.org/pandas-docs/stable/indexing.html#indexing-view-versus-copy\n",
      "  \"\"\"Entry point for launching an IPython kernel.\n",
      "/home/axel/anaconda3/lib/python3.6/site-packages/pandas/core/frame.py:3694: SettingWithCopyWarning: \n",
      "A value is trying to be set on a copy of a slice from a DataFrame\n",
      "\n",
      "See the caveats in the documentation: http://pandas.pydata.org/pandas-docs/stable/indexing.html#indexing-view-versus-copy\n",
      "  errors=errors)\n"
     ]
    }
   ],
   "source": [
    "df_test['dummy'] = np.zeros((len(df_test))); X_test, _, _ = proc_df(df_test, 'dummy')"
   ]
  },
  {
   "cell_type": "code",
   "execution_count": 58,
   "metadata": {},
   "outputs": [
    {
     "data": {
      "text/plain": [
       "115"
      ]
     },
     "execution_count": 58,
     "metadata": {},
     "output_type": "execute_result"
    }
   ],
   "source": [
    "del df_all; del df_train; del df_val; del df_test; del df;\n",
    "gc.collect()"
   ]
  },
  {
   "cell_type": "code",
   "execution_count": null,
   "metadata": {
    "collapsed": true
   },
   "outputs": [],
   "source": []
  },
  {
   "cell_type": "code",
   "execution_count": 33,
   "metadata": {},
   "outputs": [],
   "source": [
    "remove_na_columns(X_train)\n",
    "remove_na_columns(X_valid)\n",
    "remove_na_columns(X_test)\n",
    "\n",
    "remove_columns_with_nans(X_train)\n",
    "remove_columns_with_nans(X_valid)\n",
    "remove_columns_with_nans(X_test)"
   ]
  },
  {
   "cell_type": "code",
   "execution_count": null,
   "metadata": {
    "collapsed": true
   },
   "outputs": [],
   "source": []
  },
  {
   "cell_type": "code",
   "execution_count": null,
   "metadata": {
    "collapsed": true
   },
   "outputs": [],
   "source": []
  },
  {
   "cell_type": "code",
   "execution_count": null,
   "metadata": {
    "collapsed": true
   },
   "outputs": [],
   "source": [
    "#X_train.dtypes"
   ]
  },
  {
   "cell_type": "code",
   "execution_count": null,
   "metadata": {
    "collapsed": true
   },
   "outputs": [],
   "source": []
  },
  {
   "cell_type": "code",
   "execution_count": 41,
   "metadata": {
    "collapsed": true
   },
   "outputs": [],
   "source": [
    "# space = {\n",
    "#         'n_estimators': hp.uniform('x_n_estimators', 150, 250),\n",
    "#         'max_depth': hp.uniform(\"x_max_depth\", 10, 70),\n",
    "#         'min_child_weight': hp.uniform('x_min_child', 1, 2),\n",
    "#         'subsample': hp.uniform('x_subsample', 0.85, 0.95),\n",
    "#         'reg_alpha': hp.uniform('x_reg_alpha', 0, 1.5),\n",
    "#         'reg_lambda': hp.uniform('x_reg_lambda', 0, 3.5),\n",
    "#         'colsample_bylevel': hp.uniform('x_colsample_bylevel', 0.2, 0.7),\n",
    "#         'colsample_bytree': hp.uniform('x_colsample_bytree', 0.2, 0.7),\n",
    "#         'learning_rate': hp.uniform('x_learning_rate', 0.05, 0.5),\n",
    "#         'gamma': hp.uniform('x_gamma', 0, 1),\n",
    "#         #'scale_pos_weight': hp.uniform('x_scale_pos_weight', 0, 1)\n",
    "#     }"
   ]
  },
  {
   "cell_type": "code",
   "execution_count": null,
   "metadata": {
    "collapsed": true
   },
   "outputs": [],
   "source": [
    "# trials = Trials()\n",
    "# best = fmin(fn=objective,\n",
    "#             space=space,\n",
    "#             algo=tpe.suggest,\n",
    "#             max_evals=10,\n",
    "#             trials=trials)"
   ]
  },
  {
   "cell_type": "code",
   "execution_count": null,
   "metadata": {
    "collapsed": true
   },
   "outputs": [],
   "source": []
  },
  {
   "cell_type": "code",
   "execution_count": null,
   "metadata": {
    "collapsed": true
   },
   "outputs": [],
   "source": []
  },
  {
   "cell_type": "code",
   "execution_count": 42,
   "metadata": {
    "collapsed": true
   },
   "outputs": [],
   "source": [
    "#reg_lambda de 0.29 a 1.29 (si)\n",
    "#reg_alpha de 1.18 a 2.18 (si)\n",
    "#colsample_bytree de 0.35 a 0.50 (no)\n",
    "#colsample_bytree de 0.35 a 0.25 (si)\n",
    "#learning_rate de 0.13 a 0.23 (no)\n",
    "\n",
    "#clf = xgb.XGBRegressor(n_jobs=4,\n",
    "#                        n_estimators = 1000, \n",
    "#                        learning_rate = 0.30774999932786233,\n",
    "#                        max_depth = 62,\n",
    "#                        min_child_weight = 1.0233847718190983,\n",
    "#                        subsample = 0.85298705648176,\n",
    "#                        reg_alpha = 3.1867660576819443,\n",
    "#                        reg_lambda = 3.29044542975829774,\n",
    "#                        colsample_bylevel = 0.2148790179469499,\n",
    "#                        colsample_bytree = 0.2086361239400142,\n",
    "#                        gamma=2.3194278336025607)\n",
    "    \n",
    "#eval_set  = [(X_train, y_train), (X_valid, y_valid)]\n",
    "\n",
    "#clf.fit(X_train, y_train, eval_set=eval_set, eval_metric=\"rmse\", early_stopping_rounds=20)"
   ]
  },
  {
   "cell_type": "code",
   "execution_count": 43,
   "metadata": {
    "collapsed": true
   },
   "outputs": [],
   "source": [
    "#y_pred = clf.predict(X_valid, ntree_limit=clf.best_ntree_limit)\n",
    "#y_pred = np.clip(y_pred, 0, 1)"
   ]
  },
  {
   "cell_type": "code",
   "execution_count": 55,
   "metadata": {},
   "outputs": [
    {
     "data": {
      "text/plain": [
       "0"
      ]
     },
     "execution_count": 55,
     "metadata": {},
     "output_type": "execute_result"
    }
   ],
   "source": [
    "#pd.DataFrame(y_pred, columns=['deal_probability']).to_feather(f'{PATH}y_pred')"
   ]
  },
  {
   "cell_type": "code",
   "execution_count": null,
   "metadata": {
    "collapsed": true
   },
   "outputs": [],
   "source": []
  },
  {
   "cell_type": "code",
   "execution_count": null,
   "metadata": {
    "collapsed": true
   },
   "outputs": [],
   "source": []
  },
  {
   "cell_type": "code",
   "execution_count": 35,
   "metadata": {},
   "outputs": [],
   "source": [
    "#train = lgb.Dataset(pd.concat([X_train, X_valid], axis=0), label=np.concatenate([y_train, y_valid], axis=0))\n",
    "train = lgb.Dataset(X_train, label=y_train)\n",
    "val = lgb.Dataset(X_valid, label=y_valid)"
   ]
  },
  {
   "cell_type": "code",
   "execution_count": null,
   "metadata": {},
   "outputs": [],
   "source": []
  },
  {
   "cell_type": "code",
   "execution_count": 23,
   "metadata": {
    "collapsed": true
   },
   "outputs": [],
   "source": [
    "from skopt.space import Real, Integer\n",
    "\n",
    "space  = [Integer(5, 60, name='max_depth'),\n",
    "          Integer(10, 200, name='num_leaves'),\n",
    "          Integer(10, 200, name='min_data_per_leaf'),\n",
    "          Real(0.05, 20, name='min_child_weight'),\n",
    "          Real(0.6, 0.9, name='subsample'),\n",
    "          Integer(10, 60, name='subsample_freq'),\n",
    "          Real(0, 50, name='lambda_l1'),\n",
    "          Real(0, 50, name='lambda_l2'),\n",
    "          Real(0.2, 0.9, name='feature_fraction'),\n",
    "          Real(0.03, 0.08, name='learning_rate')\n",
    "         ]"
   ]
  },
  {
   "cell_type": "code",
   "execution_count": 24,
   "metadata": {
    "collapsed": true
   },
   "outputs": [],
   "source": [
    "def objective2(values):\n",
    "    \n",
    "    params = {\n",
    "        \"objective\" : \"regression\",\n",
    "        \"metric\" : \"rmse\",\n",
    "        \"n_estimators\": 5000,\n",
    "        \"max_depth\": values[0],\n",
    "        \"num_leaves\" : values[1],\n",
    "        \"min_data_per_leaf\": values[2],\n",
    "        \"min_child_weight\": values[3],\n",
    "        \"subsample\" : values[4],\n",
    "        \"subsample_freq\" : values[5],\n",
    "        \"lambda_l1\": values[6],\n",
    "        \"lambda_l2\": values[7],\n",
    "        \"feature_fraction\" : values[8],\n",
    "        \"learning_rate\" : values[9],\n",
    "        \"bagging_seed\" : 16,\n",
    "        \"device\" : \"gpu\",\n",
    "        \"max_bin\": 64\n",
    "    }\n",
    "\n",
    "    print(\"params: \")\n",
    "    print(\"max_depth: \" + str(values[0]))\n",
    "    print(\"num_leaves: \" + str(values[1]))\n",
    "    print(\"min_data_per_leaf: \" + str(values[2]))\n",
    "    print(\"min_child_weight: \" + str(values[3]))\n",
    "    print(\"subsample: \" + str(values[4]))\n",
    "    print(\"subsample_freq: \" + str(values[5]))\n",
    "    print(\"lambda_l1: \" + str(values[6]))\n",
    "    print(\"lambda_l2: \" + str(values[7]))\n",
    "    print(\"feature_fraction: \" + str(values[8]))\n",
    "    print(\"learning rate: \" + str(values[9]))\n",
    "    \n",
    "    \n",
    "    model = lgb.train(params, train, valid_sets=[train, val], early_stopping_rounds=200, verbose_eval=10)\n",
    "    \n",
    "    y_pred = model.predict(X_valid, num_iteration=model.best_iteration)\n",
    "    y_pred = np.clip(y_pred, 0, 1)\n",
    "    \n",
    "    \n",
    "    print(\"rmse:\" + str(rmse(y_valid, y_pred)))\n",
    "    \n",
    "    gc.collect()\n",
    "    \n",
    "    return rmse(y_valid, y_pred)\n",
    "\n"
   ]
  },
  {
   "cell_type": "code",
   "execution_count": null,
   "metadata": {},
   "outputs": [
    {
     "name": "stdout",
     "output_type": "stream",
     "text": [
      "params: \n",
      "max_depth: 38\n",
      "num_leaves: 170\n",
      "min_data_per_leaf: 173\n",
      "min_child_weight: 16.952672188743307\n",
      "subsample: 0.7870691090357917\n",
      "subsample_freq: 29\n",
      "lambda_l1: 14.876730327223617\n",
      "lambda_l2: 2.8356488658721597\n",
      "feature_fraction: 0.3908594062060793\n",
      "learning rate: 0.0538832558660675\n"
     ]
    },
    {
     "name": "stderr",
     "output_type": "stream",
     "text": [
      "/home/axel/anaconda3/lib/python3.6/site-packages/lightgbm/engine.py:99: UserWarning: Found `n_estimators` in params. Will use it instead of argument\n",
      "  warnings.warn(\"Found `{}` in params. Will use it instead of argument\".format(alias))\n"
     ]
    },
    {
     "name": "stdout",
     "output_type": "stream",
     "text": [
      "Training until validation scores don't improve for 200 rounds.\n",
      "[10]\ttraining's rmse: 0.245825\tvalid_1's rmse: 0.244324\n"
     ]
    }
   ],
   "source": [
    "res_gp = gp_minimize(objective2, space, n_calls=50,\n",
    "                     random_state=0,n_random_starts=3)"
   ]
  },
  {
   "cell_type": "code",
   "execution_count": null,
   "metadata": {
    "collapsed": true
   },
   "outputs": [],
   "source": []
  },
  {
   "cell_type": "code",
   "execution_count": null,
   "metadata": {
    "collapsed": true
   },
   "outputs": [],
   "source": []
  },
  {
   "cell_type": "code",
   "execution_count": 46,
   "metadata": {
    "collapsed": true
   },
   "outputs": [],
   "source": [
    "# space = {\n",
    "#         'max_depth': hp.uniform(\"x_max_depth\", 10, 70),\n",
    "#         'min_child_weight': hp.uniform('x_min_child', 0.05, 2),\n",
    "#         'min_data_per_leaf': hp.uniform('min_data_per_leaf', 20, 80),\n",
    "#         'num_leaves': hp.uniform('num_leaves', 20, 80),\n",
    "#         'subsample': hp.uniform('x_subsample', 0.7, 0.95),\n",
    "#         'subsample_freq': hp.uniform('x_subsample_freq', 1, 6),\n",
    "#         'lambda_l1': hp.uniform('x_lambda_l1', 0, 8),\n",
    "#         'lambda_l2': hp.uniform('x_lambda_l2', 0, 8),\n",
    "#         'feature_fraction': hp.uniform('x_feature_fraction', 0.2, 0.8),\n",
    "#         'learning_rate': hp.uniform('x_learning_rate', 0.07, 0.13),\n",
    "#     }"
   ]
  },
  {
   "cell_type": "code",
   "execution_count": 50,
   "metadata": {
    "collapsed": true,
    "scrolled": false
   },
   "outputs": [],
   "source": [
    "# trials = Trials()\n",
    "# best = fmin(fn=objective_lgb,\n",
    "#             space=space,\n",
    "#             algo=tpe.suggest,\n",
    "#             max_evals=40,\n",
    "#             trials=trials)"
   ]
  },
  {
   "cell_type": "code",
   "execution_count": 36,
   "metadata": {
    "scrolled": true
   },
   "outputs": [
    {
     "name": "stderr",
     "output_type": "stream",
     "text": [
      "/home/axel/anaconda3/lib/python3.6/site-packages/lightgbm/engine.py:104: UserWarning: Found `n_estimators` in params. Will use it instead of argument\n",
      "  warnings.warn(\"Found `{}` in params. Will use it instead of argument\".format(alias))\n"
     ]
    },
    {
     "name": "stdout",
     "output_type": "stream",
     "text": [
      "Training until validation scores don't improve for 100 rounds.\n",
      "[10]\ttraining's rmse: 0.250171\tvalid_1's rmse: 0.248939\n",
      "[20]\ttraining's rmse: 0.24603\tvalid_1's rmse: 0.244648\n",
      "[30]\ttraining's rmse: 0.243038\tvalid_1's rmse: 0.241483\n",
      "[40]\ttraining's rmse: 0.240745\tvalid_1's rmse: 0.238991\n",
      "[50]\ttraining's rmse: 0.239277\tvalid_1's rmse: 0.23738\n",
      "[60]\ttraining's rmse: 0.238299\tvalid_1's rmse: 0.236354\n",
      "[70]\ttraining's rmse: 0.237959\tvalid_1's rmse: 0.236015\n",
      "[80]\ttraining's rmse: 0.237126\tvalid_1's rmse: 0.235091\n",
      "[90]\ttraining's rmse: 0.236686\tvalid_1's rmse: 0.234673\n",
      "[100]\ttraining's rmse: 0.236057\tvalid_1's rmse: 0.234067\n",
      "[110]\ttraining's rmse: 0.235785\tvalid_1's rmse: 0.233799\n",
      "[120]\ttraining's rmse: 0.235427\tvalid_1's rmse: 0.233472\n",
      "[130]\ttraining's rmse: 0.235088\tvalid_1's rmse: 0.233136\n",
      "[140]\ttraining's rmse: 0.234796\tvalid_1's rmse: 0.232875\n",
      "[150]\ttraining's rmse: 0.234513\tvalid_1's rmse: 0.232614\n",
      "[160]\ttraining's rmse: 0.234227\tvalid_1's rmse: 0.232349\n",
      "[170]\ttraining's rmse: 0.234076\tvalid_1's rmse: 0.232221\n",
      "[180]\ttraining's rmse: 0.233851\tvalid_1's rmse: 0.232021\n",
      "[190]\ttraining's rmse: 0.233612\tvalid_1's rmse: 0.231797\n",
      "[200]\ttraining's rmse: 0.233477\tvalid_1's rmse: 0.23167\n",
      "[210]\ttraining's rmse: 0.233287\tvalid_1's rmse: 0.231495\n",
      "[220]\ttraining's rmse: 0.2331\tvalid_1's rmse: 0.231301\n",
      "[230]\ttraining's rmse: 0.232959\tvalid_1's rmse: 0.231181\n",
      "[240]\ttraining's rmse: 0.232808\tvalid_1's rmse: 0.231028\n",
      "[250]\ttraining's rmse: 0.232662\tvalid_1's rmse: 0.230897\n",
      "[260]\ttraining's rmse: 0.23256\tvalid_1's rmse: 0.230808\n",
      "[270]\ttraining's rmse: 0.232463\tvalid_1's rmse: 0.230713\n",
      "[280]\ttraining's rmse: 0.232314\tvalid_1's rmse: 0.230573\n",
      "[290]\ttraining's rmse: 0.232253\tvalid_1's rmse: 0.230518\n",
      "[300]\ttraining's rmse: 0.232201\tvalid_1's rmse: 0.23047\n",
      "[310]\ttraining's rmse: 0.232169\tvalid_1's rmse: 0.230443\n",
      "[320]\ttraining's rmse: 0.23209\tvalid_1's rmse: 0.230373\n",
      "[330]\ttraining's rmse: 0.231945\tvalid_1's rmse: 0.230235\n",
      "[340]\ttraining's rmse: 0.231894\tvalid_1's rmse: 0.230191\n",
      "[350]\ttraining's rmse: 0.231807\tvalid_1's rmse: 0.230113\n"
     ]
    },
    {
     "ename": "KeyboardInterrupt",
     "evalue": "",
     "output_type": "error",
     "traceback": [
      "\u001b[0;31m---------------------------------------------------------------------------\u001b[0m",
      "\u001b[0;31mKeyboardInterrupt\u001b[0m                         Traceback (most recent call last)",
      "\u001b[0;32m<ipython-input-36-ae6b59f375ca>\u001b[0m in \u001b[0;36m<module>\u001b[0;34m()\u001b[0m\n\u001b[1;32m     18\u001b[0m     }\n\u001b[1;32m     19\u001b[0m \u001b[0;34m\u001b[0m\u001b[0m\n\u001b[0;32m---> 20\u001b[0;31m \u001b[0mmodel\u001b[0m \u001b[0;34m=\u001b[0m \u001b[0mlgb\u001b[0m\u001b[0;34m.\u001b[0m\u001b[0mtrain\u001b[0m\u001b[0;34m(\u001b[0m\u001b[0mparams\u001b[0m\u001b[0;34m,\u001b[0m \u001b[0mtrain\u001b[0m\u001b[0;34m,\u001b[0m \u001b[0mvalid_sets\u001b[0m\u001b[0;34m=\u001b[0m\u001b[0;34m[\u001b[0m\u001b[0mtrain\u001b[0m\u001b[0;34m,\u001b[0m \u001b[0mval\u001b[0m\u001b[0;34m]\u001b[0m\u001b[0;34m,\u001b[0m \u001b[0mearly_stopping_rounds\u001b[0m\u001b[0;34m=\u001b[0m\u001b[0;36m100\u001b[0m\u001b[0;34m,\u001b[0m \u001b[0mverbose_eval\u001b[0m\u001b[0;34m=\u001b[0m\u001b[0;36m10\u001b[0m\u001b[0;34m)\u001b[0m\u001b[0;34m\u001b[0m\u001b[0m\n\u001b[0m",
      "\u001b[0;32m~/anaconda3/lib/python3.6/site-packages/lightgbm/engine.py\u001b[0m in \u001b[0;36mtrain\u001b[0;34m(params, train_set, num_boost_round, valid_sets, valid_names, fobj, feval, init_model, feature_name, categorical_feature, early_stopping_rounds, evals_result, verbose_eval, learning_rates, keep_training_booster, callbacks)\u001b[0m\n\u001b[1;32m    204\u001b[0m                                     evaluation_result_list=None))\n\u001b[1;32m    205\u001b[0m \u001b[0;34m\u001b[0m\u001b[0m\n\u001b[0;32m--> 206\u001b[0;31m         \u001b[0mbooster\u001b[0m\u001b[0;34m.\u001b[0m\u001b[0mupdate\u001b[0m\u001b[0;34m(\u001b[0m\u001b[0mfobj\u001b[0m\u001b[0;34m=\u001b[0m\u001b[0mfobj\u001b[0m\u001b[0;34m)\u001b[0m\u001b[0;34m\u001b[0m\u001b[0m\n\u001b[0m\u001b[1;32m    207\u001b[0m \u001b[0;34m\u001b[0m\u001b[0m\n\u001b[1;32m    208\u001b[0m         \u001b[0mevaluation_result_list\u001b[0m \u001b[0;34m=\u001b[0m \u001b[0;34m[\u001b[0m\u001b[0;34m]\u001b[0m\u001b[0;34m\u001b[0m\u001b[0m\n",
      "\u001b[0;32m~/anaconda3/lib/python3.6/site-packages/lightgbm/basic.py\u001b[0m in \u001b[0;36mupdate\u001b[0;34m(self, train_set, fobj)\u001b[0m\n\u001b[1;32m   1576\u001b[0m             _safe_call(_LIB.LGBM_BoosterUpdateOneIter(\n\u001b[1;32m   1577\u001b[0m                 \u001b[0mself\u001b[0m\u001b[0;34m.\u001b[0m\u001b[0mhandle\u001b[0m\u001b[0;34m,\u001b[0m\u001b[0;34m\u001b[0m\u001b[0m\n\u001b[0;32m-> 1578\u001b[0;31m                 ctypes.byref(is_finished)))\n\u001b[0m\u001b[1;32m   1579\u001b[0m             \u001b[0mself\u001b[0m\u001b[0;34m.\u001b[0m\u001b[0m__is_predicted_cur_iter\u001b[0m \u001b[0;34m=\u001b[0m \u001b[0;34m[\u001b[0m\u001b[0;32mFalse\u001b[0m \u001b[0;32mfor\u001b[0m \u001b[0m_\u001b[0m \u001b[0;32min\u001b[0m \u001b[0mrange_\u001b[0m\u001b[0;34m(\u001b[0m\u001b[0mself\u001b[0m\u001b[0;34m.\u001b[0m\u001b[0m__num_dataset\u001b[0m\u001b[0;34m)\u001b[0m\u001b[0;34m]\u001b[0m\u001b[0;34m\u001b[0m\u001b[0m\n\u001b[1;32m   1580\u001b[0m             \u001b[0;32mreturn\u001b[0m \u001b[0mis_finished\u001b[0m\u001b[0;34m.\u001b[0m\u001b[0mvalue\u001b[0m \u001b[0;34m==\u001b[0m \u001b[0;36m1\u001b[0m\u001b[0;34m\u001b[0m\u001b[0m\n",
      "\u001b[0;31mKeyboardInterrupt\u001b[0m: "
     ]
    }
   ],
   "source": [
    "params = {\n",
    "        \"objective\" : \"regression\",\n",
    "        \"metric\" : \"rmse\",\n",
    "        \"n_estimators\": 5000,\n",
    "        \"max_depth\": 7, #64\n",
    "        \"min_data_per_leaf\": 10, #57\n",
    "        \"min_child_weight\": 5.4985683305030175,\n",
    "        \"num_leaves\" : 60, \n",
    "        \"learning_rate\" : 0.07,\n",
    "        \"subsample\" : 0.50,\n",
    "        \"subsample_freq\" : 50,\n",
    "        \"lambda_l1\": 20, #5\n",
    "        \"lambda_l2\": 30, #4\n",
    "        \"feature_fraction\" : 0.15, #0.28\n",
    "        \"bagging_seed\" : 16,\n",
    "        \"device\" : \"gpu\",\n",
    "        \"max_bin\": 64,\n",
    "    }\n",
    "\n",
    "model = lgb.train(params, train, valid_sets=[train, val], early_stopping_rounds=100, verbose_eval=10)\n",
    "\n"
   ]
  },
  {
   "cell_type": "code",
   "execution_count": 73,
   "metadata": {
    "collapsed": true
   },
   "outputs": [],
   "source": [
    "y_pred = model.predict(X_valid, num_iteration=model.best_iteration)\n",
    "y_pred = np.clip(y_pred, 0, 1)"
   ]
  },
  {
   "cell_type": "code",
   "execution_count": 74,
   "metadata": {},
   "outputs": [
    {
     "data": {
      "text/plain": [
       "0.21892000745065576"
      ]
     },
     "execution_count": 74,
     "metadata": {},
     "output_type": "execute_result"
    }
   ],
   "source": [
    "rmse(y_valid, y_pred) "
   ]
  },
  {
   "cell_type": "code",
   "execution_count": null,
   "metadata": {
    "collapsed": true
   },
   "outputs": [],
   "source": []
  },
  {
   "cell_type": "code",
   "execution_count": 75,
   "metadata": {
    "collapsed": true
   },
   "outputs": [],
   "source": [
    "gain = model.feature_importance('gain')"
   ]
  },
  {
   "cell_type": "code",
   "execution_count": 76,
   "metadata": {},
   "outputs": [
    {
     "data": {
      "text/plain": [
       "<matplotlib.axes._subplots.AxesSubplot at 0x7f298759fb38>"
      ]
     },
     "execution_count": 76,
     "metadata": {},
     "output_type": "execute_result"
    }
   ],
   "source": [
    "ft = pd.DataFrame({'feature':model.feature_name(), 'split':model.feature_importance('split'), 'gain':100 * gain / gain.sum()}).sort_values('gain', ascending=True)\n",
    "plt.figure()\n",
    "ft[['feature','gain']].head(25).plot(kind='barh', x='feature', y='gain', legend=False, figsize=(10, 20))"
   ]
  },
  {
   "cell_type": "code",
   "execution_count": 77,
   "metadata": {},
   "outputs": [
    {
     "data": {
      "text/plain": [
       "<matplotlib.figure.Figure at 0x7f297f2cbda0>"
      ]
     },
     "metadata": {},
     "output_type": "display_data"
    },
    {
     "data": {
      "text/plain": [
       "<matplotlib.figure.Figure at 0x7f298672fcf8>"
      ]
     },
     "metadata": {},
     "output_type": "display_data"
    },
    {
     "data": {
      "image/png": "[encoded data removed]",
      "text/plain": [
       "<matplotlib.figure.Figure at 0x7f298759fda0>"
      ]
     },
     "metadata": {},
     "output_type": "display_data"
    }
   ],
   "source": [
    "plt.show(); plt.clf()"
   ]
  },
  {
   "cell_type": "code",
   "execution_count": 78,
   "metadata": {
    "collapsed": true
   },
   "outputs": [],
   "source": [
    "#calculate_feature_importance(model, X_train.columns)"
   ]
  },
  {
   "cell_type": "code",
   "execution_count": null,
   "metadata": {
    "collapsed": true
   },
   "outputs": [],
   "source": []
  },
  {
   "cell_type": "code",
   "execution_count": null,
   "metadata": {
    "collapsed": true
   },
   "outputs": [],
   "source": []
  },
  {
   "cell_type": "code",
   "execution_count": 78,
   "metadata": {
    "collapsed": true
   },
   "outputs": [],
   "source": [
    "#y_pred = clf.predict(X_test)\n",
    "y_pred = model.predict(X_test, num_iteration=model.best_iteration)\n",
    "y_pred = np.clip(y_pred, 0, 1)"
   ]
  },
  {
   "cell_type": "code",
   "execution_count": 79,
   "metadata": {
    "collapsed": true
   },
   "outputs": [],
   "source": [
    "df_submission['deal_probability'] = y_pred"
   ]
  },
  {
   "cell_type": "code",
   "execution_count": 80,
   "metadata": {
    "collapsed": true
   },
   "outputs": [],
   "source": [
    "df_submission[['item_id','deal_probability']].to_csv('../../../submission.csv', index=False)"
   ]
  },
  {
   "cell_type": "code",
   "execution_count": null,
   "metadata": {
    "collapsed": true
   },
   "outputs": [],
   "source": []
  },
  {
   "cell_type": "code",
   "execution_count": 19,
   "metadata": {},
   "outputs": [
    {
     "data": {
      "text/plain": [
       "['4f029e2a00e892aa2cac27d98b52ef8b13d91471f613c8d3c38e3f29d4da0b0c',\n",
       " '8513a91e55670c709069b5f85e12a59095b802877715903abef16b7a6f306e58',\n",
       " '60d310a42e87cdf799afcd89dc1b11ae3fdc3d0233747ec7ef78d82c87002e83',\n",
       " 'b98b291bd04c3d92165ca515e00468fd9756af9a8f1df42505deed1dcfb5d7ae']"
      ]
     },
     "execution_count": 19,
     "metadata": {},
     "output_type": "execute_result"
    }
   ],
   "source": [
    "['4f029e2a00e892aa2cac27d98b52ef8b13d91471f613c8d3c38e3f29d4da0b0c',\n",
    " '8513a91e55670c709069b5f85e12a59095b802877715903abef16b7a6f306e58',\n",
    " '60d310a42e87cdf799afcd89dc1b11ae3fdc3d0233747ec7ef78d82c87002e83',\n",
    " 'b98b291bd04c3d92165ca515e00468fd9756af9a8f1df42505deed1dcfb5d7ae']\n",
    "\n"
   ]
  },
  {
   "cell_type": "code",
   "execution_count": 17,
   "metadata": {
    "collapsed": true
   },
   "outputs": [],
   "source": []
  },
  {
   "cell_type": "code",
   "execution_count": 18,
   "metadata": {
    "collapsed": true
   },
   "outputs": [],
   "source": [
    "df_img = pd.DataFrame(df['image'], columns=['image'])"
   ]
  },
  {
   "cell_type": "code",
   "execution_count": 19,
   "metadata": {
    "collapsed": true
   },
   "outputs": [],
   "source": [
    "df_img.dropna(axis=0, inplace=True)"
   ]
  },
  {
   "cell_type": "code",
   "execution_count": 20,
   "metadata": {
    "collapsed": true
   },
   "outputs": [],
   "source": [
    "df_img.reset_index(inplace=True)"
   ]
  },
  {
   "cell_type": "code",
   "execution_count": 21,
   "metadata": {
    "collapsed": true
   },
   "outputs": [],
   "source": [
    "df_img.drop(labels=['index'], axis=1, inplace=True)"
   ]
  },
  {
   "cell_type": "code",
   "execution_count": 22,
   "metadata": {
    "collapsed": true
   },
   "outputs": [],
   "source": [
    "df_img = df_img[(df_img.image != '4f029e2a00e892aa2cac27d98b52ef8b13d91471f613c8d3c38e3f29d4da0b0c')\n",
    "              & (df_img.image != '8513a91e55670c709069b5f85e12a59095b802877715903abef16b7a6f306e58')\n",
    "              & (df_img.image != '60d310a42e87cdf799afcd89dc1b11ae3fdc3d0233747ec7ef78d82c87002e83')\n",
    "              & (df_img.image != 'b98b291bd04c3d92165ca515e00468fd9756af9a8f1df42505deed1dcfb5d7ae')]"
   ]
  },
  {
   "cell_type": "code",
   "execution_count": 23,
   "metadata": {},
   "outputs": [
    {
     "data": {
      "text/plain": [
       "1390832"
      ]
     },
     "execution_count": 23,
     "metadata": {},
     "output_type": "execute_result"
    }
   ],
   "source": [
    "len(df_img)"
   ]
  },
  {
   "cell_type": "code",
   "execution_count": 24,
   "metadata": {
    "collapsed": true
   },
   "outputs": [],
   "source": [
    "xception_model = xception.Xception(weights='imagenet')"
   ]
  },
  {
   "cell_type": "code",
   "execution_count": 25,
   "metadata": {
    "collapsed": true
   },
   "outputs": [],
   "source": [
    "img_path = '/media/axel/ssd/train/data/competition_files/'"
   ]
  },
  {
   "cell_type": "code",
   "execution_count": 26,
   "metadata": {
    "collapsed": true
   },
   "outputs": [],
   "source": [
    "#vgg_model = vgg.VGG16(weights='imagenet', include_top=False)"
   ]
  },
  {
   "cell_type": "code",
   "execution_count": 27,
   "metadata": {
    "collapsed": true
   },
   "outputs": [],
   "source": [
    "#vgg_model.layers.pop()"
   ]
  },
  {
   "cell_type": "code",
   "execution_count": 28,
   "metadata": {
    "collapsed": true
   },
   "outputs": [],
   "source": [
    "# x = vgg_model.layers[-1].output\n",
    "# x = GlobalAveragePooling2D()(x)"
   ]
  },
  {
   "cell_type": "code",
   "execution_count": 29,
   "metadata": {
    "collapsed": true
   },
   "outputs": [],
   "source": [
    "#model = Model(input=vgg_model.input, outputs=x)"
   ]
  },
  {
   "cell_type": "code",
   "execution_count": 44,
   "metadata": {
    "collapsed": true
   },
   "outputs": [],
   "source": [
    "# img = Image.open(img_path + 'train_jpg/00000acce78ccf00d3ca0c550cae60fb319d45861444b310559a47dac016c383.jpg')\n",
    "# target_size = (150, 150)\n",
    "# if img.size != target_size:\n",
    "#     img = img.resize(target_size)\n",
    "# x = image.img_to_array(img)\n",
    "# x = np.expand_dims(x, axis=0)\n",
    "# x = xception.preprocess_input(x)\n"
   ]
  },
  {
   "cell_type": "code",
   "execution_count": 47,
   "metadata": {},
   "outputs": [
    {
     "data": {
      "text/plain": [
       "array([[0.34469, 0.49798, 0.     , ..., 0.     , 0.03051, 0.     ]], dtype=float32)"
      ]
     },
     "execution_count": 47,
     "metadata": {},
     "output_type": "execute_result"
    }
   ],
   "source": [
    "# model.predict(x)"
   ]
  },
  {
   "cell_type": "code",
   "execution_count": null,
   "metadata": {
    "collapsed": true
   },
   "outputs": [],
   "source": []
  },
  {
   "cell_type": "code",
   "execution_count": 32,
   "metadata": {
    "collapsed": true
   },
   "outputs": [],
   "source": [
    "#failed = []"
   ]
  },
  {
   "cell_type": "code",
   "execution_count": 33,
   "metadata": {
    "collapsed": true,
    "scrolled": true
   },
   "outputs": [],
   "source": [
    "# for i in tqdm(range(len(df_img))):\n",
    "#     try:\n",
    "#         img = Image.open(img_path + df_img['image'][i] + '.jpg')\n",
    "#     except:\n",
    "#         failed.append(str(df_img['image'][i]))"
   ]
  },
  {
   "cell_type": "code",
   "execution_count": 28,
   "metadata": {
    "collapsed": true
   },
   "outputs": [],
   "source": [
    "gen = ImageDataGenerator(preprocessing_function=xception.preprocess_input)"
   ]
  },
  {
   "cell_type": "code",
   "execution_count": 30,
   "metadata": {},
   "outputs": [
    {
     "name": "stdout",
     "output_type": "stream",
     "text": [
      "Found 1390832 images belonging to 1 classes.\n"
     ]
    }
   ],
   "source": [
    "data_gen = gen.flow_from_directory(img_path, target_size=(150,150), batch_size=2000, shuffle=False)"
   ]
  },
  {
   "cell_type": "code",
   "execution_count": null,
   "metadata": {
    "collapsed": true
   },
   "outputs": [],
   "source": []
  },
  {
   "cell_type": "code",
   "execution_count": 31,
   "metadata": {},
   "outputs": [
    {
     "data": {
      "text/plain": [
       "696"
      ]
     },
     "execution_count": 31,
     "metadata": {},
     "output_type": "execute_result"
    }
   ],
   "source": [
    "len(data_gen)"
   ]
  },
  {
   "cell_type": "code",
   "execution_count": 32,
   "metadata": {
    "collapsed": true
   },
   "outputs": [],
   "source": [
    "model = Model(inputs=xception_model.input, outputs=xception_model.get_layer('avg_pool').output)"
   ]
  },
  {
   "cell_type": "code",
   "execution_count": 33,
   "metadata": {
    "collapsed": true
   },
   "outputs": [],
   "source": [
    "preds = model.predict(data_gen.next()[0], verbose=0).astype(np.float16)"
   ]
  },
  {
   "cell_type": "code",
   "execution_count": 34,
   "metadata": {},
   "outputs": [
    {
     "name": "stderr",
     "output_type": "stream",
     "text": [
      "100%|██████████| 695/695 [2:05:18<00:00, 10.82s/it]  \n"
     ]
    }
   ],
   "source": [
    "for i in tqdm(range(len(data_gen)-1)):\n",
    "    preds = np.vstack((preds, model.predict(data_gen.next()[0], verbose=0).astype(np.float16)))"
   ]
  },
  {
   "cell_type": "code",
   "execution_count": null,
   "metadata": {
    "collapsed": true
   },
   "outputs": [],
   "source": []
  },
  {
   "cell_type": "code",
   "execution_count": 36,
   "metadata": {
    "scrolled": true
   },
   "outputs": [
    {
     "data": {
      "text/plain": [
       "array([0.3447 , 0.498  , 0.     , ..., 0.     , 0.03052, 0.     ], dtype=float16)"
      ]
     },
     "execution_count": 36,
     "metadata": {},
     "output_type": "execute_result"
    }
   ],
   "source": [
    "preds[0]"
   ]
  },
  {
   "cell_type": "code",
   "execution_count": 37,
   "metadata": {},
   "outputs": [
    {
     "data": {
      "text/plain": [
       "carray((1390832, 2048), float16)\n",
       "  nbytes := 5.31 GB; cbytes := 5.11 GB; ratio: 1.04\n",
       "  cparams := cparams(clevel=5, shuffle=1, cname='lz4', quantize=0)\n",
       "  chunklen := 512; chunksize: 2097152; blocksize: 32768\n",
       "  rootdir := '/media/axel/ssd/train/data/competition_files/'\n",
       "  mode    := 'w'\n",
       "[[ 0.34472656  0.49804688  0.         ...,  0.          0.03051758  0.        ]\n",
       " [ 0.10443115  0.04989624  0.18334961 ...,  0.01448822  0.04537964  0.        ]\n",
       " [ 1.23046875  1.60546875  0.         ...,  0.01643372  0.          0.        ]\n",
       " ..., \n",
       " [ 0.3605957   0.94042969  0.         ...,  0.12841797  0.03295898\n",
       "   0.08215332]\n",
       " [ 0.          0.          0.64648438 ...,  0.          0.          0.86083984]\n",
       " [ 0.          0.23657227  0.         ...,  0.06414795  0.          0.        ]]"
      ]
     },
     "execution_count": 37,
     "metadata": {},
     "output_type": "execute_result"
    }
   ],
   "source": [
    "bcolz.carray(preds, rootdir=img_path, mode='w')"
   ]
  },
  {
   "cell_type": "code",
   "execution_count": 38,
   "metadata": {
    "collapsed": true
   },
   "outputs": [],
   "source": [
    "p = bcolz.open(img_path)"
   ]
  },
  {
   "cell_type": "code",
   "execution_count": 40,
   "metadata": {},
   "outputs": [
    {
     "data": {
      "text/plain": [
       "array([0.3447 , 0.498  , 0.     , ..., 0.     , 0.03052, 0.     ], dtype=float16)"
      ]
     },
     "execution_count": 40,
     "metadata": {},
     "output_type": "execute_result"
    }
   ],
   "source": [
    "p[0]"
   ]
  },
  {
   "cell_type": "code",
   "execution_count": 27,
   "metadata": {},
   "outputs": [
    {
     "data": {
      "text/plain": [
       "['4f029e2a00e892aa2cac27d98b52ef8b13d91471f613c8d3c38e3f29d4da0b0c',\n",
       " '8513a91e55670c709069b5f85e12a59095b802877715903abef16b7a6f306e58',\n",
       " '60d310a42e87cdf799afcd89dc1b11ae3fdc3d0233747ec7ef78d82c87002e83',\n",
       " 'b98b291bd04c3d92165ca515e00468fd9756af9a8f1df42505deed1dcfb5d7ae']"
      ]
     },
     "execution_count": 27,
     "metadata": {},
     "output_type": "execute_result"
    }
   ],
   "source": [
    "failed"
   ]
  }
 ],
 "metadata": {
  "kernelspec": {
   "display_name": "Python 3",
   "language": "python",
   "name": "python3"
  },
  "language_info": {
   "codemirror_mode": {
    "name": "ipython",
    "version": 3
   },
   "file_extension": ".py",
   "mimetype": "text/x-python",
   "name": "python",
   "nbconvert_exporter": "python",
   "pygments_lexer": "ipython3",
   "version": "3.6.5"
  }
 },
 "nbformat": 4,
 "nbformat_minor": 2
}
