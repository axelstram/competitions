{
 "cells": [
  {
   "cell_type": "code",
   "execution_count": 3,
   "metadata": {},
   "outputs": [],
   "source": [
    "import pandas as pd\n",
    "import numpy as np\n",
    "import math\n",
    "from keras.models import Model\n",
    "from keras.layers import *\n",
    "from keras.layers.merge import concatenate, dot, multiply, add\n",
    "from keras.callbacks import Callback, EarlyStopping, ModelCheckpoint, ReduceLROnPlateau, LearningRateScheduler\n",
    "from keras.optimizers import *\n",
    "from keras import backend as K\n",
    "from keras import losses\n",
    "from keras.preprocessing.text import Tokenizer\n",
    "from keras.utils import to_categorical\n",
    "from keras.preprocessing.sequence import pad_sequences\n",
    "from clr import CyclicLR\n",
    "import matplotlib.pyplot as plt\n",
    "from nltk.corpus import stopwords\n",
    "from tqdm import tqdm\n",
    "import gc\n",
    "from sklearn import model_selection\n",
    "import tensorflow as tf\n",
    "import sys\n",
    "from keras.layers.noise import GaussianNoise\n",
    "import bcolz\n",
    "\n",
    "from IPython.display import SVG\n",
    "from keras.utils.vis_utils import model_to_dot"
   ]
  },
  {
   "cell_type": "code",
   "execution_count": 4,
   "metadata": {},
   "outputs": [],
   "source": [
    "def log_prices(data):\n",
    "    prices = data.price.as_matrix()\n",
    "    prices = np.log1p(prices)\n",
    "    prices[prices==-np.inf] = -1\n",
    "    return prices"
   ]
  },
  {
   "cell_type": "code",
   "execution_count": 5,
   "metadata": {},
   "outputs": [],
   "source": [
    "def root_mean_squared_error(y_true, y_pred):\n",
    "        return K.sqrt(K.mean(K.square(y_true - y_pred))) "
   ]
  },
  {
   "cell_type": "code",
   "execution_count": 6,
   "metadata": {},
   "outputs": [],
   "source": [
    "def get_coefs(word, *arr): return word, np.asarray(arr, dtype='float32')"
   ]
  },
  {
   "cell_type": "code",
   "execution_count": 7,
   "metadata": {},
   "outputs": [],
   "source": [
    "def tokenizer_fit(col, df_train, df_test):\n",
    "    tokenizer = Tokenizer(filters='', lower=False, split='뷁', oov_token='oov')\n",
    "    tokenizer.fit_on_texts(df_train[col])\n",
    "    train_sequences = np.array(tokenizer.texts_to_sequences(df_train[col]))\n",
    "    test_sequences = np.array(tokenizer.texts_to_sequences(df_test[col]))\n",
    "    \n",
    "    return train_sequences, test_sequences, tokenizer"
   ]
  },
  {
   "cell_type": "code",
   "execution_count": 8,
   "metadata": {},
   "outputs": [],
   "source": [
    "def group_target_by_fields(df, target, cols = None):\n",
    "    if cols is None:\n",
    "        cols = df.columns\n",
    "    \n",
    "    mean_dicts = {}\n",
    "    std_dicts = {}\n",
    "    \n",
    "    target_mean = df[target].mean()\n",
    "    target_std = df[target].std()\n",
    "    \n",
    "    for c in cols:\n",
    "        gp = df.groupby(c)[target]\n",
    "        mean = gp.mean()\n",
    "        std  = gp.std()\n",
    "        \n",
    "        \n",
    "        if pd.DataFrame(mean).isnull().values.any():\n",
    "            mean = mean.fillna(target_mean)\n",
    "            \n",
    "        if pd.DataFrame(std).isnull().values.any():\n",
    "            std = std.fillna(target_std)\n",
    "            \n",
    "        df[c + '_' + target + '_avg'] = df[c].map(mean)\n",
    "        df[c + '_' + target + '_std'] = df[c].map(std)\n",
    "        \n",
    "        mean_dicts[c] = mean.to_dict()\n",
    "        std_dicts[c] = std.to_dict()\n",
    "        \n",
    "    return mean_dicts, std_dicts"
   ]
  },
  {
   "cell_type": "code",
   "execution_count": 9,
   "metadata": {},
   "outputs": [],
   "source": [
    "def do_feature_engineering(df, text_features, cat_features):\n",
    "    for col in text_features:\n",
    "        df[col] = df[col].str.lower()\n",
    "        df[col] = df[col].str.replace(\"[^[:alpha:]]\", \" \")\n",
    "        df[col] = df[col].str.replace(\"\\\\s+\", \" \")\n",
    "        df[col + '_num_chars'] = df[col].apply(len)\n",
    "        df[col + '_num_words'] = df[col].apply(lambda comment: len(comment.split()))\n",
    "        df[col + '_num_unique_words'] = df[col].apply(lambda comment: len(set(w for w in comment.split())))\n",
    "        df[col + '_words_vs_unique'] = df[col+'_num_unique_words'] / df[col+'_num_words'] * 100\n",
    "\n",
    "    return group_target_by_fields(df, target='deal_probability', cols=cat_features)"
   ]
  },
  {
   "cell_type": "code",
   "execution_count": 10,
   "metadata": {},
   "outputs": [],
   "source": [
    "def plot_lr(history):\n",
    "    plt.ylabel(\"loss\")\n",
    "    plt.xlabel(\"learning rate\")\n",
    "    plt.plot(history['lr'], history['loss'])\n",
    "    plt.show()"
   ]
  },
  {
   "cell_type": "code",
   "execution_count": 11,
   "metadata": {},
   "outputs": [],
   "source": [
    "def append_text_features(X, descr_features, title_features, params_features, descr_repeat_times=1,\n",
    "                         title_repeat_times=1, params_repeat_times=1, idx=None):\n",
    "        \n",
    "    for i in range(descr_repeat_times):\n",
    "        X.append(descr_features[idx])\n",
    "    \n",
    "    for i in range(title_repeat_times):\n",
    "        X.append(title_features[idx])\n",
    "        \n",
    "    for i in range(params_repeat_times):\n",
    "        X.append(params_features[idx])"
   ]
  },
  {
   "cell_type": "code",
   "execution_count": 12,
   "metadata": {},
   "outputs": [],
   "source": [
    "def exp_decay(epoch):\n",
    "    initial_lrate = learning_rate\n",
    "    k = 0.1\n",
    "    lrate = initial_lrate * math.exp(-k*epoch)\n",
    "    print(lrate)\n",
    "    \n",
    "    return lrate"
   ]
  },
  {
   "cell_type": "code",
   "execution_count": 54,
   "metadata": {},
   "outputs": [],
   "source": [
    "def get_model():\n",
    "    K.clear_session()\n",
    "    inp_region = Input(shape=(1, ), name='inp_region')\n",
    "    emb_region = Embedding(len_region, size_emb_region, name='emb_region')(inp_region)\n",
    "    emb_region = Reshape(target_shape=(size_emb_region,))(emb_region)\n",
    "    \n",
    "    inp_parentcatname = Input(shape=(1, ), name='inp_parent_category_name')\n",
    "    emb_parentcatname = Embedding(len_parentcatname, size_emb_parentcatname, name='emb_parent_category_name')(inp_parentcatname)\n",
    "    emb_parentcatname = Reshape(target_shape=(size_emb_parentcatname,))(emb_parentcatname)\n",
    "    \n",
    "    inp_catname = Input(shape=(1, ), name='inp_category_name')\n",
    "    emb_catname = Embedding(len_catname, size_emb_catname, name=\"emb_category_name\")(inp_catname)\n",
    "    emb_catname = Reshape(target_shape=(size_emb_catname,))(emb_catname)\n",
    "    \n",
    "    inp_usertype = Input(shape=(1, ), name='inp_user_type')\n",
    "    emb_usertype = Embedding(len_usertype, size_emb_usertype, name='emb_user_type')(inp_usertype)\n",
    "    emb_usertype = Reshape(target_shape=(size_emb_usertype,))(emb_usertype)\n",
    "        \n",
    "    inp_city = Input(shape=(1, ), name='inp_city')\n",
    "    emb_city = Embedding(len_city, size_emb_city, name='emb_city')(inp_city)\n",
    "    emb_city = Reshape(target_shape=(size_emb_city,))(emb_city)\n",
    "    \n",
    "    inp_week = Input(shape=(1, ), name='inp_week')\n",
    "    emb_week = Embedding(len_week, size_emb_week, name='emb_week')(inp_week)\n",
    "    emb_week = Reshape(target_shape=(size_emb_week,))(emb_week)\n",
    "    \n",
    "    inp_day = Input(shape=(1, ), name='inp_day_of_month')\n",
    "    emb_day = Embedding(len_day_month, size_emb_day_month, name='emb_day_of_month')(inp_day)\n",
    "    emb_day = Reshape(target_shape=(size_emb_day_month,))(emb_day)\n",
    "    \n",
    "    inp_imgt1 = Input(shape=(1, ), name='inp_imgt1')\n",
    "    emb_imgt1 = Embedding(len_imgt1, size_emb_imgt1, name='emb_imgt1')(inp_imgt1)\n",
    "    emb_imgt1 = Reshape(target_shape=(size_emb_imgt1,))(emb_imgt1)\n",
    "    \n",
    "    inp_price = Input(shape=(1, ), name='inp_price')\n",
    "    #x = GaussianNoise(1)(inp_price)\n",
    "    #emb_price = Dense(size_emb_price, activation='tanh', name='emb_price')(x)\n",
    "\n",
    "    inp_itemseq = Input(shape=(1, ), name='inp_itemseq')\n",
    "    #emb_itemseq = Dense(size_emb_itemseq, activation='tanh', name='emb_itemseq')(inp_itemseq)\n",
    "    \n",
    "    #inp_feat_eng = Input(shape=(len_feat_eng, ), name='inp_feat_eng')\n",
    "    #x = GaussianNoise(1)(inp_feat_eng)\n",
    "    #emb_feat_eng = Dense(size_emb_feat_eng, activation='tanh', name='emb_feat_eng')(x)\n",
    "    \n",
    "    conc_cat_and_cont = concatenate([emb_region, emb_parentcatname, emb_catname, emb_usertype, emb_city, emb_week, \n",
    "                             emb_day, emb_imgt1, inp_price, inp_itemseq], axis=-1, name='concat_cat_and_cont')\n",
    "    \n",
    "#     x = Dropout(dropout)(conc_cat_and_cont)\n",
    "#     x = Dense(25, activation='relu')(x)\n",
    "#     x = BatchNormalization()(x)\n",
    "#     x = Dropout(dropout)(x)\n",
    "#     conc_cat_and_cont = Dense(25, activation='relu')(x)\n",
    "    \n",
    "\n",
    "    \n",
    "    ### title\n",
    "    # channel 1\n",
    "   \n",
    "    embedding = Embedding(vocabulary_size, size_emb_title, name='emb_title_1')\n",
    "    \n",
    "#     input_title_1 = Input(shape=(maxlen_title,), name='input_title_1')\n",
    "#     embedding_for_title = embedding(input_title_1)\n",
    "#     x = Dropout(dropout)(embedding_for_title)\n",
    "#     x = GRU(5, dropout=dropout, recurrent_dropout=dropout, return_sequences=True)(x)\n",
    "#     title_layer = GRU(5, dropout=dropout, recurrent_dropout=dropout, return_sequences=False)(x)\n",
    "    \n",
    "    \n",
    "    #x = BatchNormalization()(x)\n",
    "    #x = Dropout(dropout)(x)\n",
    "    #x = Conv1D(filters=8, kernel_size=1, activation='relu')(x)\n",
    "    #x = BatchNormalization()(x)\n",
    "    #x = Dropout(dropout)(x)\n",
    "    #x = Conv1D(filters=8, kernel_size=1, activation='relu')(x)\n",
    "    #avg_pool = GlobalAveragePooling1D()(x)\n",
    "    #max_pool = GlobalMaxPooling1D()(x)\n",
    "    #title_layer = concatenate([avg_pool, max_pool])\n",
    "    \n",
    "    input_descr_1 = Input(shape=(maxlen_description, ), name='inp_descr_1')\n",
    "    embedding_for_descr = embedding(input_descr_1)\n",
    "    #x = Dropout(dropout)(embedding_for_descr)\n",
    "    descr_layer = GRU(50)(embedding_for_descr)\n",
    "    # = GRU(5, dropout=dropout, recurrent_dropout=dropout, return_sequences=False)(x)\n",
    "    \n",
    "#     x = BatchNormalization()(x)\n",
    "#     x = Dropout(dropout)(x)\n",
    "#     x = Conv1D(filters=8, kernel_size=1, activation='relu')(x)\n",
    "#     #x = BatchNormalization()(x)\n",
    "#     #x = Dropout(dropout)(x)\n",
    "#     #x = Conv1D(filters=8, kernel_size=1, activation='relu')(x)\n",
    "#     avg_pool = GlobalAveragePooling1D()(x)\n",
    "#     max_pool = GlobalMaxPooling1D()(x)\n",
    "#    descr_layer = concatenate([avg_pool, max_pool])\n",
    "    \n",
    "#     input_params_1 = Input(shape=(maxlen_params, ), name='inp_params_1')\n",
    "#     embedding_for_params = embedding(input_params_1)\n",
    "#     x = Dropout(dropout)(embedding_for_params)\n",
    "#     x = GRU(5, dropout=dropout, recurrent_dropout=dropout, return_sequences=True)(x)\n",
    "#     params_layer = GRU(5, dropout=dropout, recurrent_dropout=dropout, return_sequences=False)(x)\n",
    "    \n",
    "#     x = BatchNormalization()(x)\n",
    "#     x = Dropout(dropout)(x)\n",
    "#     x = Conv1D(filters=8, kernel_size=1, activation='relu')(x)\n",
    "#     #x = BatchNormalization()(x)\n",
    "#     #x = Dropout(dropout)(x)\n",
    "#     #x = Conv1D(filters=8, kernel_size=1, activation='relu')(x)\n",
    "#     avg_pool = GlobalAveragePooling1D()(x)\n",
    "#     max_pool = GlobalMaxPooling1D()(x)\n",
    "#     params_layer = concatenate([avg_pool, max_pool])\n",
    "#     max_pool = GlobalMaxPooling1D()(x)\n",
    "#     title_layer = concatenate([avg_pool, max_pool])     # channel 2\n",
    "#     input_title_2 = Input(shape=(maxlen_title,), name='input_title_2')\n",
    "#     embedding2 = Embedding(title_vocabulary_size, size_emb_title, weights = [embedding_matrix_title], trainable=False, name='emb_title_2')(input_title_2)\n",
    "\n",
    "#     x = Dropout(dropout)(x)\n",
    "#     x = Conv1D(filters=64, kernel_size=2, activation='relu')(x)\n",
    "#     x = Dropout(dropout)(x)\n",
    "#     x = Conv1D(filters=128, kernel_size=2, activation='relu')(x)\n",
    "#     x = SpatialDropout1D(spatial_dropout)(x)\n",
    "#     x = Conv1D(filters=128, kernel_size=3, activation='relu')(x)\n",
    "#     x = SpatialDropout1D(spatial_dropout)(x)\n",
    "#     x = Conv1D(filters=256, kernel_size=4, activation='relu')(x)\n",
    "#     \n",
    "    # channel 3\n",
    "#     input_title_3 = Input(shape=(maxlen_title,), name='input_title_3')\n",
    "#     embedding3 = Embedding(title_vocabulary_size, size_emb_title, weights = [embedding_matrix_title], trainable=False, name='emb_title_3')(input_title_3)\n",
    "#     x = Dropout(dropout)(embedding3)\n",
    "#     x = Conv1D(filters=32, kernel_size=3, activation='relu')(x)\n",
    "#     x = Dropout(dropout)(x)\n",
    "#     x = Conv1D(filters=64, kernel_size=3, activation='relu')(x)\n",
    "#     x = Dropout(dropout)(x)\n",
    "#     x = Conv1D(filters=128, kernel_size=3, activation='relu')(x)\n",
    "#     x = SpatialDropout1D(spatial_dropout)(x)\n",
    "#     x = Conv1D(filters=128, kernel_size=4, activation='relu')(x)\n",
    "#     x = SpatialDropout1D(spatial_dropout)(x)\n",
    "#     x = Conv1D(filters=256, kernel_size=5, activation='relu')(x)\n",
    "#     avg_pool = GlobalAveragePooling1D()(x)\n",
    "#     max_pool = GlobalMaxPooling1D()(x)\n",
    "#     conc3 = concatenate([avg_pool, max_pool])#     # merge\n",
    "     \n",
    "#     merged = concatenate([conc1, conc2, conc3])\n",
    "#     # interpretation\n",
    "    #x = Dropout(dropout)(x)\n",
    "    #title_layer = Dense(50, activation='relu')(x)\n",
    "    \n",
    "    ### params\n",
    "    # channel 1\n",
    "#     input_params_1 = Input(shape=(maxlen_params,), name='input_params_1')\n",
    "#     embedding1 = Embedding(params_vocabulary_size, size_emb_params, name='emb_params_1')(input_params_1)\n",
    "#     x = SpatialDropout1D(spatial_dropout)(embedding1)\n",
    "#     #x = Conv1D(filters=64, kernel_size=1, activation='relu')(x)\n",
    "#     #x = Bidirectional(GRU(40, return_sequences=True, dropout=dropout, recurrent_dropout=dropout))(x)\n",
    "#     #x = BatchNormalization()(x)\n",
    "#     x = Conv1D(filters=80, kernel_size=1, activation='relu', kernel_regularizer=regularizers.l2(0.5))(x)\n",
    "#     x = Dropout(dropout)(x)\n",
    "#     x = Conv1D(filters=128, kernel_size=3, activation='relu', kernel_regularizer=regularizers.l2(0.5))(x)\n",
    "#     #x = Bidirectional(GRU(40, return_sequences=True, dropout=dropout))(x)\n",
    "#     #x = SpatialDropout1D(spatial_dropout)(x)\n",
    "#     #x = Conv1D(filters=256, kernel_size=3, activation='relu')(x)\n",
    "#     #x = Bidirectional(GRU(40, return_sequences=True))(x)\n",
    "#     avg_pool = GlobalAveragePooling1D()(x)\n",
    "#     max_pool = GlobalMaxPooling1D()(x)\n",
    "#     conc = concatenate([avg_pool, max_pool])    \n",
    "#     # channel 2\n",
    "#     input_params_2 = Input(shape=(maxlen_params,), name='input_params_2')\n",
    "#     embedding2 = Embedding(params_vocabulary_size, size_emb_params, weights = [embedding_matrix_params], trainable=False, name='emb_params_2')(input_params_2)\n",
    "#     x = SpatialDropout1D(spatial_dropout)(embedding2)\n",
    "#     x = Conv1D(filters=64, kernel_size=2, activation='relu')(x)\n",
    "#     x = SpatialDropout1D(spatial_dropout)(x)\n",
    "#     x = Conv1D(filters=128, kernel_size=3, activation='relu')(x)\n",
    "#     x = SpatialDropout1D(spatial_dropout)(x)\n",
    "#     x = Conv1D(filters=256, kernel_size=4, activation='relu')(x)\n",
    "#     flat2 = GlobalMaxPool1D(name='global_max_pooling_params_2')(x)\n",
    "#     # channel 3\n",
    "#     input_params_3 = Input(shape=(maxlen_params,), name='input_params_3')\n",
    "#     embedding3 = Embedding(params_vocabulary_size, size_emb_params, weights = [embedding_matrix_params], trainable=False, name='emb_params_3')(input_params_3)\n",
    "#     x = SpatialDropout1D(spatial_dropout)(embedding3)\n",
    "#     x = Conv1D(filters=64, kernel_size=3, activation='relu')(x)\n",
    "#     x = SpatialDropout1D(spatial_dropout)(x)\n",
    "#     x = Conv1D(filters=128, kernel_size=4, activation='relu')(x)\n",
    "#     x = SpatialDropout1D(spatial_dropout)(x)\n",
    "#     x = Conv1D(filters=256, kernel_size=5, activation='relu')(x)\n",
    "#     flat3 = GlobalMaxPool1D(name='global_max_pooling_params_3')(x)\n",
    "#     # merge\n",
    "#     merged = concatenate([flat1, flat2, flat3])\n",
    "    # interpretation\n",
    "    #x = BatchNormalization()(conc)\n",
    "#     x = Dropout(dropout)(conc)\n",
    "#     params_layer = Dense(20, activation='relu')(x)\n",
    "    \n",
    "#     inp_params= Input(shape=(maxlen_params, ), name='inp_params')\n",
    "#     emb_params = Embedding(params_vocabulary_size, size_emb_params, name='emb_params')(inp_params)\n",
    "\n",
    "#     params_layer = GRU(40, return_sequences=True)(emb_params)\n",
    "\n",
    "\n",
    "    #img_features\n",
    "    #input_img = Input(shape=(number_img_features,), name='input_img')\n",
    "\n",
    "\n",
    "    conc_all = concatenate([conc_cat_and_cont, descr_layer], axis=-1)\n",
    "    \n",
    "    \n",
    "    ###\n",
    "    #x = Dropout(dropout)(conc_all)\n",
    "    x = Dense(500, activation='relu')(conc_all)\n",
    "    #x = BatchNormalization()(x)\n",
    "    x = Dropout(dropout)(x)\n",
    "    x = Dense(64, activation='relu')(x)\n",
    "    x = Dropout(dropout)(x)\n",
    "    y = Dense(1, activation='sigmoid', name='output')(x)\n",
    "\n",
    "    model = Model(inputs = [inp_region, inp_parentcatname, inp_catname, inp_usertype, inp_city, inp_week, inp_day, inp_imgt1, inp_price, inp_itemseq,\n",
    "                            input_descr_1, #input_descr_2, input_descr_3,\n",
    "                            #inp_descr,\n",
    "                            #input_title_1, #input_title_2, input_title_3,\n",
    "                            #input_params_1,# input_params_2, input_params_3,\n",
    "                            #input_img\n",
    "                           ], outputs = y)\n",
    "    \n",
    "    return model"
   ]
  },
  {
   "cell_type": "code",
   "execution_count": 14,
   "metadata": {},
   "outputs": [],
   "source": [
    "PATH = \"/home/axel/Desktop/kaggle/avito/\"\n",
    "EMBEDDING_FILE = PATH + 'train/cc.ru.300.vec'"
   ]
  },
  {
   "cell_type": "code",
   "execution_count": 15,
   "metadata": {},
   "outputs": [],
   "source": [
    "df_train = pd.read_csv(f'{PATH}train/train.csv', parse_dates=['activation_date'])\n",
    "df_test  = pd.read_csv(f'{PATH}test/test.csv', parse_dates=['activation_date'])\n",
    "\n",
    "df_train.sort_values(by=['image'], inplace=True)\n",
    "df_test.sort_values(by=['image'], inplace=True)"
   ]
  },
  {
   "cell_type": "code",
   "execution_count": 17,
   "metadata": {
    "scrolled": true
   },
   "outputs": [],
   "source": [
    "stop_words = set(stopwords.words('russian'))"
   ]
  },
  {
   "cell_type": "code",
   "execution_count": 18,
   "metadata": {},
   "outputs": [],
   "source": [
    "stop_words = set([word.lower() for word in stop_words])"
   ]
  },
  {
   "cell_type": "code",
   "execution_count": 19,
   "metadata": {},
   "outputs": [],
   "source": [
    "# d = df_train.as_matrix()\n",
    "# d = d[:1390832]\n",
    "# df_train = pd.DataFrame(d, columns=df_train.columns)"
   ]
  },
  {
   "cell_type": "code",
   "execution_count": 20,
   "metadata": {},
   "outputs": [],
   "source": [
    "#df_train.to_csv(f'{PATH}train/train2.csv')"
   ]
  },
  {
   "cell_type": "code",
   "execution_count": null,
   "metadata": {},
   "outputs": [],
   "source": []
  },
  {
   "cell_type": "code",
   "execution_count": 21,
   "metadata": {},
   "outputs": [],
   "source": [
    "df_train['image_top_1'].fillna(value=3067, inplace=True)\n",
    "df_test['image_top_1'].fillna(value=3067, inplace=True)\n",
    "\n",
    "df_train['description'].fillna(value='_NA_', inplace=True)\n",
    "df_test['description'].fillna(value='_NA_', inplace=True)\n",
    "\n",
    "df_train['params'] = df_train.apply(lambda row: ' '.join([\n",
    "                        str(row['param_1']), \n",
    "                        str(row['param_2']), \n",
    "                        str(row['param_3'])]), axis=1)\n",
    "\n",
    "df_test['params'] = df_test.apply(lambda row: ' '.join([\n",
    "                        str(row['param_1']), \n",
    "                        str(row['param_2']), \n",
    "                        str(row['param_3'])]),axis=1)\n",
    "\n",
    "df_train['params'].fillna(value='_NA_', inplace=True)\n",
    "df_test['params'].fillna(value='_NA_', inplace=True)\n",
    "\n",
    "df_train['price'].fillna(value=-1.0, inplace=True)\n",
    "df_test['price'].fillna(value=-1.0, inplace=True)\n",
    "\n",
    "df_train['title'] = df_train['title'].str.split(' ').apply(lambda row: ' '.join([word.lower() for word in row if word.lower() not in stop_words]))\n",
    "df_train['description'] = df_train['description'].str.split(' ').apply(lambda row: ' '.join([word.lower() for word in row if word.lower() not in stop_words]))\n",
    "df_train['params'] = df_train['params'].str.split(' ').apply(lambda row: ' '.join([word.lower() for word in row if word.lower() not in stop_words]))\n",
    "\n",
    "df_test['title'] = df_test['title'].str.split(' ').apply(lambda row: ' '.join([word.lower() for word in row if word.lower() not in stop_words]))\n",
    "df_test['description'] = df_test['description'].str.split(' ').apply(lambda row: ' '.join([word.lower() for word in row if word.lower() not in stop_words]))\n",
    "df_test['params'] = df_test['params'].str.split(' ').apply(lambda row: ' '.join([word.lower() for word in row if word.lower() not in stop_words]))"
   ]
  },
  {
   "cell_type": "code",
   "execution_count": 22,
   "metadata": {},
   "outputs": [],
   "source": [
    "df_train['weekday'] = df_train['activation_date'].dt.weekday\n",
    "df_train[\"day_of_month\"] = df_train['activation_date'].dt.day\n",
    "\n",
    "\n",
    "df_test['weekday'] = df_test['activation_date'].dt.weekday\n",
    "df_test[\"day_of_month\"] = df_test['activation_date'].dt.day"
   ]
  },
  {
   "cell_type": "code",
   "execution_count": null,
   "metadata": {},
   "outputs": [],
   "source": []
  },
  {
   "cell_type": "code",
   "execution_count": 23,
   "metadata": {},
   "outputs": [],
   "source": [
    "train_region, test_region, tokenizer_region = tokenizer_fit('region', df_train, df_test)\n",
    "train_parentcatname, test_parentcatname, tokenizer_parentcatname = tokenizer_fit('parent_category_name', df_train, df_test)\n",
    "train_catname, test_catname, tokenizer_catname = tokenizer_fit('category_name', df_train, df_test)\n",
    "train_usertype, test_usertype, tokenizer_usertype = tokenizer_fit('user_type', df_train, df_test)\n",
    "train_city, test_city, tokenizer_city = tokenizer_fit('city', df_train, df_test)\n",
    "train_params, test_params, tokenizer_params = tokenizer_fit('params', df_train, df_test)"
   ]
  },
  {
   "cell_type": "code",
   "execution_count": null,
   "metadata": {},
   "outputs": [],
   "source": []
  },
  {
   "cell_type": "code",
   "execution_count": 24,
   "metadata": {},
   "outputs": [],
   "source": [
    "train_week = df_train['weekday'].astype(np.int32).values\n",
    "test_week = df_test['weekday'].astype(np.int32).values\n",
    "\n",
    "train_day_of_month = df_train['day_of_month'].astype(np.int32).values\n",
    "test_day_of_month = df_test['day_of_month'].astype(np.int32).values"
   ]
  },
  {
   "cell_type": "code",
   "execution_count": 25,
   "metadata": {},
   "outputs": [],
   "source": [
    "train_week = np.expand_dims(train_week, axis=-1)\n",
    "test_week = np.expand_dims(test_week, axis=-1)\n",
    "\n",
    "train_day_of_month = np.expand_dims(train_day_of_month, axis=-1)\n",
    "test_day_of_month = np.expand_dims(test_day_of_month, axis=-1)"
   ]
  },
  {
   "cell_type": "code",
   "execution_count": 26,
   "metadata": {},
   "outputs": [],
   "source": [
    "train_imgtop1 = df_train['image_top_1'].astype(np.int32).values\n",
    "test_imgtop1 = df_test['image_top_1'].astype(np.int32).values\n",
    "train_imgtop1 = np.expand_dims(train_imgtop1, axis=-1)\n",
    "test_imgtop1 = np.expand_dims(test_imgtop1, axis=-1)"
   ]
  },
  {
   "cell_type": "code",
   "execution_count": 27,
   "metadata": {},
   "outputs": [
    {
     "name": "stderr",
     "output_type": "stream",
     "text": [
      "/home/axel/anaconda3/lib/python3.6/site-packages/ipykernel_launcher.py:2: RuntimeWarning: invalid value encountered in log\n",
      "  \n",
      "/home/axel/anaconda3/lib/python3.6/site-packages/ipykernel_launcher.py:3: RuntimeWarning: invalid value encountered in log\n",
      "  This is separate from the ipykernel package so we can avoid doing imports until\n"
     ]
    }
   ],
   "source": [
    "eps = 1e-10\n",
    "train_price = np.log(df_train['price']+eps)\n",
    "test_price = np.log(df_test['price']+eps)\n",
    "train_price = train_price.fillna(-1.)\n",
    "test_price = test_price.fillna(-1.)\n",
    "\n",
    "train_price = np.expand_dims(train_price, axis=-1)\n",
    "test_price = np.expand_dims(test_price, axis=-1)"
   ]
  },
  {
   "cell_type": "code",
   "execution_count": 28,
   "metadata": {},
   "outputs": [],
   "source": [
    "train_itemseq = np.log(df_train['item_seq_number'])\n",
    "test_itemseq = np.log(df_test['item_seq_number'])\n",
    "\n",
    "train_itemseq = np.expand_dims(train_itemseq, axis=-1)\n",
    "test_itemseq = np.expand_dims(test_itemseq, axis=-1)"
   ]
  },
  {
   "cell_type": "code",
   "execution_count": 29,
   "metadata": {},
   "outputs": [],
   "source": [
    "vocabulary_size = 10000\n",
    "\n",
    "tokenizer_title_desc = Tokenizer(num_words=vocabulary_size, lower='True')\n",
    "tokenizer_title_desc.fit_on_texts(np.append(df_train['title'].values, [df_train['description'].values, df_train['params'].values]))\n",
    "\n",
    "\n",
    "train_title_seq = tokenizer_title_desc.texts_to_sequences(df_train['title'].values)\n",
    "test_title_seq = tokenizer_title_desc.texts_to_sequences(df_test['title'].values)\n",
    "\n",
    "train_desc_seq = tokenizer_title_desc.texts_to_sequences(df_train['description'].values)\n",
    "test_desc_seq = tokenizer_title_desc.texts_to_sequences(df_test['description'].values)\n",
    "\n",
    "train_params_seq = tokenizer_title_desc.texts_to_sequences(df_train['params'].values)\n",
    "test_params_seq = tokenizer_title_desc.texts_to_sequences(df_test['params'].values)\n",
    "\n",
    "maxlen_description = 50\n",
    "train_desc_pad = pad_sequences(train_desc_seq, maxlen=maxlen_description)\n",
    "test_desc_pad = pad_sequences(test_desc_seq, maxlen=maxlen_description)\n",
    "\n",
    "maxlen_title = 30\n",
    "train_title_pad = pad_sequences(train_title_seq, maxlen=maxlen_title)\n",
    "test_title_pad = pad_sequences(test_title_seq, maxlen=maxlen_title)\n",
    "\n",
    "maxlen_params = 30\n",
    "train_params_pad = pad_sequences(train_params_seq, maxlen=maxlen_params)\n",
    "test_params_pad = pad_sequences(test_params_seq, maxlen=maxlen_params)"
   ]
  },
  {
   "cell_type": "code",
   "execution_count": 30,
   "metadata": {},
   "outputs": [],
   "source": [
    "# descr_vocabulary_size = 10000\n",
    "\n",
    "# tokenizer_desc = Tokenizer(num_words=descr_vocabulary_size, lower='True')\n",
    "# tokenizer_desc.fit_on_texts(df_train['description'].values)\n",
    "\n",
    "# train_desc_seq = tokenizer_desc.texts_to_sequences(df_train['description'].values)\n",
    "# test_desc_seq = tokenizer_desc.texts_to_sequences(df_test['description'].values)\n",
    "\n",
    "# maxlen_description = 100\n",
    "# train_desc_pad = pad_sequences(train_desc_seq, maxlen=maxlen_description)\n",
    "# test_desc_pad = pad_sequences(test_desc_seq, maxlen=maxlen_description)"
   ]
  },
  {
   "cell_type": "code",
   "execution_count": 31,
   "metadata": {},
   "outputs": [],
   "source": [
    "# title_vocabulary_size = 10000\n",
    "\n",
    "# tokenizer_title = Tokenizer(num_words=title_vocabulary_size, lower='True')\n",
    "# tokenizer_title.fit_on_texts(df_train['title'].values)\n",
    "\n",
    "# train_title_seq = tokenizer_title.texts_to_sequences(df_train['title'].values)\n",
    "# test_title_seq = tokenizer_title.texts_to_sequences(df_test['title'].values)\n",
    "\n",
    "# maxlen_title = 30\n",
    "# train_title_pad = pad_sequences(train_title_seq, maxlen=maxlen_title)\n",
    "# test_title_pad = pad_sequences(test_title_seq, maxlen=maxlen_title)"
   ]
  },
  {
   "cell_type": "code",
   "execution_count": 32,
   "metadata": {},
   "outputs": [],
   "source": [
    "# params_vocabulary_size = 10000\n",
    "\n",
    "# tokenizer_params = Tokenizer(num_words=params_vocabulary_size, lower='True')\n",
    "# tokenizer_params.fit_on_texts(df_train['params'].values)\n",
    "\n",
    "# train_params_seq = tokenizer_params.texts_to_sequences(df_train['params'].values)\n",
    "# test_params_seq = tokenizer_params.texts_to_sequences(df_test['params'].values)\n",
    "\n",
    "# maxlen_params = 30\n",
    "# train_params_pad = pad_sequences(train_params_seq, maxlen=maxlen_params)\n",
    "# test_params_pad = pad_sequences(test_params_seq, maxlen=maxlen_params)"
   ]
  },
  {
   "cell_type": "code",
   "execution_count": 33,
   "metadata": {},
   "outputs": [],
   "source": [
    "feat_eng_cols = [c for c in df_train.columns if c.endswith('_avg') or c.endswith('_std')]\n",
    "\n",
    "## categorical\n",
    "len_region = len(tokenizer_region.word_index)\n",
    "len_parentcatname = len(tokenizer_parentcatname.word_index)\n",
    "len_catname = len(tokenizer_catname.word_index) \n",
    "len_usertype = len(tokenizer_usertype.word_index)\n",
    "len_city = len(tokenizer_city.word_index) + 1\n",
    "len_week = 7\n",
    "len_day_month = int(df_train['day_of_month'].max()) + 1\n",
    "len_imgt1 = int(df_train['image_top_1'].max()) + 1\n",
    "\n",
    "## continuous\n",
    "len_price = 1\n",
    "len_itemseq = 1\n",
    "len_feat_eng = len(feat_eng_cols)"
   ]
  },
  {
   "cell_type": "code",
   "execution_count": null,
   "metadata": {},
   "outputs": [],
   "source": []
  },
  {
   "cell_type": "code",
   "execution_count": 43,
   "metadata": {},
   "outputs": [],
   "source": [
    "## categorical\n",
    "size_emb_region = 8\n",
    "size_emb_parentcatname = 4\n",
    "size_emb_catname = 8\n",
    "size_emb_usertype = 2\n",
    "size_emb_city = 16\n",
    "size_emb_week = 4\n",
    "size_emb_day_month = 10\n",
    "size_emb_imgt1 = 30\n",
    "\n",
    "#continuous\n",
    "size_emb_price = 1\n",
    "size_emb_itemseq = 16\n",
    "size_emb_feat_eng = 10\n",
    "\n",
    "\n",
    "#text\n",
    "size_emb_desc = 50\n",
    "size_emb_title = 50\n",
    "size_emb_params = 50\n",
    "\n",
    "#dropout\n",
    "spatial_dropout = 0.5\n",
    "dropout = 0.1"
   ]
  },
  {
   "cell_type": "code",
   "execution_count": 35,
   "metadata": {},
   "outputs": [],
   "source": [
    "#train_idx = df_train[df_train.activation_date < '2017-03-27'].index\n",
    "#val_idx = df_train[(df_train.activation_date >= '2017-03-27') & (df_train.activation_date <= '2017-04-07')].index\n",
    "test_idx = df_test.index.values"
   ]
  },
  {
   "cell_type": "code",
   "execution_count": 36,
   "metadata": {},
   "outputs": [],
   "source": [
    "val_idx = df_train[:1390832].sample(frac=0.2).index\n",
    "train_idx = df_train[:1390832][np.invert(df_train[:1390832].index.isin(val_idx))].index"
   ]
  },
  {
   "cell_type": "code",
   "execution_count": 37,
   "metadata": {},
   "outputs": [
    {
     "data": {
      "text/plain": [
       "1112666"
      ]
     },
     "execution_count": 37,
     "metadata": {},
     "output_type": "execute_result"
    }
   ],
   "source": [
    "len(train_idx)"
   ]
  },
  {
   "cell_type": "code",
   "execution_count": 38,
   "metadata": {},
   "outputs": [
    {
     "data": {
      "text/plain": [
       "278166"
      ]
     },
     "execution_count": 38,
     "metadata": {},
     "output_type": "execute_result"
    }
   ],
   "source": [
    "len(val_idx)"
   ]
  },
  {
   "cell_type": "code",
   "execution_count": 39,
   "metadata": {},
   "outputs": [],
   "source": [
    "#len(df_train[:1390832]['image'])"
   ]
  },
  {
   "cell_type": "code",
   "execution_count": null,
   "metadata": {},
   "outputs": [],
   "source": []
  },
  {
   "cell_type": "code",
   "execution_count": 40,
   "metadata": {},
   "outputs": [],
   "source": [
    "X = np.array([train_region, train_parentcatname, train_catname, train_usertype, train_city, train_week, train_day_of_month, train_imgtop1,\n",
    "              train_price, train_itemseq])\n",
    "\n",
    "X_test = np.array([test_region, test_parentcatname, test_catname, test_usertype, test_city, test_week, test_day_of_month, test_imgtop1,\n",
    "                   test_price, test_itemseq])\n",
    "\n",
    "Y = df_train['deal_probability']"
   ]
  },
  {
   "cell_type": "code",
   "execution_count": 41,
   "metadata": {},
   "outputs": [],
   "source": [
    "X_train = [x[train_idx] for x in X]\n",
    "X_valid = [x[val_idx] for x in X]\n",
    "X_test = [x for x in X_test]\n",
    "\n",
    "y_train = np.expand_dims(Y[train_idx].ravel(), axis=-1)\n",
    "y_valid = np.expand_dims(Y[val_idx].ravel(), axis=-1)"
   ]
  },
  {
   "cell_type": "code",
   "execution_count": 20,
   "metadata": {
    "collapsed": true
   },
   "outputs": [],
   "source": [
    "text_features = [\"description\", \"params\", \"title\"]\n",
    "\n",
    "cat_features = ['region', 'city', 'parent_category_name', 'category_name',\n",
    "                 'image_top_1', 'user_type','item_seq_number','weekday', 'day_of_month']\n",
    "\n",
    "mean_dicts, std_dicts = do_feature_engineering(df_train, text_features, cat_features)"
   ]
  },
  {
   "cell_type": "code",
   "execution_count": 21,
   "metadata": {
    "collapsed": true
   },
   "outputs": [],
   "source": [
    "for c in df_train.columns:\n",
    "    if c.endswith('_avg'):\n",
    "        X_valid[c] = X_valid[c[:-20]].map(mean_dicts[c[:-20]])\n",
    "        X_test[c] = X_test[c[:-20]].map(mean_dicts[c[:-20]])\n",
    "    if c.endswith('_std'):\n",
    "        X_valid[c] = X_valid[c[:-20]].map(std_dicts[c[:-20]])\n",
    "        df_test[c] = X_test[c[:-20]].map(std_dicts[c[:-20]])"
   ]
  },
  {
   "cell_type": "code",
   "execution_count": 39,
   "metadata": {
    "collapsed": true
   },
   "outputs": [],
   "source": [
    "feat_eng_train = []\n",
    "feat_eng_test = []\n",
    "\n",
    "for row in X_train[feat_eng_cols].iterrows():\n",
    "    index, data = row\n",
    "    feat_eng_train.append(data.tolist())\n",
    "    \n",
    "#for row in df_test[feat_eng_cols].iterrows():\n",
    "#    index, data = row\n",
    "#    feat_eng_test.append(data.tolist())"
   ]
  },
  {
   "cell_type": "code",
   "execution_count": 40,
   "metadata": {
    "collapsed": true
   },
   "outputs": [],
   "source": [
    "feat_eng_train = np.array(feat_eng_train)\n",
    "feat_eng_test = np.array(feat_eng_test)"
   ]
  },
  {
   "cell_type": "code",
   "execution_count": null,
   "metadata": {
    "collapsed": true
   },
   "outputs": [],
   "source": []
  },
  {
   "cell_type": "code",
   "execution_count": 43,
   "metadata": {
    "collapsed": true
   },
   "outputs": [],
   "source": [
    "X_train.append(feat_eng_train[train_idx])\n",
    "X_valid.append(feat_eng_train[val_idx])\n",
    "X_test.append(feat_eng_test[test_idx])"
   ]
  },
  {
   "cell_type": "code",
   "execution_count": 42,
   "metadata": {},
   "outputs": [],
   "source": [
    "append_text_features(X_train, train_desc_pad, train_title_pad, train_params_pad, \n",
    "                     title_repeat_times=0, descr_repeat_times=1, params_repeat_times=0, idx=train_idx)\n",
    "append_text_features(X_valid, train_desc_pad, train_title_pad, train_params_pad,\n",
    "                     title_repeat_times=0, descr_repeat_times=1, params_repeat_times=0, idx=val_idx)\n",
    "append_text_features(X_test, test_desc_pad, test_title_pad, test_params_pad,\n",
    "                     title_repeat_times=0, descr_repeat_times=1, params_repeat_times=0, idx=test_idx)"
   ]
  },
  {
   "cell_type": "code",
   "execution_count": null,
   "metadata": {
    "collapsed": true
   },
   "outputs": [],
   "source": []
  },
  {
   "cell_type": "code",
   "execution_count": null,
   "metadata": {},
   "outputs": [],
   "source": []
  },
  {
   "cell_type": "code",
   "execution_count": 46,
   "metadata": {
    "collapsed": true
   },
   "outputs": [],
   "source": [
    "# count_title_descr.fit(np.append(df_train['title'].values, df_train['description'].values))"
   ]
  },
  {
   "cell_type": "code",
   "execution_count": null,
   "metadata": {
    "collapsed": true
   },
   "outputs": [],
   "source": []
  },
  {
   "cell_type": "code",
   "execution_count": null,
   "metadata": {
    "collapsed": true
   },
   "outputs": [],
   "source": []
  },
  {
   "cell_type": "code",
   "execution_count": 47,
   "metadata": {
    "collapsed": true
   },
   "outputs": [],
   "source": [
    "# tokenizer_title_desc_test = Tokenizer(num_words=vocabulary_size, lower='True')\n",
    "# tokenizer_title_desc_test.fit_on_texts(np.append(df_test['title'].values, [df_test['description'].values, df_test['params'].values]))\n"
   ]
  },
  {
   "cell_type": "code",
   "execution_count": null,
   "metadata": {
    "collapsed": true
   },
   "outputs": [],
   "source": []
  },
  {
   "cell_type": "code",
   "execution_count": null,
   "metadata": {
    "collapsed": true
   },
   "outputs": [],
   "source": []
  },
  {
   "cell_type": "code",
   "execution_count": null,
   "metadata": {
    "collapsed": true
   },
   "outputs": [],
   "source": []
  },
  {
   "cell_type": "code",
   "execution_count": 48,
   "metadata": {
    "collapsed": true
   },
   "outputs": [],
   "source": [
    "# embeddings_index = dict(get_coefs(*o.rstrip().rsplit(' ')) for o in tqdm(open(EMBEDDING_FILE)))"
   ]
  },
  {
   "cell_type": "code",
   "execution_count": 49,
   "metadata": {
    "collapsed": true
   },
   "outputs": [],
   "source": [
    "# embedding_matrix_descr = np.zeros((descr_vocabulary_size, size_emb_desc))\n",
    "# embedding_matrix_title = np.zeros((title_vocabulary_size, size_emb_title))\n",
    "# embedding_matrix_params = np.zeros((params_vocabulary_size, size_emb_params))"
   ]
  },
  {
   "cell_type": "code",
   "execution_count": null,
   "metadata": {
    "collapsed": true
   },
   "outputs": [],
   "source": []
  },
  {
   "cell_type": "code",
   "execution_count": 50,
   "metadata": {
    "collapsed": true
   },
   "outputs": [],
   "source": [
    "# for word, i in tqdm(tokenizer_desc.word_index.items()):\n",
    "#     if i >= maxlen_description: continue\n",
    "#     embedding_vector = embeddings_index.get(word)\n",
    "#     if embedding_vector is not None: \n",
    "#         embedding_matrix_descr[i] = embedding_vector\n",
    "\n",
    "# for word, i in tqdm(tokenizer_title.word_index.items()):\n",
    "#     if i >= maxlen_title: continue\n",
    "#     embedding_vector = embeddings_index.get(word)\n",
    "#     if embedding_vector is not None: \n",
    "#         embedding_matrix_title[i] = embedding_vector\n",
    "\n",
    "# for word, i in tqdm(tokenizer_params.word_index.items()):\n",
    "#     if i >= maxlen_params: continue\n",
    "#     embedding_vector = embeddings_index.get(word)\n",
    "#     if embedding_vector is not None: \n",
    "#         embedding_matrix_params[i] = embedding_vector"
   ]
  },
  {
   "cell_type": "code",
   "execution_count": 51,
   "metadata": {
    "collapsed": true
   },
   "outputs": [],
   "source": [
    "#tokenizer_title.texts_to_matrix(df_train['title'].values, mode='tfidf')"
   ]
  },
  {
   "cell_type": "code",
   "execution_count": 14,
   "metadata": {
    "collapsed": true
   },
   "outputs": [],
   "source": [
    "IMG_PATH = '/media/axel/ssd/'\n",
    "\n",
    "img_features_train = bcolz.open(IMG_PATH + 'train/data/competition_files/')[:]\n",
    "#img_features_test = sparse.load_npz(f'{PATH}/test/test_features.npz')"
   ]
  },
  {
   "cell_type": "code",
   "execution_count": 58,
   "metadata": {},
   "outputs": [
    {
     "data": {
      "text/plain": [
       "0"
      ]
     },
     "execution_count": 58,
     "metadata": {},
     "output_type": "execute_result"
    }
   ],
   "source": []
  },
  {
   "cell_type": "code",
   "execution_count": 59,
   "metadata": {
    "collapsed": true
   },
   "outputs": [],
   "source": []
  },
  {
   "cell_type": "code",
   "execution_count": 49,
   "metadata": {},
   "outputs": [
    {
     "data": {
      "text/plain": [
       "Int64Index([ 758131, 1389902,  124417, 1016335,  948889,  790945, 1198053,\n",
       "             320887, 1229586,  870541,\n",
       "            ...\n",
       "            1116590, 1057196,  779540,  148442, 1011959, 1228640, 1113642,\n",
       "              25987,  236711,   79352],\n",
       "           dtype='int64', length=1112666)"
      ]
     },
     "execution_count": 49,
     "metadata": {},
     "output_type": "execute_result"
    }
   ],
   "source": [
    "img_feat"
   ]
  },
  {
   "cell_type": "code",
   "execution_count": null,
   "metadata": {
    "collapsed": true
   },
   "outputs": [],
   "source": []
  },
  {
   "cell_type": "code",
   "execution_count": 53,
   "metadata": {},
   "outputs": [
    {
     "data": {
      "text/plain": [
       "1390832"
      ]
     },
     "execution_count": 53,
     "metadata": {},
     "output_type": "execute_result"
    }
   ],
   "source": [
    "len(df_train[:1390832])"
   ]
  },
  {
   "cell_type": "code",
   "execution_count": 51,
   "metadata": {},
   "outputs": [
    {
     "data": {
      "text/plain": [
       "1390832"
      ]
     },
     "execution_count": 51,
     "metadata": {},
     "output_type": "execute_result"
    }
   ],
   "source": [
    "len(img_features_train)"
   ]
  },
  {
   "cell_type": "code",
   "execution_count": 18,
   "metadata": {
    "collapsed": true
   },
   "outputs": [],
   "source": [
    "i = pd.DataFrame(img_features_train)"
   ]
  },
  {
   "cell_type": "code",
   "execution_count": 19,
   "metadata": {
    "collapsed": true
   },
   "outputs": [],
   "source": [
    "i.set_index(df_train[:1390832].index, inplace=True)"
   ]
  },
  {
   "cell_type": "code",
   "execution_count": 20,
   "metadata": {
    "collapsed": true
   },
   "outputs": [],
   "source": [
    "#i.to_csv(f'{PATH}train/img_features.csv')"
   ]
  },
  {
   "cell_type": "code",
   "execution_count": null,
   "metadata": {
    "collapsed": true
   },
   "outputs": [],
   "source": [
    "img_features_train = pd.read_csv(f'{PATH}train/img_features.csv')"
   ]
  },
  {
   "cell_type": "code",
   "execution_count": 58,
   "metadata": {},
   "outputs": [
    {
     "data": {
      "text/plain": [
       "93"
      ]
     },
     "execution_count": 58,
     "metadata": {},
     "output_type": "execute_result"
    }
   ],
   "source": [
    "#del i; gc.collect()"
   ]
  },
  {
   "cell_type": "code",
   "execution_count": 63,
   "metadata": {},
   "outputs": [
    {
     "data": {
      "text/plain": [
       "array([[0.3447 , 0.498  , 0.     , ..., 0.     , 0.03052, 0.     ],\n",
       "       [0.10443, 0.0499 , 0.1833 , ..., 0.01449, 0.04538, 0.     ],\n",
       "       [1.23   , 1.605  , 0.     , ..., 0.01643, 0.     , 0.     ],\n",
       "       ...,\n",
       "       [0.3606 , 0.9404 , 0.     , ..., 0.1284 , 0.03296, 0.08215],\n",
       "       [0.     , 0.     , 0.6465 , ..., 0.     , 0.     , 0.861  ],\n",
       "       [0.     , 0.2366 , 0.     , ..., 0.06415, 0.     , 0.     ]],\n",
       "      dtype=float16)"
      ]
     },
     "execution_count": 63,
     "metadata": {},
     "output_type": "execute_result"
    }
   ],
   "source": [
    "# i.as_matrix()"
   ]
  },
  {
   "cell_type": "code",
   "execution_count": 51,
   "metadata": {
    "collapsed": true
   },
   "outputs": [],
   "source": []
  },
  {
   "cell_type": "code",
   "execution_count": 17,
   "metadata": {},
   "outputs": [
    {
     "ename": "MemoryError",
     "evalue": "",
     "output_type": "error",
     "traceback": [
      "\u001b[0;31m---------------------------------------------------------------------------\u001b[0m",
      "\u001b[0;31mMemoryError\u001b[0m                               Traceback (most recent call last)",
      "\u001b[0;32m<ipython-input-17-c6b17aef10be>\u001b[0m in \u001b[0;36m<module>\u001b[0;34m()\u001b[0m\n\u001b[1;32m      4\u001b[0m \u001b[0;34m\u001b[0m\u001b[0m\n\u001b[1;32m      5\u001b[0m \u001b[0msvd_img_features\u001b[0m \u001b[0;34m=\u001b[0m \u001b[0mPCA\u001b[0m\u001b[0;34m(\u001b[0m\u001b[0mn_components\u001b[0m\u001b[0;34m=\u001b[0m\u001b[0mnumber_img_features\u001b[0m\u001b[0;34m)\u001b[0m\u001b[0;34m\u001b[0m\u001b[0m\n\u001b[0;32m----> 6\u001b[0;31m \u001b[0msvd_img_features\u001b[0m\u001b[0;34m.\u001b[0m\u001b[0mfit\u001b[0m\u001b[0;34m(\u001b[0m\u001b[0mimg_features_train\u001b[0m\u001b[0;34m)\u001b[0m\u001b[0;34m\u001b[0m\u001b[0m\n\u001b[0m",
      "\u001b[0;32m~/anaconda3/lib/python3.6/site-packages/sklearn/decomposition/pca.py\u001b[0m in \u001b[0;36mfit\u001b[0;34m(self, X, y)\u001b[0m\n\u001b[1;32m    327\u001b[0m             \u001b[0mReturns\u001b[0m \u001b[0mthe\u001b[0m \u001b[0minstance\u001b[0m \u001b[0mitself\u001b[0m\u001b[0;34m.\u001b[0m\u001b[0;34m\u001b[0m\u001b[0m\n\u001b[1;32m    328\u001b[0m         \"\"\"\n\u001b[0;32m--> 329\u001b[0;31m         \u001b[0mself\u001b[0m\u001b[0;34m.\u001b[0m\u001b[0m_fit\u001b[0m\u001b[0;34m(\u001b[0m\u001b[0mX\u001b[0m\u001b[0;34m)\u001b[0m\u001b[0;34m\u001b[0m\u001b[0m\n\u001b[0m\u001b[1;32m    330\u001b[0m         \u001b[0;32mreturn\u001b[0m \u001b[0mself\u001b[0m\u001b[0;34m\u001b[0m\u001b[0m\n\u001b[1;32m    331\u001b[0m \u001b[0;34m\u001b[0m\u001b[0m\n",
      "\u001b[0;32m~/anaconda3/lib/python3.6/site-packages/sklearn/decomposition/pca.py\u001b[0m in \u001b[0;36m_fit\u001b[0;34m(self, X)\u001b[0m\n\u001b[1;32m    368\u001b[0m \u001b[0;34m\u001b[0m\u001b[0m\n\u001b[1;32m    369\u001b[0m         X = check_array(X, dtype=[np.float64, np.float32], ensure_2d=True,\n\u001b[0;32m--> 370\u001b[0;31m                         copy=self.copy)\n\u001b[0m\u001b[1;32m    371\u001b[0m \u001b[0;34m\u001b[0m\u001b[0m\n\u001b[1;32m    372\u001b[0m         \u001b[0;31m# Handle n_components==None\u001b[0m\u001b[0;34m\u001b[0m\u001b[0;34m\u001b[0m\u001b[0m\n",
      "\u001b[0;32m~/anaconda3/lib/python3.6/site-packages/sklearn/utils/validation.py\u001b[0m in \u001b[0;36mcheck_array\u001b[0;34m(array, accept_sparse, dtype, order, copy, force_all_finite, ensure_2d, allow_nd, ensure_min_samples, ensure_min_features, warn_on_dtype, estimator)\u001b[0m\n\u001b[1;32m    431\u001b[0m                                       force_all_finite)\n\u001b[1;32m    432\u001b[0m     \u001b[0;32melse\u001b[0m\u001b[0;34m:\u001b[0m\u001b[0;34m\u001b[0m\u001b[0m\n\u001b[0;32m--> 433\u001b[0;31m         \u001b[0marray\u001b[0m \u001b[0;34m=\u001b[0m \u001b[0mnp\u001b[0m\u001b[0;34m.\u001b[0m\u001b[0marray\u001b[0m\u001b[0;34m(\u001b[0m\u001b[0marray\u001b[0m\u001b[0;34m,\u001b[0m \u001b[0mdtype\u001b[0m\u001b[0;34m=\u001b[0m\u001b[0mdtype\u001b[0m\u001b[0;34m,\u001b[0m \u001b[0morder\u001b[0m\u001b[0;34m=\u001b[0m\u001b[0morder\u001b[0m\u001b[0;34m,\u001b[0m \u001b[0mcopy\u001b[0m\u001b[0;34m=\u001b[0m\u001b[0mcopy\u001b[0m\u001b[0;34m)\u001b[0m\u001b[0;34m\u001b[0m\u001b[0m\n\u001b[0m\u001b[1;32m    434\u001b[0m \u001b[0;34m\u001b[0m\u001b[0m\n\u001b[1;32m    435\u001b[0m         \u001b[0;32mif\u001b[0m \u001b[0mensure_2d\u001b[0m\u001b[0;34m:\u001b[0m\u001b[0;34m\u001b[0m\u001b[0m\n",
      "\u001b[0;31mMemoryError\u001b[0m: "
     ]
    }
   ],
   "source": [
    "from sklearn.decomposition import TruncatedSVD\n",
    "\n",
    "number_img_features = 500\n",
    "\n",
    "svd_img_features = TruncatedSVD(n_components=number_img_features, algorithm='arpack')\n",
    "svd_img_features.fit(img_features_train.as_matrix())"
   ]
  },
  {
   "cell_type": "code",
   "execution_count": null,
   "metadata": {
    "collapsed": true
   },
   "outputs": [],
   "source": [
    "# svd_img_features.explained_variance_ratio_.sum()"
   ]
  },
  {
   "cell_type": "code",
   "execution_count": 47,
   "metadata": {
    "collapsed": true
   },
   "outputs": [],
   "source": [
    "# train_img_features = np.array(svd_img_features.transform(img_features_train), dtype=np.float16)"
   ]
  },
  {
   "cell_type": "code",
   "execution_count": 51,
   "metadata": {},
   "outputs": [
    {
     "name": "stderr",
     "output_type": "stream",
     "text": [
      "/home/axel/anaconda3/lib/python3.6/site-packages/ipykernel_launcher.py:1: DeprecationWarning: \n",
      ".ix is deprecated. Please use\n",
      ".loc for label based indexing or\n",
      ".iloc for positional indexing\n",
      "\n",
      "See the documentation here:\n",
      "http://pandas.pydata.org/pandas-docs/stable/indexing.html#ix-indexer-is-deprecated\n",
      "  \"\"\"Entry point for launching an IPython kernel.\n"
     ]
    }
   ],
   "source": [
    "X_train.append(i.ix[train_idx])"
   ]
  },
  {
   "cell_type": "code",
   "execution_count": 55,
   "metadata": {
    "collapsed": true
   },
   "outputs": [],
   "source": [
    "X_valid.append(i.ix[val_idx])"
   ]
  },
  {
   "cell_type": "code",
   "execution_count": 55,
   "metadata": {},
   "outputs": [
    {
     "data": {
      "text/plain": [
       "363"
      ]
     },
     "execution_count": 55,
     "metadata": {},
     "output_type": "execute_result"
    }
   ],
   "source": [
    "gc.collect()"
   ]
  },
  {
   "cell_type": "code",
   "execution_count": null,
   "metadata": {
    "collapsed": true
   },
   "outputs": [],
   "source": []
  },
  {
   "cell_type": "code",
   "execution_count": 55,
   "metadata": {},
   "outputs": [
    {
     "name": "stdout",
     "output_type": "stream",
     "text": [
      "__________________________________________________________________________________________________\n",
      "Layer (type)                    Output Shape         Param #     Connected to                     \n",
      "==================================================================================================\n",
      "inp_region (InputLayer)         (None, 1)            0                                            \n",
      "__________________________________________________________________________________________________\n",
      "inp_parent_category_name (Input (None, 1)            0                                            \n",
      "__________________________________________________________________________________________________\n",
      "inp_category_name (InputLayer)  (None, 1)            0                                            \n",
      "__________________________________________________________________________________________________\n",
      "inp_user_type (InputLayer)      (None, 1)            0                                            \n",
      "__________________________________________________________________________________________________\n",
      "inp_city (InputLayer)           (None, 1)            0                                            \n",
      "__________________________________________________________________________________________________\n",
      "inp_week (InputLayer)           (None, 1)            0                                            \n",
      "__________________________________________________________________________________________________\n",
      "inp_day_of_month (InputLayer)   (None, 1)            0                                            \n",
      "__________________________________________________________________________________________________\n",
      "inp_imgt1 (InputLayer)          (None, 1)            0                                            \n",
      "__________________________________________________________________________________________________\n",
      "emb_region (Embedding)          (None, 1, 8)         232         inp_region[0][0]                 \n",
      "__________________________________________________________________________________________________\n",
      "emb_parent_category_name (Embed (None, 1, 4)         40          inp_parent_category_name[0][0]   \n",
      "__________________________________________________________________________________________________\n",
      "emb_category_name (Embedding)   (None, 1, 8)         384         inp_category_name[0][0]          \n",
      "__________________________________________________________________________________________________\n",
      "emb_user_type (Embedding)       (None, 1, 2)         8           inp_user_type[0][0]              \n",
      "__________________________________________________________________________________________________\n",
      "emb_city (Embedding)            (None, 1, 16)        27760       inp_city[0][0]                   \n",
      "__________________________________________________________________________________________________\n",
      "emb_week (Embedding)            (None, 1, 4)         28          inp_week[0][0]                   \n",
      "__________________________________________________________________________________________________\n",
      "emb_day_of_month (Embedding)    (None, 1, 10)        320         inp_day_of_month[0][0]           \n",
      "__________________________________________________________________________________________________\n",
      "emb_imgt1 (Embedding)           (None, 1, 30)        92040       inp_imgt1[0][0]                  \n",
      "__________________________________________________________________________________________________\n",
      "inp_descr_1 (InputLayer)        (None, 50)           0                                            \n",
      "__________________________________________________________________________________________________\n",
      "reshape_1 (Reshape)             (None, 8)            0           emb_region[0][0]                 \n",
      "__________________________________________________________________________________________________\n",
      "reshape_2 (Reshape)             (None, 4)            0           emb_parent_category_name[0][0]   \n",
      "__________________________________________________________________________________________________\n",
      "reshape_3 (Reshape)             (None, 8)            0           emb_category_name[0][0]          \n",
      "__________________________________________________________________________________________________\n",
      "reshape_4 (Reshape)             (None, 2)            0           emb_user_type[0][0]              \n",
      "__________________________________________________________________________________________________\n",
      "reshape_5 (Reshape)             (None, 16)           0           emb_city[0][0]                   \n",
      "__________________________________________________________________________________________________\n",
      "reshape_6 (Reshape)             (None, 4)            0           emb_week[0][0]                   \n",
      "__________________________________________________________________________________________________\n",
      "reshape_7 (Reshape)             (None, 10)           0           emb_day_of_month[0][0]           \n",
      "__________________________________________________________________________________________________\n",
      "reshape_8 (Reshape)             (None, 30)           0           emb_imgt1[0][0]                  \n",
      "__________________________________________________________________________________________________\n",
      "inp_price (InputLayer)          (None, 1)            0                                            \n",
      "__________________________________________________________________________________________________\n",
      "inp_itemseq (InputLayer)        (None, 1)            0                                            \n",
      "__________________________________________________________________________________________________\n",
      "emb_title_1 (Embedding)         (None, 50, 50)       500000      inp_descr_1[0][0]                \n",
      "__________________________________________________________________________________________________\n",
      "concat_cat_and_cont (Concatenat (None, 84)           0           reshape_1[0][0]                  \n",
      "                                                                 reshape_2[0][0]                  \n",
      "                                                                 reshape_3[0][0]                  \n",
      "                                                                 reshape_4[0][0]                  \n",
      "                                                                 reshape_5[0][0]                  \n",
      "                                                                 reshape_6[0][0]                  \n",
      "                                                                 reshape_7[0][0]                  \n",
      "                                                                 reshape_8[0][0]                  \n",
      "                                                                 inp_price[0][0]                  \n",
      "                                                                 inp_itemseq[0][0]                \n",
      "__________________________________________________________________________________________________\n",
      "gru_1 (GRU)                     (None, 50)           15150       emb_title_1[0][0]                \n",
      "__________________________________________________________________________________________________\n",
      "concatenate_1 (Concatenate)     (None, 134)          0           concat_cat_and_cont[0][0]        \n",
      "                                                                 gru_1[0][0]                      \n",
      "__________________________________________________________________________________________________\n",
      "dense_1 (Dense)                 (None, 500)          67500       concatenate_1[0][0]              \n",
      "__________________________________________________________________________________________________\n",
      "dropout_1 (Dropout)             (None, 500)          0           dense_1[0][0]                    \n",
      "__________________________________________________________________________________________________\n",
      "dense_2 (Dense)                 (None, 64)           32064       dropout_1[0][0]                  \n",
      "__________________________________________________________________________________________________\n",
      "dropout_2 (Dropout)             (None, 64)           0           dense_2[0][0]                    \n",
      "__________________________________________________________________________________________________\n",
      "output (Dense)                  (None, 1)            65          dropout_2[0][0]                  \n",
      "==================================================================================================\n",
      "Total params: 735,591\n",
      "Trainable params: 735,591\n",
      "Non-trainable params: 0\n",
      "__________________________________________________________________________________________________\n"
     ]
    }
   ],
   "source": [
    "model = get_model()\n",
    "model.summary()"
   ]
  },
  {
   "cell_type": "code",
   "execution_count": 57,
   "metadata": {
    "scrolled": true
   },
   "outputs": [
    {
     "ename": "ImportError",
     "evalue": "Failed to import `pydot`. Please install `pydot`. For example with `pip install pydot`.",
     "output_type": "error",
     "traceback": [
      "\u001b[0;31m---------------------------------------------------------------------------\u001b[0m",
      "\u001b[0;31mImportError\u001b[0m                               Traceback (most recent call last)",
      "\u001b[0;32m<ipython-input-57-1752a1e5a8b9>\u001b[0m in \u001b[0;36m<module>\u001b[0;34m()\u001b[0m\n\u001b[0;32m----> 1\u001b[0;31m \u001b[0mSVG\u001b[0m\u001b[0;34m(\u001b[0m\u001b[0mmodel_to_dot\u001b[0m\u001b[0;34m(\u001b[0m\u001b[0mmodel\u001b[0m\u001b[0;34m)\u001b[0m\u001b[0;34m.\u001b[0m\u001b[0mcreate\u001b[0m\u001b[0;34m(\u001b[0m\u001b[0mprog\u001b[0m\u001b[0;34m=\u001b[0m\u001b[0;34m'dot'\u001b[0m\u001b[0;34m,\u001b[0m \u001b[0mformat\u001b[0m\u001b[0;34m=\u001b[0m\u001b[0;34m'svg'\u001b[0m\u001b[0;34m)\u001b[0m\u001b[0;34m)\u001b[0m\u001b[0;34m\u001b[0m\u001b[0m\n\u001b[0m",
      "\u001b[0;32m~/anaconda3/lib/python3.6/site-packages/keras/utils/vis_utils.py\u001b[0m in \u001b[0;36mmodel_to_dot\u001b[0;34m(model, show_shapes, show_layer_names, rankdir)\u001b[0m\n\u001b[1;32m     53\u001b[0m     \u001b[0;32mfrom\u001b[0m \u001b[0;34m.\u001b[0m\u001b[0;34m.\u001b[0m\u001b[0mmodels\u001b[0m \u001b[0;32mimport\u001b[0m \u001b[0mSequential\u001b[0m\u001b[0;34m\u001b[0m\u001b[0m\n\u001b[1;32m     54\u001b[0m \u001b[0;34m\u001b[0m\u001b[0m\n\u001b[0;32m---> 55\u001b[0;31m     \u001b[0m_check_pydot\u001b[0m\u001b[0;34m(\u001b[0m\u001b[0;34m)\u001b[0m\u001b[0;34m\u001b[0m\u001b[0m\n\u001b[0m\u001b[1;32m     56\u001b[0m     \u001b[0mdot\u001b[0m \u001b[0;34m=\u001b[0m \u001b[0mpydot\u001b[0m\u001b[0;34m.\u001b[0m\u001b[0mDot\u001b[0m\u001b[0;34m(\u001b[0m\u001b[0;34m)\u001b[0m\u001b[0;34m\u001b[0m\u001b[0m\n\u001b[1;32m     57\u001b[0m     \u001b[0mdot\u001b[0m\u001b[0;34m.\u001b[0m\u001b[0mset\u001b[0m\u001b[0;34m(\u001b[0m\u001b[0;34m'rankdir'\u001b[0m\u001b[0;34m,\u001b[0m \u001b[0mrankdir\u001b[0m\u001b[0;34m)\u001b[0m\u001b[0;34m\u001b[0m\u001b[0m\n",
      "\u001b[0;32m~/anaconda3/lib/python3.6/site-packages/keras/utils/vis_utils.py\u001b[0m in \u001b[0;36m_check_pydot\u001b[0;34m()\u001b[0m\n\u001b[1;32m     18\u001b[0m     \u001b[0;32mif\u001b[0m \u001b[0mpydot\u001b[0m \u001b[0;32mis\u001b[0m \u001b[0;32mNone\u001b[0m\u001b[0;34m:\u001b[0m\u001b[0;34m\u001b[0m\u001b[0m\n\u001b[1;32m     19\u001b[0m         raise ImportError(\n\u001b[0;32m---> 20\u001b[0;31m             \u001b[0;34m'Failed to import `pydot`. '\u001b[0m\u001b[0;34m\u001b[0m\u001b[0m\n\u001b[0m\u001b[1;32m     21\u001b[0m             \u001b[0;34m'Please install `pydot`. '\u001b[0m\u001b[0;34m\u001b[0m\u001b[0m\n\u001b[1;32m     22\u001b[0m             'For example with `pip install pydot`.')\n",
      "\u001b[0;31mImportError\u001b[0m: Failed to import `pydot`. Please install `pydot`. For example with `pip install pydot`."
     ]
    }
   ],
   "source": [
    "SVG(model_to_dot(model).create(prog='dot', format='svg'))"
   ]
  },
  {
   "cell_type": "code",
   "execution_count": null,
   "metadata": {
    "collapsed": true
   },
   "outputs": [],
   "source": []
  },
  {
   "cell_type": "code",
   "execution_count": 83,
   "metadata": {
    "collapsed": true
   },
   "outputs": [],
   "source": [
    "model = get_model()"
   ]
  },
  {
   "cell_type": "code",
   "execution_count": 59,
   "metadata": {},
   "outputs": [],
   "source": [
    "batch_size = 2500\n",
    "learning_rate = 0.0001"
   ]
  },
  {
   "cell_type": "code",
   "execution_count": 60,
   "metadata": {},
   "outputs": [
    {
     "name": "stdout",
     "output_type": "stream",
     "text": [
      "Train on 1112666 samples, validate on 278166 samples\n",
      "Epoch 1/30\n",
      "1112666/1112666 [==============================] - 29s 26us/step - loss: 0.2636 - val_loss: 0.2607\n",
      "\n",
      "Epoch 00001: val_loss improved from inf to 0.26071, saving model to best.hdf5\n",
      "Epoch 2/30\n",
      "1112666/1112666 [==============================] - 25s 22us/step - loss: 0.2612 - val_loss: 0.2605\n",
      "\n",
      "Epoch 00002: val_loss improved from 0.26071 to 0.26053, saving model to best.hdf5\n",
      "Epoch 3/30\n",
      "1112666/1112666 [==============================] - 25s 22us/step - loss: 0.2605 - val_loss: 0.2610\n",
      "\n",
      "Epoch 00003: val_loss did not improve from 0.26053\n",
      "Epoch 4/30\n",
      "1112666/1112666 [==============================] - 24s 22us/step - loss: 0.2597 - val_loss: 0.2613\n",
      "\n",
      "Epoch 00004: val_loss did not improve from 0.26053\n",
      "Epoch 5/30\n",
      "1112666/1112666 [==============================] - 25s 22us/step - loss: 0.2578 - val_loss: 0.2634\n",
      "\n",
      "Epoch 00005: val_loss did not improve from 0.26053\n",
      "Epoch 6/30\n",
      "1112666/1112666 [==============================] - 25s 22us/step - loss: 0.2567 - val_loss: 0.2634\n",
      "\n",
      "Epoch 00006: val_loss did not improve from 0.26053\n"
     ]
    },
    {
     "data": {
      "text/plain": [
       "<keras.callbacks.History at 0x7f1653b1cc50>"
      ]
     },
     "execution_count": 60,
     "metadata": {},
     "output_type": "execute_result"
    }
   ],
   "source": [
    "model.compile(optimizer=Adam(), loss = root_mean_squared_error)\n",
    "checkpoint = ModelCheckpoint('best.hdf5', monitor='val_loss', verbose=1, save_best_only=True)\n",
    "\n",
    "early = EarlyStopping(patience=4, mode='min')\n",
    "reduce_lr =  ReduceLROnPlateau(monitor='val_loss', factor=0.5, patience=2, min_lr=0.000001)\n",
    "lrate_exp = LearningRateScheduler(exp_decay)\n",
    "clr = CyclicLR(mode='exp_range', base_lr=0.0001, max_lr=0.1)\n",
    "\n",
    "callbacks = [checkpoint, early, reduce_lr]\n",
    "\n",
    "\n",
    "model.fit(X_train, y_train, validation_data=(X_valid, y_valid),\n",
    "          batch_size=batch_size, epochs=30, callbacks=callbacks, verbose=1)\n",
    "    "
   ]
  },
  {
   "cell_type": "code",
   "execution_count": 326,
   "metadata": {
    "collapsed": true
   },
   "outputs": [],
   "source": [
    "model.load_weights('best.hdf5')"
   ]
  },
  {
   "cell_type": "code",
   "execution_count": 343,
   "metadata": {},
   "outputs": [
    {
     "data": {
      "text/plain": [
       "<tf.Tensor 'GatherV2_13:0' shape=(100,) dtype=float32>"
      ]
     },
     "execution_count": 343,
     "metadata": {},
     "output_type": "execute_result"
    }
   ],
   "source": []
  },
  {
   "cell_type": "code",
   "execution_count": null,
   "metadata": {
    "collapsed": true
   },
   "outputs": [],
   "source": [
    "0.2133 / 0.2420 "
   ]
  },
  {
   "cell_type": "code",
   "execution_count": 116,
   "metadata": {},
   "outputs": [
    {
     "data": {
      "image/png": "[encoded data removed]",
      "text/plain": [
       "<matplotlib.figure.Figure at 0x7facfc05ca20>"
      ]
     },
     "metadata": {},
     "output_type": "display_data"
    }
   ],
   "source": [
    "plot_lr(clr.history)"
   ]
  },
  {
   "cell_type": "code",
   "execution_count": 171,
   "metadata": {
    "collapsed": true
   },
   "outputs": [],
   "source": [
    "y_pred = model.predict(X_valid, batch_size=batch_size)\n",
    "y_pred = np.clip(y_pred, 0, 1)"
   ]
  },
  {
   "cell_type": "code",
   "execution_count": 172,
   "metadata": {
    "scrolled": true
   },
   "outputs": [
    {
     "data": {
      "text/plain": [
       "0.2133922860754405"
      ]
     },
     "execution_count": 172,
     "metadata": {},
     "output_type": "execute_result"
    }
   ],
   "source": [
    "math.sqrt(((y_valid-y_pred)**2).mean())"
   ]
  },
  {
   "cell_type": "code",
   "execution_count": 141,
   "metadata": {},
   "outputs": [
    {
     "data": {
      "text/plain": [
       "(227848, 1)"
      ]
     },
     "execution_count": 141,
     "metadata": {},
     "output_type": "execute_result"
    }
   ],
   "source": [
    "y_pred.shape"
   ]
  },
  {
   "cell_type": "code",
   "execution_count": 144,
   "metadata": {},
   "outputs": [
    {
     "name": "stdout",
     "output_type": "stream",
     "text": [
      "[ 0.0403143   0.4394172   0.02837736 ...,  0.16886499  0.33733565\n",
      "  0.13886825]\n"
     ]
    }
   ],
   "source": [
    "sess = tf.Session()\n",
    "\n",
    "with sess.as_default():\n",
    "    print(K.sqrt(K.mean(K.square(y_valid - y_pred))).eval())"
   ]
  },
  {
   "cell_type": "code",
   "execution_count": null,
   "metadata": {
    "collapsed": true
   },
   "outputs": [],
   "source": []
  },
  {
   "cell_type": "code",
   "execution_count": 153,
   "metadata": {
    "collapsed": true
   },
   "outputs": [],
   "source": [
    "#model.load_weights('model_baseline_weights.hdf5')\n",
    "y_pred = model.predict(X_test, batch_size=batch_size)\n",
    "y_pred = np.clip(y_pred, 0, 1)\n",
    "df_submission = pd.DataFrame(df_test['item_id'], columns=['item_id'])\n",
    "df_submission['deal_probability'] = y_pred\n",
    "df_submission[['item_id','deal_probability']].to_csv('../../../submission.csv', index=False)"
   ]
  },
  {
   "cell_type": "code",
   "execution_count": null,
   "metadata": {
    "collapsed": true
   },
   "outputs": [],
   "source": []
  },
  {
   "cell_type": "code",
   "execution_count": null,
   "metadata": {
    "collapsed": true
   },
   "outputs": [],
   "source": []
  },
  {
   "cell_type": "code",
   "execution_count": null,
   "metadata": {
    "collapsed": true
   },
   "outputs": [],
   "source": []
  },
  {
   "cell_type": "code",
   "execution_count": null,
   "metadata": {
    "collapsed": true
   },
   "outputs": [],
   "source": []
  }
 ],
 "metadata": {
  "kernelspec": {
   "display_name": "Python 3",
   "language": "python",
   "name": "python3"
  },
  "language_info": {
   "codemirror_mode": {
    "name": "ipython",
    "version": 3
   },
   "file_extension": ".py",
   "mimetype": "text/x-python",
   "name": "python",
   "nbconvert_exporter": "python",
   "pygments_lexer": "ipython3",
   "version": "3.6.8"
  }
 },
 "nbformat": 4,
 "nbformat_minor": 2
}
