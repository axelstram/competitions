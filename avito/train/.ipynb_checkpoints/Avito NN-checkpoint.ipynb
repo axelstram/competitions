{
 "cells": [
  {
   "cell_type": "code",
   "execution_count": 51,
   "metadata": {},
   "outputs": [],
   "source": [
    "import pandas as pd\n",
    "import numpy as np\n",
    "import math\n",
    "from keras.models import Model\n",
    "from keras.layers import *\n",
    "from keras.layers.merge import concatenate, dot, multiply, add\n",
    "from keras.callbacks import Callback, EarlyStopping, ModelCheckpoint, ReduceLROnPlateau, LearningRateScheduler\n",
    "from keras.optimizers import *\n",
    "from keras import backend as K\n",
    "from keras import losses\n",
    "from keras.preprocessing.text import Tokenizer\n",
    "from keras.utils import to_categorical\n",
    "from keras.preprocessing.sequence import pad_sequences\n",
    "from clr import CyclicLR\n",
    "import matplotlib.pyplot as plt\n",
    "from nltk.corpus import stopwords\n",
    "from tqdm import tqdm\n",
    "import gc\n",
    "from sklearn import model_selection\n",
    "import tensorflow as tf\n",
    "import sys\n",
    "from keras.layers.noise import GaussianNoise\n",
    "\n",
    "from IPython.display import SVG\n",
    "from keras.utils.vis_utils import model_to_dot"
   ]
  },
  {
   "cell_type": "code",
   "execution_count": 2,
   "metadata": {
    "collapsed": true
   },
   "outputs": [],
   "source": [
    "def log_prices(data):\n",
    "    prices = data.price.as_matrix()\n",
    "    prices = np.log1p(prices)\n",
    "    prices[prices==-np.inf] = -1\n",
    "    return prices"
   ]
  },
  {
   "cell_type": "code",
   "execution_count": 3,
   "metadata": {
    "collapsed": true
   },
   "outputs": [],
   "source": [
    "def root_mean_squared_error(y_true, y_pred):\n",
    "        return K.sqrt(K.mean(K.square(y_true - y_pred))) "
   ]
  },
  {
   "cell_type": "code",
   "execution_count": 4,
   "metadata": {
    "collapsed": true
   },
   "outputs": [],
   "source": [
    "def get_coefs(word, *arr): return word, np.asarray(arr, dtype='float32')"
   ]
  },
  {
   "cell_type": "code",
   "execution_count": 5,
   "metadata": {
    "collapsed": true
   },
   "outputs": [],
   "source": [
    "def tokenizer_fit(col, df_train, df_test):\n",
    "    tokenizer = Tokenizer(filters='', lower=False, split='뷁', oov_token='oov')\n",
    "    tokenizer.fit_on_texts(df_train[col])\n",
    "    train_sequences = np.array(tokenizer.texts_to_sequences(df_train[col]))\n",
    "    test_sequences = np.array(tokenizer.texts_to_sequences(df_test[col]))\n",
    "    \n",
    "    return train_sequences, test_sequences, tokenizer"
   ]
  },
  {
   "cell_type": "code",
   "execution_count": 6,
   "metadata": {
    "collapsed": true
   },
   "outputs": [],
   "source": [
    "def group_target_by_fields(df, target, cols = None):\n",
    "    if cols is None:\n",
    "        cols = df.columns\n",
    "    \n",
    "    target_mean = df[target].mean()\n",
    "    target_std = df[target].std()\n",
    "    \n",
    "    for c in cols:\n",
    "        gp = df.groupby(c)[target]\n",
    "        mean = gp.mean()\n",
    "        std  = gp.std()\n",
    "        \n",
    "        if pd.DataFrame(mean).isnull().values.any():\n",
    "            mean = mean.fillna(target_mean)\n",
    "            \n",
    "        if pd.DataFrame(std).isnull().values.any():\n",
    "            std = std.fillna(target_std)\n",
    "            \n",
    "        df[c + '_' + target + '_avg'] = df[c].map(mean)\n",
    "        df[c + '_' + target + '_std'] = df[c].map(std)"
   ]
  },
  {
   "cell_type": "code",
   "execution_count": 7,
   "metadata": {
    "collapsed": true
   },
   "outputs": [],
   "source": [
    "def do_feature_engineering(df, text_features, cat_features):\n",
    "    for col in text_features:\n",
    "        df[col] = df[col].str.lower()\n",
    "        df[col] = df[col].str.replace(\"[^[:alpha:]]\", \" \")\n",
    "        df[col] = df[col].str.replace(\"\\\\s+\", \" \")\n",
    "        df[col + '_num_chars'] = df[col].apply(len)\n",
    "        df[col + '_num_words'] = df[col].apply(lambda comment: len(comment.split()))\n",
    "        df[col + '_num_unique_words'] = df[col].apply(lambda comment: len(set(w for w in comment.split())))\n",
    "        df[col + '_words_vs_unique'] = df[col+'_num_unique_words'] / df[col+'_num_words'] * 100\n",
    "\n",
    "    group_target_by_fields(df, target='deal_probability', cols=cat_features)"
   ]
  },
  {
   "cell_type": "code",
   "execution_count": 8,
   "metadata": {
    "collapsed": true
   },
   "outputs": [],
   "source": [
    "def plot_lr(history):\n",
    "    plt.ylabel(\"loss\")\n",
    "    plt.xlabel(\"learning rate\")\n",
    "    plt.plot(history['lr'], history['loss'])\n",
    "    plt.show()"
   ]
  },
  {
   "cell_type": "code",
   "execution_count": 9,
   "metadata": {
    "collapsed": true
   },
   "outputs": [],
   "source": [
    "def append_text_features(X, descr_features, title_features, params_features, descr_repeat_times=1,\n",
    "                         title_repeat_times=1, params_repeat_times=1, idx=None):\n",
    "        \n",
    "    for i in range(descr_repeat_times):\n",
    "        X.append(descr_features[idx])\n",
    "    \n",
    "    for i in range(title_repeat_times):\n",
    "        X.append(title_features[idx])\n",
    "        \n",
    "    for i in range(params_repeat_times):\n",
    "        X.append(params_features[idx])"
   ]
  },
  {
   "cell_type": "code",
   "execution_count": 10,
   "metadata": {
    "collapsed": true
   },
   "outputs": [],
   "source": [
    "def exp_decay(epoch):\n",
    "    initial_lrate = learning_rate\n",
    "    k = 0.1\n",
    "    lrate = initial_lrate * math.exp(-k*epoch)\n",
    "    print(lrate)\n",
    "    \n",
    "    return lrate"
   ]
  },
  {
   "cell_type": "code",
   "execution_count": 58,
   "metadata": {
    "collapsed": true
   },
   "outputs": [],
   "source": [
    "def get_model():\n",
    "    K.clear_session()\n",
    "    inp_region = Input(shape=(1, ), name='inp_region')\n",
    "    emb_region = Embedding(len_region, size_emb_region, name='emb_region')(inp_region)\n",
    "    emb_region = Reshape(target_shape=(size_emb_region,))(emb_region)\n",
    "    \n",
    "    inp_parentcatname = Input(shape=(1, ), name='inp_parent_category_name')\n",
    "    emb_parentcatname = Embedding(len_parentcatname, size_emb_parentcatname, name='emb_parent_category_name')(inp_parentcatname)\n",
    "    emb_parentcatname = Reshape(target_shape=(size_emb_parentcatname,))(emb_parentcatname)\n",
    "    \n",
    "    inp_catname = Input(shape=(1, ), name='inp_category_name')\n",
    "    emb_catname = Embedding(len_catname, size_emb_catname, name=\"emb_category_name\")(inp_catname)\n",
    "    emb_catname = Reshape(target_shape=(size_emb_catname,))(emb_catname)\n",
    "    \n",
    "    inp_usertype = Input(shape=(1, ), name='inp_user_type')\n",
    "    emb_usertype = Embedding(len_usertype, size_emb_usertype, name='emb_user_type')(inp_usertype)\n",
    "    emb_usertype = Reshape(target_shape=(size_emb_usertype,))(emb_usertype)\n",
    "        \n",
    "    inp_city = Input(shape=(1, ), name='inp_city')\n",
    "    emb_city = Embedding(len_city, size_emb_city, name='emb_city')(inp_city)\n",
    "    emb_city = Reshape(target_shape=(size_emb_city,))(emb_city)\n",
    "    \n",
    "    inp_week = Input(shape=(1, ), name='inp_week')\n",
    "    emb_week = Embedding(len_week, size_emb_week, name='emb_week')(inp_week)\n",
    "    emb_week = Reshape(target_shape=(size_emb_week,))(emb_week)\n",
    "    \n",
    "    inp_day = Input(shape=(1, ), name='inp_day_of_month')\n",
    "    emb_day = Embedding(len_day_month, size_emb_day_month, name='emb_day_of_month')(inp_day)\n",
    "    emb_day = Reshape(target_shape=(size_emb_day_month,))(emb_day)\n",
    "    \n",
    "    inp_imgt1 = Input(shape=(1, ), name='inp_imgt1')\n",
    "    emb_imgt1 = Embedding(len_imgt1, size_emb_imgt1, name='emb_imgt1')(inp_imgt1)\n",
    "    emb_imgt1 = Reshape(target_shape=(size_emb_imgt1,))(emb_imgt1)\n",
    "    \n",
    "    inp_price = Input(shape=(1, ), name='inp_price')\n",
    "    x = GaussianNoise(1)(inp_price)\n",
    "    emb_price = Dense(size_emb_price, activation='tanh', name='emb_price')(x)\n",
    "\n",
    "    inp_itemseq = Input(shape=(1, ), name='inp_itemseq')\n",
    "    emb_itemseq = Dense(size_emb_itemseq, activation='tanh', name='emb_itemseq')(inp_itemseq)\n",
    "    \n",
    "    inp_feat_eng = Input(shape=(len_feat_eng, ), name='inp_feat_eng')\n",
    "    x = GaussianNoise(1)(inp_feat_eng)\n",
    "    emb_feat_eng = Dense(size_emb_feat_eng, activation='tanh', name='emb_feat_eng')(x)\n",
    "    \n",
    "    conc_cat_and_cont = concatenate([emb_region, emb_parentcatname, emb_catname, emb_usertype, emb_city, emb_week, \n",
    "                             emb_day, emb_imgt1, emb_price, emb_itemseq, emb_feat_eng], axis=-1, name='concat_cat_and_cont')\n",
    "    \n",
    "    x = Dropout(dropout)(conc_cat_and_cont)\n",
    "    x = Dense(25, activation='relu')(x)\n",
    "    x = BatchNormalization()(x)\n",
    "    x = Dropout(dropout)(x)\n",
    "    cat_cont_layer = Dense(25, activation='relu')(x)\n",
    "    \n",
    "    ### text\n",
    "    ### description\n",
    "    # channel 1\n",
    "#     input_descr_1 = Input(shape=(maxlen_description, ), name='inp_descr_1')\n",
    "#     emb_descr_1 = Embedding(descr_vocabulary_size, size_emb_desc, name='emb_descr_1')(input_descr_1)\n",
    "#     x = SpatialDropout1D(spatial_dropout)(emb_descr_1)\n",
    "#     #descr_layer = Bidirectional(GRU(30, return_sequences=False, dropout=dropout, recurrent_dropout=dropout), merge_mode='ave')(x)\n",
    "#     x = Conv1D(filters=32, kernel_size=1, activation='relu')(x)\n",
    "#     x = MaxPool1D(pool_size=2)(x)\n",
    "#     descr_layer = Flatten()(x)\n",
    "    #x = Dropout(dropout)(x)\n",
    "    #x = Conv1D(filters=64, kernel_size=1, activation='relu')(x)\n",
    "    #x = Dropout(dropout)(x)\n",
    "    #x = Conv1D(filters=128, kernel_size=1, activation='relu')(x)\n",
    "    #avg_pool = GlobalAveragePooling1D()(x)\n",
    "    #max_pool = GlobalMaxPooling1D()(x)\n",
    "    #descr_layer = concatenate([avg_pool, max_pool])    \n",
    "    # channel 2\n",
    "#     input_descr_2 = Input(shape=(maxlen_description, ), name='inp_descr_2')\n",
    "#     emb_descr_2 = Embedding(descr_vocabulary_size, size_emb_desc, weights = [embedding_matrix_descr], trainable=False, name='emb_descr_2')(input_descr_2)\n",
    "#     x = Dropout(dropout)(emb_descr_2)\n",
    "#     x = Conv1D(filters=32, kernel_size=1, activation='relu')(x)\n",
    "#     x = Dropout(dropout)(x)\n",
    "#     x = Conv1D(filters=64, kernel_size=1, activation='relu')(x)\n",
    "#     x = Dropout(dropout)(x)\n",
    "#     x = Conv1D(filters=128, kernel_size=1, activation='relu')(x)\n",
    "#     avg_pool = GlobalAveragePooling1D()(x)\n",
    "#     max_pool = GlobalMaxPooling1D()(x)\n",
    "#     conc2 = concatenate([avg_pool, max_pool]) \n",
    "# #     # channel 3\n",
    "#     input_descr_3 = Input(shape=(maxlen_description, ), name='inp_descr_3')\n",
    "#     emb_descr_3 = Embedding(descr_vocabulary_size, size_emb_desc, weights = [embedding_matrix_descr], trainable=False, name='emb_descr_3')(input_descr_3)\n",
    "#     x = Dropout(dropout)(emb_descr_3)\n",
    "#     x = Conv1D(filters=32, kernel_size=1, activation='relu')(x)\n",
    "#     x = Dropout(dropout)(x)\n",
    "#     x = Conv1D(filters=64, kernel_size=1, activation='relu')(x)\n",
    "#     x = Dropout(dropout)(x)\n",
    "#     x = Conv1D(filters=128, kernel_size=1, activation='relu')(x)\n",
    "#     avg_pool = GlobalAveragePooling1D()(x)\n",
    "#     max_pool = GlobalMaxPooling1D()(x)\n",
    "#     conc3 = concatenate([avg_pool, max_pool]) \n",
    "    \n",
    "#     merged = concatenate([conc1, conc2, conc3])\n",
    "#     # interpretation\n",
    "    #x = Dropout(dropout)(x)\n",
    "    #descr_layer = Dense(50, activation='relu')(x)\n",
    "    \n",
    "    ### title\n",
    "    # channel 1\n",
    "#     input_title_1 = Input(shape=(maxlen_title,), name='input_title_1')\n",
    "#     embedding1 = Embedding(title_vocabulary_size, size_emb_title, name='emb_title_1')(input_title_1) \n",
    "#     x = SpatialDropout1D(spatial_dropout)(embedding1)\n",
    "#     title_layer = GRU(10, dropout=dropout, recurrent_dropout=dropout, return_sequences=False)(x)\n",
    "    \n",
    "#     input_descr_1 = Input(shape=(maxlen_description, ), name='inp_descr_1')\n",
    "#     embedding2 = Embedding(descr_vocabulary_size, size_emb_title, name='emb_desc_1')(input_descr_1)\n",
    "#     x = SpatialDropout1D(spatial_dropout)(embedding2)\n",
    "#     descr_layer = GRU(10, dropout=dropout, recurrent_dropout=dropout, return_sequences=False)(x)\n",
    "    \n",
    "    embedding = Embedding(vocabulary_size, size_emb_title, name='emb_title_1')\n",
    "    \n",
    "    input_title_1 = Input(shape=(maxlen_title,), name='input_title_1')\n",
    "    embedding_for_title = embedding(input_title_1)\n",
    "    x = Dropout(dropout)(embedding_for_title)\n",
    "    x = GRU(5, dropout=dropout, recurrent_dropout=dropout, return_sequences=True)(x)\n",
    "    title_layer = GRU(5, dropout=dropout, recurrent_dropout=dropout, return_sequences=False)(x)\n",
    "    #x = BatchNormalization()(x)\n",
    "    #x = Dropout(dropout)(x)\n",
    "    #x = Conv1D(filters=8, kernel_size=1, activation='relu')(x)\n",
    "    #x = BatchNormalization()(x)\n",
    "    #x = Dropout(dropout)(x)\n",
    "    #x = Conv1D(filters=8, kernel_size=1, activation='relu')(x)\n",
    "    #avg_pool = GlobalAveragePooling1D()(x)\n",
    "    #max_pool = GlobalMaxPooling1D()(x)\n",
    "    #title_layer = concatenate([avg_pool, max_pool])\n",
    "    \n",
    "    input_descr_1 = Input(shape=(maxlen_description, ), name='inp_descr_1')\n",
    "    embedding_for_descr = embedding(input_descr_1)\n",
    "    x = Dropout(dropout)(embedding_for_descr)\n",
    "    x = GRU(5, dropout=dropout, recurrent_dropout=dropout, return_sequences=True)(x)\n",
    "    descr_layer = GRU(5, dropout=dropout, recurrent_dropout=dropout, return_sequences=False)(x)\n",
    "#     x = BatchNormalization()(x)\n",
    "#     x = Dropout(dropout)(x)\n",
    "#     x = Conv1D(filters=8, kernel_size=1, activation='relu')(x)\n",
    "#     #x = BatchNormalization()(x)\n",
    "#     #x = Dropout(dropout)(x)\n",
    "#     #x = Conv1D(filters=8, kernel_size=1, activation='relu')(x)\n",
    "#     avg_pool = GlobalAveragePooling1D()(x)\n",
    "#     max_pool = GlobalMaxPooling1D()(x)\n",
    "#    descr_layer = concatenate([avg_pool, max_pool])\n",
    "    \n",
    "    input_params_1 = Input(shape=(maxlen_params, ), name='inp_params_1')\n",
    "    embedding_for_params = embedding(input_params_1)\n",
    "    x = Dropout(dropout)(embedding_for_params)\n",
    "    x = GRU(5, dropout=dropout, recurrent_dropout=dropout, return_sequences=True)(x)\n",
    "    params_layer = GRU(5, dropout=dropout, recurrent_dropout=dropout, return_sequences=False)(x)\n",
    "#     x = BatchNormalization()(x)\n",
    "#     x = Dropout(dropout)(x)\n",
    "#     x = Conv1D(filters=8, kernel_size=1, activation='relu')(x)\n",
    "#     #x = BatchNormalization()(x)\n",
    "#     #x = Dropout(dropout)(x)\n",
    "#     #x = Conv1D(filters=8, kernel_size=1, activation='relu')(x)\n",
    "#     avg_pool = GlobalAveragePooling1D()(x)\n",
    "#     max_pool = GlobalMaxPooling1D()(x)\n",
    "#     params_layer = concatenate([avg_pool, max_pool])\n",
    "#     max_pool = GlobalMaxPooling1D()(x)\n",
    "#     title_layer = concatenate([avg_pool, max_pool])     # channel 2\n",
    "#     input_title_2 = Input(shape=(maxlen_title,), name='input_title_2')\n",
    "#     embedding2 = Embedding(title_vocabulary_size, size_emb_title, weights = [embedding_matrix_title], trainable=False, name='emb_title_2')(input_title_2)\n",
    "\n",
    "#     x = Dropout(dropout)(x)\n",
    "#     x = Conv1D(filters=64, kernel_size=2, activation='relu')(x)\n",
    "#     x = Dropout(dropout)(x)\n",
    "#     x = Conv1D(filters=128, kernel_size=2, activation='relu')(x)\n",
    "#     x = SpatialDropout1D(spatial_dropout)(x)\n",
    "#     x = Conv1D(filters=128, kernel_size=3, activation='relu')(x)\n",
    "#     x = SpatialDropout1D(spatial_dropout)(x)\n",
    "#     x = Conv1D(filters=256, kernel_size=4, activation='relu')(x)\n",
    "#     \n",
    "    # channel 3\n",
    "#     input_title_3 = Input(shape=(maxlen_title,), name='input_title_3')\n",
    "#     embedding3 = Embedding(title_vocabulary_size, size_emb_title, weights = [embedding_matrix_title], trainable=False, name='emb_title_3')(input_title_3)\n",
    "#     x = Dropout(dropout)(embedding3)\n",
    "#     x = Conv1D(filters=32, kernel_size=3, activation='relu')(x)\n",
    "#     x = Dropout(dropout)(x)\n",
    "#     x = Conv1D(filters=64, kernel_size=3, activation='relu')(x)\n",
    "#     x = Dropout(dropout)(x)\n",
    "#     x = Conv1D(filters=128, kernel_size=3, activation='relu')(x)\n",
    "#     x = SpatialDropout1D(spatial_dropout)(x)\n",
    "#     x = Conv1D(filters=128, kernel_size=4, activation='relu')(x)\n",
    "#     x = SpatialDropout1D(spatial_dropout)(x)\n",
    "#     x = Conv1D(filters=256, kernel_size=5, activation='relu')(x)\n",
    "#     avg_pool = GlobalAveragePooling1D()(x)\n",
    "#     max_pool = GlobalMaxPooling1D()(x)\n",
    "#     conc3 = concatenate([avg_pool, max_pool])#     # merge\n",
    "     \n",
    "#     merged = concatenate([conc1, conc2, conc3])\n",
    "#     # interpretation\n",
    "    #x = Dropout(dropout)(x)\n",
    "    #title_layer = Dense(50, activation='relu')(x)\n",
    "    \n",
    "    ### params\n",
    "    # channel 1\n",
    "#     input_params_1 = Input(shape=(maxlen_params,), name='input_params_1')\n",
    "#     embedding1 = Embedding(params_vocabulary_size, size_emb_params, name='emb_params_1')(input_params_1)\n",
    "#     x = SpatialDropout1D(spatial_dropout)(embedding1)\n",
    "#     #x = Conv1D(filters=64, kernel_size=1, activation='relu')(x)\n",
    "#     #x = Bidirectional(GRU(40, return_sequences=True, dropout=dropout, recurrent_dropout=dropout))(x)\n",
    "#     #x = BatchNormalization()(x)\n",
    "#     x = Conv1D(filters=80, kernel_size=1, activation='relu', kernel_regularizer=regularizers.l2(0.5))(x)\n",
    "#     x = Dropout(dropout)(x)\n",
    "#     x = Conv1D(filters=128, kernel_size=3, activation='relu', kernel_regularizer=regularizers.l2(0.5))(x)\n",
    "#     #x = Bidirectional(GRU(40, return_sequences=True, dropout=dropout))(x)\n",
    "#     #x = SpatialDropout1D(spatial_dropout)(x)\n",
    "#     #x = Conv1D(filters=256, kernel_size=3, activation='relu')(x)\n",
    "#     #x = Bidirectional(GRU(40, return_sequences=True))(x)\n",
    "#     avg_pool = GlobalAveragePooling1D()(x)\n",
    "#     max_pool = GlobalMaxPooling1D()(x)\n",
    "#     conc = concatenate([avg_pool, max_pool])    \n",
    "#     # channel 2\n",
    "#     input_params_2 = Input(shape=(maxlen_params,), name='input_params_2')\n",
    "#     embedding2 = Embedding(params_vocabulary_size, size_emb_params, weights = [embedding_matrix_params], trainable=False, name='emb_params_2')(input_params_2)\n",
    "#     x = SpatialDropout1D(spatial_dropout)(embedding2)\n",
    "#     x = Conv1D(filters=64, kernel_size=2, activation='relu')(x)\n",
    "#     x = SpatialDropout1D(spatial_dropout)(x)\n",
    "#     x = Conv1D(filters=128, kernel_size=3, activation='relu')(x)\n",
    "#     x = SpatialDropout1D(spatial_dropout)(x)\n",
    "#     x = Conv1D(filters=256, kernel_size=4, activation='relu')(x)\n",
    "#     flat2 = GlobalMaxPool1D(name='global_max_pooling_params_2')(x)\n",
    "#     # channel 3\n",
    "#     input_params_3 = Input(shape=(maxlen_params,), name='input_params_3')\n",
    "#     embedding3 = Embedding(params_vocabulary_size, size_emb_params, weights = [embedding_matrix_params], trainable=False, name='emb_params_3')(input_params_3)\n",
    "#     x = SpatialDropout1D(spatial_dropout)(embedding3)\n",
    "#     x = Conv1D(filters=64, kernel_size=3, activation='relu')(x)\n",
    "#     x = SpatialDropout1D(spatial_dropout)(x)\n",
    "#     x = Conv1D(filters=128, kernel_size=4, activation='relu')(x)\n",
    "#     x = SpatialDropout1D(spatial_dropout)(x)\n",
    "#     x = Conv1D(filters=256, kernel_size=5, activation='relu')(x)\n",
    "#     flat3 = GlobalMaxPool1D(name='global_max_pooling_params_3')(x)\n",
    "#     # merge\n",
    "#     merged = concatenate([flat1, flat2, flat3])\n",
    "    # interpretation\n",
    "    #x = BatchNormalization()(conc)\n",
    "#     x = Dropout(dropout)(conc)\n",
    "#     params_layer = Dense(20, activation='relu')(x)\n",
    "    \n",
    "#     inp_params= Input(shape=(maxlen_params, ), name='inp_params')\n",
    "#     emb_params = Embedding(params_vocabulary_size, size_emb_params, name='emb_params')(inp_params)\n",
    "\n",
    "#     params_layer = GRU(40, return_sequences=True)(emb_params)\n",
    "\n",
    "\n",
    "    #img_features\n",
    "    #input_img = Input(shape=(number_img_features,), name='input_img')\n",
    "\n",
    "\n",
    "    conc_all = concatenate([cat_cont_layer, title_layer, descr_layer, params_layer], axis=-1)\n",
    "    \n",
    "    \n",
    "    ###\n",
    "    #x = Dropout(dropout)(conc_desc)\n",
    "    #x = Dense(2000, activation='relu')(x)\n",
    "    #x = Dropout(dropout)(conc_all)\n",
    "    #x = Dense(50, activation='relu')(x)\n",
    "    x = BatchNormalization()(conc_all)\n",
    "    x = Dropout(dropout)(x)\n",
    "    y = Dense(1, activation='sigmoid', name='output')(x)\n",
    "\n",
    "    model = Model(inputs = [inp_region, inp_parentcatname, inp_catname, inp_usertype, inp_city, inp_week, inp_day, inp_imgt1, inp_price, inp_itemseq, inp_feat_eng,\n",
    "                            input_descr_1, #input_descr_2, input_descr_3,\n",
    "                            #inp_descr,\n",
    "                            input_title_1, #input_title_2, input_title_3,\n",
    "                            input_params_1,# input_params_2, input_params_3,\n",
    "                            #input_img\n",
    "                           ], outputs = y)\n",
    "    \n",
    "    return model"
   ]
  },
  {
   "cell_type": "code",
   "execution_count": 13,
   "metadata": {
    "collapsed": true
   },
   "outputs": [],
   "source": [
    "PATH = \"/home/axel/Desktop/kaggle/avito/\"\n",
    "EMBEDDING_FILE = PATH + 'train/cc.ru.300.vec'"
   ]
  },
  {
   "cell_type": "code",
   "execution_count": 14,
   "metadata": {
    "collapsed": true
   },
   "outputs": [],
   "source": [
    "df_train = pd.read_csv(f'{PATH}train/train.csv', parse_dates=['activation_date'])\n",
    "df_test  = pd.read_csv(f'{PATH}test/test.csv', parse_dates=['activation_date'])"
   ]
  },
  {
   "cell_type": "code",
   "execution_count": 15,
   "metadata": {
    "collapsed": true
   },
   "outputs": [],
   "source": [
    "stop_words = set(stopwords.words('russian'))"
   ]
  },
  {
   "cell_type": "code",
   "execution_count": 16,
   "metadata": {
    "collapsed": true
   },
   "outputs": [],
   "source": [
    "stop_words = set([word.lower() for word in stop_words])"
   ]
  },
  {
   "cell_type": "code",
   "execution_count": null,
   "metadata": {
    "collapsed": true
   },
   "outputs": [],
   "source": []
  },
  {
   "cell_type": "code",
   "execution_count": 17,
   "metadata": {
    "collapsed": true
   },
   "outputs": [],
   "source": [
    "df_train['image_top_1'].fillna(value=3067, inplace=True)\n",
    "df_test['image_top_1'].fillna(value=3067, inplace=True)\n",
    "\n",
    "df_train['description'].fillna(value='_NA_', inplace=True)\n",
    "df_test['description'].fillna(value='_NA_', inplace=True)\n",
    "\n",
    "df_train['params'] = df_train.apply(lambda row: ' '.join([\n",
    "                        str(row['param_1']), \n",
    "                        str(row['param_2']), \n",
    "                        str(row['param_3'])]), axis=1)\n",
    "\n",
    "df_test['params'] = df_test.apply(lambda row: ' '.join([\n",
    "                        str(row['param_1']), \n",
    "                        str(row['param_2']), \n",
    "                        str(row['param_3'])]),axis=1)\n",
    "\n",
    "df_train['params'].fillna(value='_NA_', inplace=True)\n",
    "df_test['params'].fillna(value='_NA_', inplace=True)\n",
    "\n",
    "df_train['price'].fillna(value=-1.0, inplace=True)\n",
    "df_test['price'].fillna(value=-1.0, inplace=True)\n",
    "\n",
    "df_train['title'] = df_train['title'].str.split(' ').apply(lambda row: ' '.join([word.lower() for word in row if word.lower() not in stop_words]))\n",
    "df_train['description'] = df_train['description'].str.split(' ').apply(lambda row: ' '.join([word.lower() for word in row if word.lower() not in stop_words]))\n",
    "df_train['params'] = df_train['params'].str.split(' ').apply(lambda row: ' '.join([word.lower() for word in row if word.lower() not in stop_words]))\n",
    "\n",
    "df_test['title'] = df_test['title'].str.split(' ').apply(lambda row: ' '.join([word.lower() for word in row if word.lower() not in stop_words]))\n",
    "df_test['description'] = df_test['description'].str.split(' ').apply(lambda row: ' '.join([word.lower() for word in row if word.lower() not in stop_words]))\n",
    "df_test['params'] = df_test['params'].str.split(' ').apply(lambda row: ' '.join([word.lower() for word in row if word.lower() not in stop_words]))"
   ]
  },
  {
   "cell_type": "code",
   "execution_count": 18,
   "metadata": {
    "collapsed": true
   },
   "outputs": [],
   "source": [
    "df_train['weekday'] = df_train['activation_date'].dt.weekday\n",
    "df_train[\"day_of_month\"] = df_train['activation_date'].dt.day\n",
    "\n",
    "\n",
    "df_test['weekday'] = df_test['activation_date'].dt.weekday\n",
    "df_test[\"day_of_month\"] = df_test['activation_date'].dt.day"
   ]
  },
  {
   "cell_type": "code",
   "execution_count": 19,
   "metadata": {
    "collapsed": true
   },
   "outputs": [],
   "source": [
    "text_features = [\"description\", \"params\", \"title\"]\n",
    "\n",
    "cat_features = ['region', 'city', 'parent_category_name', 'category_name',\n",
    "                 'image_top_1', 'user_type','item_seq_number','weekday', 'day_of_month']\n",
    "\n",
    "do_feature_engineering(df_train, text_features, cat_features)"
   ]
  },
  {
   "cell_type": "code",
   "execution_count": 20,
   "metadata": {
    "collapsed": true
   },
   "outputs": [],
   "source": [
    "for c in df_train.columns:\n",
    "        if c.endswith('_std') or c.endswith('avg'):\n",
    "            df_test[c] = df_train[c]"
   ]
  },
  {
   "cell_type": "code",
   "execution_count": null,
   "metadata": {
    "collapsed": true
   },
   "outputs": [],
   "source": []
  },
  {
   "cell_type": "code",
   "execution_count": 21,
   "metadata": {
    "collapsed": true
   },
   "outputs": [],
   "source": [
    "train_region, test_region, tokenizer_region = tokenizer_fit('region', df_train, df_test)\n",
    "train_parentcatname, test_parentcatname, tokenizer_parentcatname = tokenizer_fit('parent_category_name', df_train, df_test)\n",
    "train_catname, test_catname, tokenizer_catname = tokenizer_fit('category_name', df_train, df_test)\n",
    "train_usertype, test_usertype, tokenizer_usertype = tokenizer_fit('user_type', df_train, df_test)\n",
    "train_city, test_city, tokenizer_city = tokenizer_fit('city', df_train, df_test)\n",
    "train_params, test_params, tokenizer_params = tokenizer_fit('params', df_train, df_test)"
   ]
  },
  {
   "cell_type": "code",
   "execution_count": null,
   "metadata": {
    "collapsed": true
   },
   "outputs": [],
   "source": []
  },
  {
   "cell_type": "code",
   "execution_count": 22,
   "metadata": {
    "collapsed": true
   },
   "outputs": [],
   "source": [
    "train_week = df_train['weekday'].astype(np.int32).values\n",
    "test_week = df_test['weekday'].astype(np.int32).values\n",
    "\n",
    "train_day_of_month = df_train['day_of_month'].astype(np.int32).values\n",
    "test_day_of_month = df_test['day_of_month'].astype(np.int32).values"
   ]
  },
  {
   "cell_type": "code",
   "execution_count": 23,
   "metadata": {
    "collapsed": true
   },
   "outputs": [],
   "source": [
    "train_week = np.expand_dims(train_week, axis=-1)\n",
    "test_week = np.expand_dims(test_week, axis=-1)\n",
    "\n",
    "train_day_of_month = np.expand_dims(train_day_of_month, axis=-1)\n",
    "test_day_of_month = np.expand_dims(test_day_of_month, axis=-1)"
   ]
  },
  {
   "cell_type": "code",
   "execution_count": 24,
   "metadata": {
    "collapsed": true
   },
   "outputs": [],
   "source": [
    "train_imgtop1 = df_train['image_top_1'].astype(np.int32).values\n",
    "test_imgtop1 = df_test['image_top_1'].astype(np.int32).values\n",
    "train_imgtop1 = np.expand_dims(train_imgtop1, axis=-1)\n",
    "test_imgtop1 = np.expand_dims(test_imgtop1, axis=-1)"
   ]
  },
  {
   "cell_type": "code",
   "execution_count": 25,
   "metadata": {},
   "outputs": [
    {
     "name": "stderr",
     "output_type": "stream",
     "text": [
      "/home/axel/anaconda3/lib/python3.6/site-packages/ipykernel_launcher.py:2: RuntimeWarning: invalid value encountered in log\n",
      "  \n",
      "/home/axel/anaconda3/lib/python3.6/site-packages/ipykernel_launcher.py:3: RuntimeWarning: invalid value encountered in log\n",
      "  This is separate from the ipykernel package so we can avoid doing imports until\n"
     ]
    }
   ],
   "source": [
    "eps = 1e-10\n",
    "train_price = np.log(df_train['price']+eps)\n",
    "test_price = np.log(df_test['price']+eps)\n",
    "train_price = train_price.fillna(-1.)\n",
    "test_price = test_price.fillna(-1.)\n",
    "\n",
    "train_price = np.expand_dims(train_price, axis=-1)\n",
    "test_price = np.expand_dims(test_price, axis=-1)"
   ]
  },
  {
   "cell_type": "code",
   "execution_count": 26,
   "metadata": {
    "collapsed": true
   },
   "outputs": [],
   "source": [
    "train_itemseq = np.log(df_train['item_seq_number'])\n",
    "test_itemseq = np.log(df_test['item_seq_number'])\n",
    "\n",
    "train_itemseq = np.expand_dims(train_itemseq, axis=-1)\n",
    "test_itemseq = np.expand_dims(test_itemseq, axis=-1)"
   ]
  },
  {
   "cell_type": "code",
   "execution_count": 27,
   "metadata": {
    "collapsed": true
   },
   "outputs": [],
   "source": [
    "vocabulary_size = 8000\n",
    "\n",
    "tokenizer_title_desc = Tokenizer(num_words=vocabulary_size, lower='True')\n",
    "tokenizer_title_desc.fit_on_texts(np.append(df_train['title'].values, [df_train['description'].values, df_train['params'].values]))\n",
    "\n",
    "\n",
    "train_title_seq = tokenizer_title_desc.texts_to_sequences(df_train['title'].values)\n",
    "test_title_seq = tokenizer_title_desc.texts_to_sequences(df_test['title'].values)\n",
    "\n",
    "train_desc_seq = tokenizer_title_desc.texts_to_sequences(df_train['description'].values)\n",
    "test_desc_seq = tokenizer_title_desc.texts_to_sequences(df_test['description'].values)\n",
    "\n",
    "train_params_seq = tokenizer_title_desc.texts_to_sequences(df_train['params'].values)\n",
    "test_params_seq = tokenizer_title_desc.texts_to_sequences(df_test['params'].values)\n",
    "\n",
    "maxlen_description = 100\n",
    "train_desc_pad = pad_sequences(train_desc_seq, maxlen=maxlen_description)\n",
    "test_desc_pad = pad_sequences(test_desc_seq, maxlen=maxlen_description)\n",
    "\n",
    "maxlen_title = 30\n",
    "train_title_pad = pad_sequences(train_title_seq, maxlen=maxlen_title)\n",
    "test_title_pad = pad_sequences(test_title_seq, maxlen=maxlen_title)\n",
    "\n",
    "maxlen_params = 30\n",
    "train_params_pad = pad_sequences(train_params_seq, maxlen=maxlen_params)\n",
    "test_params_pad = pad_sequences(test_params_seq, maxlen=maxlen_params)"
   ]
  },
  {
   "cell_type": "code",
   "execution_count": 28,
   "metadata": {
    "collapsed": true
   },
   "outputs": [],
   "source": [
    "# descr_vocabulary_size = 10000\n",
    "\n",
    "# tokenizer_desc = Tokenizer(num_words=descr_vocabulary_size, lower='True')\n",
    "# tokenizer_desc.fit_on_texts(df_train['description'].values)\n",
    "\n",
    "# train_desc_seq = tokenizer_desc.texts_to_sequences(df_train['description'].values)\n",
    "# test_desc_seq = tokenizer_desc.texts_to_sequences(df_test['description'].values)\n",
    "\n",
    "# maxlen_description = 100\n",
    "# train_desc_pad = pad_sequences(train_desc_seq, maxlen=maxlen_description)\n",
    "# test_desc_pad = pad_sequences(test_desc_seq, maxlen=maxlen_description)"
   ]
  },
  {
   "cell_type": "code",
   "execution_count": 29,
   "metadata": {
    "collapsed": true
   },
   "outputs": [],
   "source": [
    "# title_vocabulary_size = 10000\n",
    "\n",
    "# tokenizer_title = Tokenizer(num_words=title_vocabulary_size, lower='True')\n",
    "# tokenizer_title.fit_on_texts(df_train['title'].values)\n",
    "\n",
    "# train_title_seq = tokenizer_title.texts_to_sequences(df_train['title'].values)\n",
    "# test_title_seq = tokenizer_title.texts_to_sequences(df_test['title'].values)\n",
    "\n",
    "# maxlen_title = 30\n",
    "# train_title_pad = pad_sequences(train_title_seq, maxlen=maxlen_title)\n",
    "# test_title_pad = pad_sequences(test_title_seq, maxlen=maxlen_title)"
   ]
  },
  {
   "cell_type": "code",
   "execution_count": 30,
   "metadata": {
    "collapsed": true
   },
   "outputs": [],
   "source": [
    "# params_vocabulary_size = 10000\n",
    "\n",
    "# tokenizer_params = Tokenizer(num_words=params_vocabulary_size, lower='True')\n",
    "# tokenizer_params.fit_on_texts(df_train['params'].values)\n",
    "\n",
    "# train_params_seq = tokenizer_params.texts_to_sequences(df_train['params'].values)\n",
    "# test_params_seq = tokenizer_params.texts_to_sequences(df_test['params'].values)\n",
    "\n",
    "# maxlen_params = 30\n",
    "# train_params_pad = pad_sequences(train_params_seq, maxlen=maxlen_params)\n",
    "# test_params_pad = pad_sequences(test_params_seq, maxlen=maxlen_params)"
   ]
  },
  {
   "cell_type": "code",
   "execution_count": 31,
   "metadata": {
    "collapsed": true
   },
   "outputs": [],
   "source": [
    "feat_eng_cols = [c for c in df_train.columns if c.endswith('_avg') or c.endswith('_std')]\n",
    "\n",
    "## categorical\n",
    "len_region = len(tokenizer_region.word_index)\n",
    "len_parentcatname = len(tokenizer_parentcatname.word_index)\n",
    "len_catname = len(tokenizer_catname.word_index) \n",
    "len_usertype = len(tokenizer_usertype.word_index)\n",
    "len_city = len(tokenizer_city.word_index) + 1\n",
    "len_week = 7\n",
    "len_day_month = int(df_train['day_of_month'].max()) + 1\n",
    "len_imgt1 = int(df_train['image_top_1'].max()) + 1\n",
    "\n",
    "## continuous\n",
    "len_price = 1\n",
    "len_itemseq = 1\n",
    "len_feat_eng = len(feat_eng_cols)"
   ]
  },
  {
   "cell_type": "code",
   "execution_count": null,
   "metadata": {
    "collapsed": true
   },
   "outputs": [],
   "source": []
  },
  {
   "cell_type": "code",
   "execution_count": 33,
   "metadata": {
    "collapsed": true
   },
   "outputs": [],
   "source": [
    "## categorical\n",
    "size_emb_region = 8\n",
    "size_emb_parentcatname = 4\n",
    "size_emb_catname = 8\n",
    "size_emb_usertype = 2\n",
    "size_emb_city = 16\n",
    "size_emb_week = 4\n",
    "size_emb_day_month = 10\n",
    "size_emb_imgt1 = 30\n",
    "\n",
    "#continuous\n",
    "size_emb_price = 1\n",
    "size_emb_itemseq = 16\n",
    "size_emb_feat_eng = 18\n",
    "\n",
    "\n",
    "#text\n",
    "size_emb_desc = 50\n",
    "size_emb_title = 50\n",
    "size_emb_params = 50\n",
    "\n",
    "#dropout\n",
    "spatial_dropout = 0.5\n",
    "dropout = 0.5"
   ]
  },
  {
   "cell_type": "code",
   "execution_count": 34,
   "metadata": {
    "collapsed": true
   },
   "outputs": [],
   "source": [
    "#train_idx = df_train[df_train.activation_date < '2017-03-27'].index\n",
    "#val_idx = df_train[(df_train.activation_date >= '2017-03-27') & (df_train.activation_date <= '2017-04-07')].index\n",
    "test_idx = df_test.index.values"
   ]
  },
  {
   "cell_type": "code",
   "execution_count": 35,
   "metadata": {
    "collapsed": true
   },
   "outputs": [],
   "source": [
    "val_idx = df_train.sample(frac=0.2).index\n",
    "train_idx = df_train[np.invert(df_train.index.isin(val_idx))].index"
   ]
  },
  {
   "cell_type": "code",
   "execution_count": 36,
   "metadata": {},
   "outputs": [
    {
     "data": {
      "text/plain": [
       "1202739"
      ]
     },
     "execution_count": 36,
     "metadata": {},
     "output_type": "execute_result"
    }
   ],
   "source": [
    "len(train_idx)"
   ]
  },
  {
   "cell_type": "code",
   "execution_count": 37,
   "metadata": {},
   "outputs": [
    {
     "data": {
      "text/plain": [
       "300685"
      ]
     },
     "execution_count": 37,
     "metadata": {},
     "output_type": "execute_result"
    }
   ],
   "source": [
    "len(val_idx)"
   ]
  },
  {
   "cell_type": "code",
   "execution_count": null,
   "metadata": {
    "collapsed": true
   },
   "outputs": [],
   "source": []
  },
  {
   "cell_type": "code",
   "execution_count": null,
   "metadata": {
    "collapsed": true
   },
   "outputs": [],
   "source": []
  },
  {
   "cell_type": "code",
   "execution_count": 38,
   "metadata": {
    "collapsed": true
   },
   "outputs": [],
   "source": [
    "feat_eng_train = []\n",
    "feat_eng_test = []\n",
    "\n",
    "for row in df_train[feat_eng_cols].iterrows():\n",
    "    index, data = row\n",
    "    feat_eng_train.append(data.tolist())\n",
    "    \n",
    "for row in df_test[feat_eng_cols].iterrows():\n",
    "    index, data = row\n",
    "    feat_eng_test.append(data.tolist())"
   ]
  },
  {
   "cell_type": "code",
   "execution_count": 39,
   "metadata": {
    "collapsed": true
   },
   "outputs": [],
   "source": [
    "feat_eng_train = np.array(feat_eng_train)\n",
    "feat_eng_test = np.array(feat_eng_test)"
   ]
  },
  {
   "cell_type": "code",
   "execution_count": null,
   "metadata": {
    "collapsed": true
   },
   "outputs": [],
   "source": []
  },
  {
   "cell_type": "code",
   "execution_count": 40,
   "metadata": {
    "collapsed": true
   },
   "outputs": [],
   "source": [
    "X = np.array([train_region, train_parentcatname, train_catname, train_usertype, train_city, train_week, train_day_of_month, train_imgtop1,\n",
    "              train_price, train_itemseq])\n",
    "\n",
    "X_test = np.array([test_region, test_parentcatname, test_catname, test_usertype, test_city, test_week, test_day_of_month, test_imgtop1,\n",
    "                   test_price, test_itemseq])\n",
    "\n",
    "Y = df_train['deal_probability']"
   ]
  },
  {
   "cell_type": "code",
   "execution_count": null,
   "metadata": {
    "collapsed": true
   },
   "outputs": [],
   "source": []
  },
  {
   "cell_type": "code",
   "execution_count": 41,
   "metadata": {
    "collapsed": true
   },
   "outputs": [],
   "source": [
    "X_train = [x[train_idx] for x in X]\n",
    "X_valid = [x[val_idx] for x in X]\n",
    "X_test = [x for x in X_test]\n",
    "\n",
    "y_train = np.expand_dims(Y[train_idx].ravel(), axis=-1)\n",
    "y_valid = np.expand_dims(Y[val_idx].ravel(), axis=-1)"
   ]
  },
  {
   "cell_type": "code",
   "execution_count": 42,
   "metadata": {
    "collapsed": true
   },
   "outputs": [],
   "source": [
    "X_train.append(feat_eng_train[train_idx])\n",
    "X_valid.append(feat_eng_train[val_idx])\n",
    "X_test.append(feat_eng_test[test_idx])"
   ]
  },
  {
   "cell_type": "code",
   "execution_count": 43,
   "metadata": {
    "collapsed": true
   },
   "outputs": [],
   "source": [
    "append_text_features(X_train, train_desc_pad, train_title_pad, train_params_pad, \n",
    "                     title_repeat_times=1, descr_repeat_times=1, params_repeat_times=1, idx=train_idx)\n",
    "append_text_features(X_valid, train_desc_pad, train_title_pad, train_params_pad,\n",
    "                     title_repeat_times=1, descr_repeat_times=1, params_repeat_times=1, idx=val_idx)\n",
    "append_text_features(X_test, test_desc_pad, test_title_pad, test_params_pad,\n",
    "                     title_repeat_times=1, descr_repeat_times=1, params_repeat_times=1, idx=test_idx)"
   ]
  },
  {
   "cell_type": "code",
   "execution_count": null,
   "metadata": {
    "collapsed": true
   },
   "outputs": [],
   "source": []
  },
  {
   "cell_type": "code",
   "execution_count": 64,
   "metadata": {
    "collapsed": true
   },
   "outputs": [],
   "source": [
    "# from sklearn.feature_extraction.text import CountVectorizer\n",
    "\n",
    "# count_title_descr = CountVectorizer(max_features=vocabulary_size, stop_words = stopwords.words('russian'),\n",
    "#                               ngram_range=(1,1), min_df=10, max_df=0.4)\n"
   ]
  },
  {
   "cell_type": "code",
   "execution_count": 65,
   "metadata": {},
   "outputs": [
    {
     "data": {
      "text/plain": [
       "CountVectorizer(analyzer='word', binary=False, decode_error='strict',\n",
       "        dtype=<class 'numpy.int64'>, encoding='utf-8', input='content',\n",
       "        lowercase=True, max_df=0.4, max_features=10000, min_df=10,\n",
       "        ngram_range=(1, 1), preprocessor=None,\n",
       "        stop_words=['и', 'в', 'во', 'не', 'что', 'он', 'на', 'я', 'с', 'со', 'как', 'а', 'то', 'все', 'она', 'так', 'его', 'но', 'да', 'ты', 'к', 'у', 'же', 'вы', 'за', 'бы', 'по', 'только', 'ее', 'мне', 'было', 'вот', 'от', 'меня', 'еще', 'нет', 'о', 'из', 'ему', 'теперь', 'когда', 'даже', 'ну', 'вдруг', '...гда', 'лучше', 'чуть', 'том', 'нельзя', 'такой', 'им', 'более', 'всегда', 'конечно', 'всю', 'между'],\n",
       "        strip_accents=None, token_pattern='(?u)\\\\b\\\\w\\\\w+\\\\b',\n",
       "        tokenizer=None, vocabulary=None)"
      ]
     },
     "execution_count": 65,
     "metadata": {},
     "output_type": "execute_result"
    }
   ],
   "source": [
    "# count_title_descr.fit(np.append(df_train['title'].values, df_train['description'].values))"
   ]
  },
  {
   "cell_type": "code",
   "execution_count": 141,
   "metadata": {},
   "outputs": [
    {
     "data": {
      "text/plain": [
       "array([   0,    0,    0,    0,    0,    0,    0,    0,    0,    0,    0,\n",
       "          0,    0,    0,    0,    0,    0,    0,    0,    0,    0,    0,\n",
       "          0,    0,    0,    0,    0,    0, 4470,  222], dtype=int32)"
      ]
     },
     "execution_count": 141,
     "metadata": {},
     "output_type": "execute_result"
    }
   ],
   "source": []
  },
  {
   "cell_type": "code",
   "execution_count": 142,
   "metadata": {},
   "outputs": [
    {
     "data": {
      "text/plain": [
       "'вытяжка jetair 60'"
      ]
     },
     "execution_count": 142,
     "metadata": {},
     "output_type": "execute_result"
    }
   ],
   "source": []
  },
  {
   "cell_type": "code",
   "execution_count": 130,
   "metadata": {
    "collapsed": true
   },
   "outputs": [],
   "source": [
    "tokenizer_title_desc_test = Tokenizer(num_words=vocabulary_size, lower='True')\n",
    "tokenizer_title_desc_test.fit_on_texts(np.append(df_test['title'].values, [df_test['description'].values, df_test['params'].values]))\n"
   ]
  },
  {
   "cell_type": "code",
   "execution_count": 135,
   "metadata": {},
   "outputs": [
    {
     "data": {
      "text/plain": [
       "260322"
      ]
     },
     "execution_count": 135,
     "metadata": {},
     "output_type": "execute_result"
    }
   ],
   "source": [
    "len(set(tokenizer_title_desc.word_docs.keys()).intersection(set(tokenizer_title_desc_test.word_docs.keys())))"
   ]
  },
  {
   "cell_type": "code",
   "execution_count": 136,
   "metadata": {},
   "outputs": [
    {
     "data": {
      "text/plain": [
       "412282"
      ]
     },
     "execution_count": 136,
     "metadata": {},
     "output_type": "execute_result"
    }
   ],
   "source": [
    "len(set(tokenizer_title_desc_test.word_docs.keys()))"
   ]
  },
  {
   "cell_type": "code",
   "execution_count": 114,
   "metadata": {
    "collapsed": true
   },
   "outputs": [],
   "source": []
  },
  {
   "cell_type": "code",
   "execution_count": 65,
   "metadata": {
    "collapsed": true
   },
   "outputs": [],
   "source": [
    "# embeddings_index = dict(get_coefs(*o.rstrip().rsplit(' ')) for o in tqdm(open(EMBEDDING_FILE)))"
   ]
  },
  {
   "cell_type": "code",
   "execution_count": 41,
   "metadata": {
    "collapsed": true
   },
   "outputs": [],
   "source": [
    "# embedding_matrix_descr = np.zeros((descr_vocabulary_size, size_emb_desc))\n",
    "# embedding_matrix_title = np.zeros((title_vocabulary_size, size_emb_title))\n",
    "# embedding_matrix_params = np.zeros((params_vocabulary_size, size_emb_params))"
   ]
  },
  {
   "cell_type": "code",
   "execution_count": null,
   "metadata": {
    "collapsed": true
   },
   "outputs": [],
   "source": []
  },
  {
   "cell_type": "code",
   "execution_count": 42,
   "metadata": {},
   "outputs": [
    {
     "name": "stderr",
     "output_type": "stream",
     "text": [
      "100%|██████████| 660238/660238 [00:00<00:00, 2640783.26it/s]\n",
      "100%|██████████| 209406/209406 [00:00<00:00, 2752562.52it/s]\n",
      "100%|██████████| 2001/2001 [00:00<00:00, 2692589.77it/s]\n"
     ]
    }
   ],
   "source": [
    "# for word, i in tqdm(tokenizer_desc.word_index.items()):\n",
    "#     if i >= maxlen_description: continue\n",
    "#     embedding_vector = embeddings_index.get(word)\n",
    "#     if embedding_vector is not None: \n",
    "#         embedding_matrix_descr[i] = embedding_vector\n",
    "\n",
    "# for word, i in tqdm(tokenizer_title.word_index.items()):\n",
    "#     if i >= maxlen_title: continue\n",
    "#     embedding_vector = embeddings_index.get(word)\n",
    "#     if embedding_vector is not None: \n",
    "#         embedding_matrix_title[i] = embedding_vector\n",
    "\n",
    "# for word, i in tqdm(tokenizer_params.word_index.items()):\n",
    "#     if i >= maxlen_params: continue\n",
    "#     embedding_vector = embeddings_index.get(word)\n",
    "#     if embedding_vector is not None: \n",
    "#         embedding_matrix_params[i] = embedding_vector"
   ]
  },
  {
   "cell_type": "code",
   "execution_count": 43,
   "metadata": {
    "collapsed": true
   },
   "outputs": [],
   "source": [
    "#tokenizer_title.texts_to_matrix(df_train['title'].values, mode='tfidf')"
   ]
  },
  {
   "cell_type": "code",
   "execution_count": 44,
   "metadata": {
    "collapsed": true
   },
   "outputs": [],
   "source": [
    "# from scipy import sparse\n",
    "\n",
    "# img_features_train = sparse.load_npz(f'{PATH}/train/train_features.npz')\n",
    "# img_features_test = sparse.load_npz(f'{PATH}/test/test_features.npz')"
   ]
  },
  {
   "cell_type": "code",
   "execution_count": null,
   "metadata": {
    "collapsed": true
   },
   "outputs": [],
   "source": []
  },
  {
   "cell_type": "code",
   "execution_count": 45,
   "metadata": {
    "collapsed": true
   },
   "outputs": [],
   "source": [
    "# from sklearn.decomposition import TruncatedSVD\n",
    "\n",
    "# number_img_features = 200\n",
    "\n",
    "# svd_img_features = TruncatedSVD(n_components=number_img_features, algorithm='arpack')\n",
    "# svd_img_features.fit(img_features_train)"
   ]
  },
  {
   "cell_type": "code",
   "execution_count": 46,
   "metadata": {
    "collapsed": true
   },
   "outputs": [],
   "source": [
    "# svd_img_features.explained_variance_ratio_.sum()"
   ]
  },
  {
   "cell_type": "code",
   "execution_count": 47,
   "metadata": {
    "collapsed": true
   },
   "outputs": [],
   "source": [
    "# train_img_features = np.array(svd_img_features.transform(img_features_train), dtype=np.float16)"
   ]
  },
  {
   "cell_type": "code",
   "execution_count": 48,
   "metadata": {
    "collapsed": true
   },
   "outputs": [],
   "source": [
    "# X_train.append(img_features_train[train_idx])"
   ]
  },
  {
   "cell_type": "code",
   "execution_count": 49,
   "metadata": {
    "collapsed": true
   },
   "outputs": [],
   "source": [
    "# X_valid.append(train_img_features[val_idx])"
   ]
  },
  {
   "cell_type": "code",
   "execution_count": 322,
   "metadata": {},
   "outputs": [
    {
     "data": {
      "text/plain": [
       "310888"
      ]
     },
     "execution_count": 322,
     "metadata": {},
     "output_type": "execute_result"
    }
   ],
   "source": [
    "gc.collect()"
   ]
  },
  {
   "cell_type": "code",
   "execution_count": null,
   "metadata": {
    "collapsed": true
   },
   "outputs": [],
   "source": []
  },
  {
   "cell_type": "code",
   "execution_count": 122,
   "metadata": {},
   "outputs": [
    {
     "name": "stdout",
     "output_type": "stream",
     "text": [
      "__________________________________________________________________________________________________\n",
      "Layer (type)                    Output Shape         Param #     Connected to                     \n",
      "==================================================================================================\n",
      "input_title_1 (InputLayer)      (None, 30)           0                                            \n",
      "__________________________________________________________________________________________________\n",
      "inp_descr_1 (InputLayer)        (None, 100)          0                                            \n",
      "__________________________________________________________________________________________________\n",
      "inp_params_1 (InputLayer)       (None, 30)           0                                            \n",
      "__________________________________________________________________________________________________\n",
      "emb_title_1 (Embedding)         multiple             500000      input_title_1[0][0]              \n",
      "                                                                 inp_descr_1[0][0]                \n",
      "                                                                 inp_params_1[0][0]               \n",
      "__________________________________________________________________________________________________\n",
      "inp_region (InputLayer)         (None, 1)            0                                            \n",
      "__________________________________________________________________________________________________\n",
      "inp_parent_category_name (Input (None, 1)            0                                            \n",
      "__________________________________________________________________________________________________\n",
      "inp_category_name (InputLayer)  (None, 1)            0                                            \n",
      "__________________________________________________________________________________________________\n",
      "inp_user_type (InputLayer)      (None, 1)            0                                            \n",
      "__________________________________________________________________________________________________\n",
      "inp_city (InputLayer)           (None, 1)            0                                            \n",
      "__________________________________________________________________________________________________\n",
      "inp_week (InputLayer)           (None, 1)            0                                            \n",
      "__________________________________________________________________________________________________\n",
      "inp_day_of_month (InputLayer)   (None, 1)            0                                            \n",
      "__________________________________________________________________________________________________\n",
      "inp_imgt1 (InputLayer)          (None, 1)            0                                            \n",
      "__________________________________________________________________________________________________\n",
      "dropout_2 (Dropout)             (None, 30, 50)       0           emb_title_1[0][0]                \n",
      "__________________________________________________________________________________________________\n",
      "dropout_3 (Dropout)             (None, 100, 50)      0           emb_title_1[1][0]                \n",
      "__________________________________________________________________________________________________\n",
      "dropout_4 (Dropout)             (None, 30, 50)       0           emb_title_1[2][0]                \n",
      "__________________________________________________________________________________________________\n",
      "emb_region (Embedding)          (None, 1, 8)         232         inp_region[0][0]                 \n",
      "__________________________________________________________________________________________________\n",
      "emb_parent_category_name (Embed (None, 1, 4)         40          inp_parent_category_name[0][0]   \n",
      "__________________________________________________________________________________________________\n",
      "emb_category_name (Embedding)   (None, 1, 8)         384         inp_category_name[0][0]          \n",
      "__________________________________________________________________________________________________\n",
      "emb_user_type (Embedding)       (None, 1, 2)         8           inp_user_type[0][0]              \n",
      "__________________________________________________________________________________________________\n",
      "emb_city (Embedding)            (None, 1, 16)        27760       inp_city[0][0]                   \n",
      "__________________________________________________________________________________________________\n",
      "emb_week (Embedding)            (None, 1, 4)         28          inp_week[0][0]                   \n",
      "__________________________________________________________________________________________________\n",
      "emb_day_of_month (Embedding)    (None, 1, 10)        320         inp_day_of_month[0][0]           \n",
      "__________________________________________________________________________________________________\n",
      "emb_imgt1 (Embedding)           (None, 1, 30)        92040       inp_imgt1[0][0]                  \n",
      "__________________________________________________________________________________________________\n",
      "inp_price (InputLayer)          (None, 1)            0                                            \n",
      "__________________________________________________________________________________________________\n",
      "inp_itemseq (InputLayer)        (None, 1)            0                                            \n",
      "__________________________________________________________________________________________________\n",
      "inp_feat_eng (InputLayer)       (None, 18)           0                                            \n",
      "__________________________________________________________________________________________________\n",
      "gru_1 (GRU)                     (None, 30, 5)        840         dropout_2[0][0]                  \n",
      "__________________________________________________________________________________________________\n",
      "gru_2 (GRU)                     (None, 100, 5)       840         dropout_3[0][0]                  \n",
      "__________________________________________________________________________________________________\n",
      "gru_3 (GRU)                     (None, 30, 5)        840         dropout_4[0][0]                  \n",
      "__________________________________________________________________________________________________\n",
      "reshape_1 (Reshape)             (None, 8)            0           emb_region[0][0]                 \n",
      "__________________________________________________________________________________________________\n",
      "reshape_2 (Reshape)             (None, 4)            0           emb_parent_category_name[0][0]   \n",
      "__________________________________________________________________________________________________\n",
      "reshape_3 (Reshape)             (None, 8)            0           emb_category_name[0][0]          \n",
      "__________________________________________________________________________________________________\n",
      "reshape_4 (Reshape)             (None, 2)            0           emb_user_type[0][0]              \n",
      "__________________________________________________________________________________________________\n",
      "reshape_5 (Reshape)             (None, 16)           0           emb_city[0][0]                   \n",
      "__________________________________________________________________________________________________\n",
      "reshape_6 (Reshape)             (None, 4)            0           emb_week[0][0]                   \n",
      "__________________________________________________________________________________________________\n",
      "reshape_7 (Reshape)             (None, 10)           0           emb_day_of_month[0][0]           \n",
      "__________________________________________________________________________________________________\n",
      "reshape_8 (Reshape)             (None, 30)           0           emb_imgt1[0][0]                  \n",
      "__________________________________________________________________________________________________\n",
      "emb_price (Dense)               (None, 16)           32          inp_price[0][0]                  \n",
      "__________________________________________________________________________________________________\n",
      "emb_itemseq (Dense)             (None, 16)           32          inp_itemseq[0][0]                \n",
      "__________________________________________________________________________________________________\n",
      "emb_feat_eng (Dense)            (None, 30)           570         inp_feat_eng[0][0]               \n",
      "__________________________________________________________________________________________________\n",
      "batch_normalization_1 (BatchNor (None, 30, 5)        20          gru_1[0][0]                      \n",
      "__________________________________________________________________________________________________\n",
      "batch_normalization_2 (BatchNor (None, 100, 5)       20          gru_2[0][0]                      \n",
      "__________________________________________________________________________________________________\n",
      "batch_normalization_3 (BatchNor (None, 30, 5)        20          gru_3[0][0]                      \n",
      "__________________________________________________________________________________________________\n",
      "concat_cat_and_cont (Concatenat (None, 144)          0           reshape_1[0][0]                  \n",
      "                                                                 reshape_2[0][0]                  \n",
      "                                                                 reshape_3[0][0]                  \n",
      "                                                                 reshape_4[0][0]                  \n",
      "                                                                 reshape_5[0][0]                  \n",
      "                                                                 reshape_6[0][0]                  \n",
      "                                                                 reshape_7[0][0]                  \n",
      "                                                                 reshape_8[0][0]                  \n",
      "                                                                 emb_price[0][0]                  \n",
      "                                                                 emb_itemseq[0][0]                \n",
      "                                                                 emb_feat_eng[0][0]               \n",
      "__________________________________________________________________________________________________\n",
      "conv1d_1 (Conv1D)               (None, 28, 32)       512         batch_normalization_1[0][0]      \n",
      "__________________________________________________________________________________________________\n",
      "conv1d_2 (Conv1D)               (None, 98, 32)       512         batch_normalization_2[0][0]      \n",
      "__________________________________________________________________________________________________\n",
      "conv1d_3 (Conv1D)               (None, 28, 32)       512         batch_normalization_3[0][0]      \n",
      "__________________________________________________________________________________________________\n",
      "dropout_1 (Dropout)             (None, 144)          0           concat_cat_and_cont[0][0]        \n",
      "__________________________________________________________________________________________________\n",
      "global_average_pooling1d_1 (Glo (None, 32)           0           conv1d_1[0][0]                   \n",
      "__________________________________________________________________________________________________\n",
      "global_max_pooling1d_1 (GlobalM (None, 32)           0           conv1d_1[0][0]                   \n",
      "__________________________________________________________________________________________________\n",
      "global_average_pooling1d_2 (Glo (None, 32)           0           conv1d_2[0][0]                   \n",
      "__________________________________________________________________________________________________\n",
      "global_max_pooling1d_2 (GlobalM (None, 32)           0           conv1d_2[0][0]                   \n",
      "__________________________________________________________________________________________________\n",
      "global_average_pooling1d_3 (Glo (None, 32)           0           conv1d_3[0][0]                   \n",
      "__________________________________________________________________________________________________\n",
      "global_max_pooling1d_3 (GlobalM (None, 32)           0           conv1d_3[0][0]                   \n",
      "__________________________________________________________________________________________________\n",
      "dense_1 (Dense)                 (None, 50)           7250        dropout_1[0][0]                  \n",
      "__________________________________________________________________________________________________\n",
      "concatenate_1 (Concatenate)     (None, 64)           0           global_average_pooling1d_1[0][0] \n",
      "                                                                 global_max_pooling1d_1[0][0]     \n",
      "__________________________________________________________________________________________________\n",
      "concatenate_2 (Concatenate)     (None, 64)           0           global_average_pooling1d_2[0][0] \n",
      "                                                                 global_max_pooling1d_2[0][0]     \n",
      "__________________________________________________________________________________________________\n",
      "concatenate_3 (Concatenate)     (None, 64)           0           global_average_pooling1d_3[0][0] \n",
      "                                                                 global_max_pooling1d_3[0][0]     \n",
      "__________________________________________________________________________________________________\n",
      "concatenate_4 (Concatenate)     (None, 242)          0           dense_1[0][0]                    \n",
      "                                                                 concatenate_1[0][0]              \n",
      "                                                                 concatenate_2[0][0]              \n",
      "                                                                 concatenate_3[0][0]              \n",
      "__________________________________________________________________________________________________\n",
      "dropout_5 (Dropout)             (None, 242)          0           concatenate_4[0][0]              \n",
      "__________________________________________________________________________________________________\n",
      "output (Dense)                  (None, 1)            243         dropout_5[0][0]                  \n",
      "==================================================================================================\n",
      "Total params: 633,055\n",
      "Trainable params: 633,025\n",
      "Non-trainable params: 30\n",
      "__________________________________________________________________________________________________\n"
     ]
    }
   ],
   "source": [
    "model = get_model()\n",
    "model.summary()"
   ]
  },
  {
   "cell_type": "code",
   "execution_count": 123,
   "metadata": {
    "scrolled": true
   },
   "outputs": [
    {
     "data": {
      "image/svg+xml": [
       "<svg height=\"775pt\" viewBox=\"0.00 0.00 3000.00 775.00\" width=\"3000pt\" xmlns=\"http://www.w3.org/2000/svg\" xmlns:xlink=\"http://www.w3.org/1999/xlink\">\n",
       "<g class=\"graph\" id=\"graph0\" transform=\"scale(1 1) rotate(0) translate(4 771)\">\n",
       "<title>G</title>\n",
       "<polygon fill=\"white\" points=\"-4,4 -4,-771 2996,-771 2996,4 -4,4\" stroke=\"none\"/>\n",
       "<!-- 139780469221584 -->\n",
       "<g class=\"node\" id=\"node1\"><title>139780469221584</title>\n",
       "<polygon fill=\"none\" points=\"511,-730.5 511,-766.5 664,-766.5 664,-730.5 511,-730.5\" stroke=\"black\"/>\n",
       "<text font-family=\"Times,serif\" font-size=\"14.00\" text-anchor=\"middle\" x=\"587.5\" y=\"-744.8\">input_title_1: InputLayer</text>\n",
       "</g>\n",
       "<!-- 139780469357704 -->\n",
       "<g class=\"node\" id=\"node4\"><title>139780469357704</title>\n",
       "<polygon fill=\"none\" points=\"681.5,-657.5 681.5,-693.5 833.5,-693.5 833.5,-657.5 681.5,-657.5\" stroke=\"black\"/>\n",
       "<text font-family=\"Times,serif\" font-size=\"14.00\" text-anchor=\"middle\" x=\"757.5\" y=\"-671.8\">emb_title_1: Embedding</text>\n",
       "</g>\n",
       "<!-- 139780469221584&#45;&gt;139780469357704 -->\n",
       "<g class=\"edge\" id=\"edge1\"><title>139780469221584-&gt;139780469357704</title>\n",
       "<path d=\"M628.219,-730.494C651.911,-720.599 681.97,-708.045 707.14,-697.533\" fill=\"none\" stroke=\"black\"/>\n",
       "<polygon fill=\"black\" points=\"708.645,-700.697 716.524,-693.614 705.947,-694.238 708.645,-700.697\" stroke=\"black\"/>\n",
       "</g>\n",
       "<!-- 139780424562392 -->\n",
       "<g class=\"node\" id=\"node2\"><title>139780424562392</title>\n",
       "<polygon fill=\"none\" points=\"682.5,-730.5 682.5,-766.5 832.5,-766.5 832.5,-730.5 682.5,-730.5\" stroke=\"black\"/>\n",
       "<text font-family=\"Times,serif\" font-size=\"14.00\" text-anchor=\"middle\" x=\"757.5\" y=\"-744.8\">inp_descr_1: InputLayer</text>\n",
       "</g>\n",
       "<!-- 139780424562392&#45;&gt;139780469357704 -->\n",
       "<g class=\"edge\" id=\"edge2\"><title>139780424562392-&gt;139780469357704</title>\n",
       "<path d=\"M757.5,-730.313C757.5,-722.289 757.5,-712.547 757.5,-703.569\" fill=\"none\" stroke=\"black\"/>\n",
       "<polygon fill=\"black\" points=\"761,-703.529 757.5,-693.529 754,-703.529 761,-703.529\" stroke=\"black\"/>\n",
       "</g>\n",
       "<!-- 139780420149880 -->\n",
       "<g class=\"node\" id=\"node3\"><title>139780420149880</title>\n",
       "<polygon fill=\"none\" points=\"851,-730.5 851,-766.5 1012,-766.5 1012,-730.5 851,-730.5\" stroke=\"black\"/>\n",
       "<text font-family=\"Times,serif\" font-size=\"14.00\" text-anchor=\"middle\" x=\"931.5\" y=\"-744.8\">inp_params_1: InputLayer</text>\n",
       "</g>\n",
       "<!-- 139780420149880&#45;&gt;139780469357704 -->\n",
       "<g class=\"edge\" id=\"edge3\"><title>139780420149880-&gt;139780469357704</title>\n",
       "<path d=\"M889.823,-730.494C865.467,-720.555 834.536,-707.934 808.705,-697.394\" fill=\"none\" stroke=\"black\"/>\n",
       "<polygon fill=\"black\" points=\"810.022,-694.151 799.44,-693.614 807.377,-700.632 810.022,-694.151\" stroke=\"black\"/>\n",
       "</g>\n",
       "<!-- 139780468944008 -->\n",
       "<g class=\"node\" id=\"node13\"><title>139780468944008</title>\n",
       "<polygon fill=\"none\" points=\"463,-584.5 463,-620.5 588,-620.5 588,-584.5 463,-584.5\" stroke=\"black\"/>\n",
       "<text font-family=\"Times,serif\" font-size=\"14.00\" text-anchor=\"middle\" x=\"525.5\" y=\"-598.8\">dropout_2: Dropout</text>\n",
       "</g>\n",
       "<!-- 139780469357704&#45;&gt;139780468944008 -->\n",
       "<g class=\"edge\" id=\"edge4\"><title>139780469357704-&gt;139780468944008</title>\n",
       "<path d=\"M701.93,-657.494C668.601,-647.294 626.038,-634.268 591.068,-623.566\" fill=\"none\" stroke=\"black\"/>\n",
       "<polygon fill=\"black\" points=\"592.007,-620.193 581.42,-620.614 589.958,-626.887 592.007,-620.193\" stroke=\"black\"/>\n",
       "</g>\n",
       "<!-- 139780424096960 -->\n",
       "<g class=\"node\" id=\"node14\"><title>139780424096960</title>\n",
       "<polygon fill=\"none\" points=\"695,-584.5 695,-620.5 820,-620.5 820,-584.5 695,-584.5\" stroke=\"black\"/>\n",
       "<text font-family=\"Times,serif\" font-size=\"14.00\" text-anchor=\"middle\" x=\"757.5\" y=\"-598.8\">dropout_3: Dropout</text>\n",
       "</g>\n",
       "<!-- 139780469357704&#45;&gt;139780424096960 -->\n",
       "<g class=\"edge\" id=\"edge5\"><title>139780469357704-&gt;139780424096960</title>\n",
       "<path d=\"M757.5,-657.313C757.5,-649.289 757.5,-639.547 757.5,-630.569\" fill=\"none\" stroke=\"black\"/>\n",
       "<polygon fill=\"black\" points=\"761,-630.529 757.5,-620.529 754,-630.529 761,-630.529\" stroke=\"black\"/>\n",
       "</g>\n",
       "<!-- 139780420212944 -->\n",
       "<g class=\"node\" id=\"node15\"><title>139780420212944</title>\n",
       "<polygon fill=\"none\" points=\"838,-584.5 838,-620.5 963,-620.5 963,-584.5 838,-584.5\" stroke=\"black\"/>\n",
       "<text font-family=\"Times,serif\" font-size=\"14.00\" text-anchor=\"middle\" x=\"900.5\" y=\"-598.8\">dropout_4: Dropout</text>\n",
       "</g>\n",
       "<!-- 139780469357704&#45;&gt;139780420212944 -->\n",
       "<g class=\"edge\" id=\"edge6\"><title>139780469357704-&gt;139780420212944</title>\n",
       "<path d=\"M791.752,-657.494C811.33,-647.773 836.076,-635.487 857.015,-625.09\" fill=\"none\" stroke=\"black\"/>\n",
       "<polygon fill=\"black\" points=\"858.632,-628.196 866.032,-620.614 855.519,-621.926 858.632,-628.196\" stroke=\"black\"/>\n",
       "</g>\n",
       "<!-- 139778543656464 -->\n",
       "<g class=\"node\" id=\"node5\"><title>139778543656464</title>\n",
       "<polygon fill=\"none\" points=\"981,-584.5 981,-620.5 1124,-620.5 1124,-584.5 981,-584.5\" stroke=\"black\"/>\n",
       "<text font-family=\"Times,serif\" font-size=\"14.00\" text-anchor=\"middle\" x=\"1052.5\" y=\"-598.8\">inp_region: InputLayer</text>\n",
       "</g>\n",
       "<!-- 139780471107712 -->\n",
       "<g class=\"node\" id=\"node16\"><title>139780471107712</title>\n",
       "<polygon fill=\"none\" points=\"972.5,-511.5 972.5,-547.5 1124.5,-547.5 1124.5,-511.5 972.5,-511.5\" stroke=\"black\"/>\n",
       "<text font-family=\"Times,serif\" font-size=\"14.00\" text-anchor=\"middle\" x=\"1048.5\" y=\"-525.8\">emb_region: Embedding</text>\n",
       "</g>\n",
       "<!-- 139778543656464&#45;&gt;139780471107712 -->\n",
       "<g class=\"edge\" id=\"edge7\"><title>139778543656464-&gt;139780471107712</title>\n",
       "<path d=\"M1051.53,-584.313C1051.08,-576.289 1050.53,-566.547 1050.03,-557.569\" fill=\"none\" stroke=\"black\"/>\n",
       "<polygon fill=\"black\" points=\"1053.52,-557.316 1049.46,-547.529 1046.53,-557.71 1053.52,-557.316\" stroke=\"black\"/>\n",
       "</g>\n",
       "<!-- 139780471111240 -->\n",
       "<g class=\"node\" id=\"node6\"><title>139780471111240</title>\n",
       "<polygon fill=\"none\" points=\"1147.5,-584.5 1147.5,-620.5 1379.5,-620.5 1379.5,-584.5 1147.5,-584.5\" stroke=\"black\"/>\n",
       "<text font-family=\"Times,serif\" font-size=\"14.00\" text-anchor=\"middle\" x=\"1263.5\" y=\"-598.8\">inp_parent_category_name: InputLayer</text>\n",
       "</g>\n",
       "<!-- 139780471111464 -->\n",
       "<g class=\"node\" id=\"node17\"><title>139780471111464</title>\n",
       "<polygon fill=\"none\" points=\"1142.5,-511.5 1142.5,-547.5 1384.5,-547.5 1384.5,-511.5 1142.5,-511.5\" stroke=\"black\"/>\n",
       "<text font-family=\"Times,serif\" font-size=\"14.00\" text-anchor=\"middle\" x=\"1263.5\" y=\"-525.8\">emb_parent_category_name: Embedding</text>\n",
       "</g>\n",
       "<!-- 139780471111240&#45;&gt;139780471111464 -->\n",
       "<g class=\"edge\" id=\"edge8\"><title>139780471111240-&gt;139780471111464</title>\n",
       "<path d=\"M1263.5,-584.313C1263.5,-576.289 1263.5,-566.547 1263.5,-557.569\" fill=\"none\" stroke=\"black\"/>\n",
       "<polygon fill=\"black\" points=\"1267,-557.529 1263.5,-547.529 1260,-557.529 1267,-557.529\" stroke=\"black\"/>\n",
       "</g>\n",
       "<!-- 139780471110232 -->\n",
       "<g class=\"node\" id=\"node7\"><title>139780471110232</title>\n",
       "<polygon fill=\"none\" points=\"1408,-584.5 1408,-620.5 1599,-620.5 1599,-584.5 1408,-584.5\" stroke=\"black\"/>\n",
       "<text font-family=\"Times,serif\" font-size=\"14.00\" text-anchor=\"middle\" x=\"1503.5\" y=\"-598.8\">inp_category_name: InputLayer</text>\n",
       "</g>\n",
       "<!-- 139780471097832 -->\n",
       "<g class=\"node\" id=\"node18\"><title>139780471097832</title>\n",
       "<polygon fill=\"none\" points=\"1403,-511.5 1403,-547.5 1604,-547.5 1604,-511.5 1403,-511.5\" stroke=\"black\"/>\n",
       "<text font-family=\"Times,serif\" font-size=\"14.00\" text-anchor=\"middle\" x=\"1503.5\" y=\"-525.8\">emb_category_name: Embedding</text>\n",
       "</g>\n",
       "<!-- 139780471110232&#45;&gt;139780471097832 -->\n",
       "<g class=\"edge\" id=\"edge9\"><title>139780471110232-&gt;139780471097832</title>\n",
       "<path d=\"M1503.5,-584.313C1503.5,-576.289 1503.5,-566.547 1503.5,-557.569\" fill=\"none\" stroke=\"black\"/>\n",
       "<polygon fill=\"black\" points=\"1507,-557.529 1503.5,-547.529 1500,-557.529 1507,-557.529\" stroke=\"black\"/>\n",
       "</g>\n",
       "<!-- 139780471090536 -->\n",
       "<g class=\"node\" id=\"node8\"><title>139780471090536</title>\n",
       "<polygon fill=\"none\" points=\"1627,-584.5 1627,-620.5 1788,-620.5 1788,-584.5 1627,-584.5\" stroke=\"black\"/>\n",
       "<text font-family=\"Times,serif\" font-size=\"14.00\" text-anchor=\"middle\" x=\"1707.5\" y=\"-598.8\">inp_user_type: InputLayer</text>\n",
       "</g>\n",
       "<!-- 139780471088072 -->\n",
       "<g class=\"node\" id=\"node19\"><title>139780471088072</title>\n",
       "<polygon fill=\"none\" points=\"1622.5,-511.5 1622.5,-547.5 1792.5,-547.5 1792.5,-511.5 1622.5,-511.5\" stroke=\"black\"/>\n",
       "<text font-family=\"Times,serif\" font-size=\"14.00\" text-anchor=\"middle\" x=\"1707.5\" y=\"-525.8\">emb_user_type: Embedding</text>\n",
       "</g>\n",
       "<!-- 139780471090536&#45;&gt;139780471088072 -->\n",
       "<g class=\"edge\" id=\"edge10\"><title>139780471090536-&gt;139780471088072</title>\n",
       "<path d=\"M1707.5,-584.313C1707.5,-576.289 1707.5,-566.547 1707.5,-557.569\" fill=\"none\" stroke=\"black\"/>\n",
       "<polygon fill=\"black\" points=\"1711,-557.529 1707.5,-547.529 1704,-557.529 1711,-557.529\" stroke=\"black\"/>\n",
       "</g>\n",
       "<!-- 139780471079152 -->\n",
       "<g class=\"node\" id=\"node9\"><title>139780471079152</title>\n",
       "<polygon fill=\"none\" points=\"1815.5,-584.5 1815.5,-620.5 1943.5,-620.5 1943.5,-584.5 1815.5,-584.5\" stroke=\"black\"/>\n",
       "<text font-family=\"Times,serif\" font-size=\"14.00\" text-anchor=\"middle\" x=\"1879.5\" y=\"-598.8\">inp_city: InputLayer</text>\n",
       "</g>\n",
       "<!-- 139780471052552 -->\n",
       "<g class=\"node\" id=\"node20\"><title>139780471052552</title>\n",
       "<polygon fill=\"none\" points=\"1810.5,-511.5 1810.5,-547.5 1948.5,-547.5 1948.5,-511.5 1810.5,-511.5\" stroke=\"black\"/>\n",
       "<text font-family=\"Times,serif\" font-size=\"14.00\" text-anchor=\"middle\" x=\"1879.5\" y=\"-525.8\">emb_city: Embedding</text>\n",
       "</g>\n",
       "<!-- 139780471079152&#45;&gt;139780471052552 -->\n",
       "<g class=\"edge\" id=\"edge11\"><title>139780471079152-&gt;139780471052552</title>\n",
       "<path d=\"M1879.5,-584.313C1879.5,-576.289 1879.5,-566.547 1879.5,-557.569\" fill=\"none\" stroke=\"black\"/>\n",
       "<polygon fill=\"black\" points=\"1883,-557.529 1879.5,-547.529 1876,-557.529 1883,-557.529\" stroke=\"black\"/>\n",
       "</g>\n",
       "<!-- 139780471029600 -->\n",
       "<g class=\"node\" id=\"node10\"><title>139780471029600</title>\n",
       "<polygon fill=\"none\" points=\"1971,-584.5 1971,-620.5 2108,-620.5 2108,-584.5 1971,-584.5\" stroke=\"black\"/>\n",
       "<text font-family=\"Times,serif\" font-size=\"14.00\" text-anchor=\"middle\" x=\"2039.5\" y=\"-598.8\">inp_week: InputLayer</text>\n",
       "</g>\n",
       "<!-- 139780470906272 -->\n",
       "<g class=\"node\" id=\"node21\"><title>139780470906272</title>\n",
       "<polygon fill=\"none\" points=\"1966.5,-511.5 1966.5,-547.5 2112.5,-547.5 2112.5,-511.5 1966.5,-511.5\" stroke=\"black\"/>\n",
       "<text font-family=\"Times,serif\" font-size=\"14.00\" text-anchor=\"middle\" x=\"2039.5\" y=\"-525.8\">emb_week: Embedding</text>\n",
       "</g>\n",
       "<!-- 139780471029600&#45;&gt;139780470906272 -->\n",
       "<g class=\"edge\" id=\"edge12\"><title>139780471029600-&gt;139780470906272</title>\n",
       "<path d=\"M2039.5,-584.313C2039.5,-576.289 2039.5,-566.547 2039.5,-557.569\" fill=\"none\" stroke=\"black\"/>\n",
       "<polygon fill=\"black\" points=\"2043,-557.529 2039.5,-547.529 2036,-557.529 2043,-557.529\" stroke=\"black\"/>\n",
       "</g>\n",
       "<!-- 139780471115960 -->\n",
       "<g class=\"node\" id=\"node11\"><title>139780471115960</title>\n",
       "<polygon fill=\"none\" points=\"2135.5,-584.5 2135.5,-620.5 2323.5,-620.5 2323.5,-584.5 2135.5,-584.5\" stroke=\"black\"/>\n",
       "<text font-family=\"Times,serif\" font-size=\"14.00\" text-anchor=\"middle\" x=\"2229.5\" y=\"-598.8\">inp_day_of_month: InputLayer</text>\n",
       "</g>\n",
       "<!-- 139780471116352 -->\n",
       "<g class=\"node\" id=\"node22\"><title>139780471116352</title>\n",
       "<polygon fill=\"none\" points=\"2131,-511.5 2131,-547.5 2328,-547.5 2328,-511.5 2131,-511.5\" stroke=\"black\"/>\n",
       "<text font-family=\"Times,serif\" font-size=\"14.00\" text-anchor=\"middle\" x=\"2229.5\" y=\"-525.8\">emb_day_of_month: Embedding</text>\n",
       "</g>\n",
       "<!-- 139780471115960&#45;&gt;139780471116352 -->\n",
       "<g class=\"edge\" id=\"edge13\"><title>139780471115960-&gt;139780471116352</title>\n",
       "<path d=\"M2229.5,-584.313C2229.5,-576.289 2229.5,-566.547 2229.5,-557.569\" fill=\"none\" stroke=\"black\"/>\n",
       "<polygon fill=\"black\" points=\"2233,-557.529 2229.5,-547.529 2226,-557.529 2233,-557.529\" stroke=\"black\"/>\n",
       "</g>\n",
       "<!-- 139780470034728 -->\n",
       "<g class=\"node\" id=\"node12\"><title>139780470034728</title>\n",
       "<polygon fill=\"none\" points=\"2351.5,-584.5 2351.5,-620.5 2491.5,-620.5 2491.5,-584.5 2351.5,-584.5\" stroke=\"black\"/>\n",
       "<text font-family=\"Times,serif\" font-size=\"14.00\" text-anchor=\"middle\" x=\"2421.5\" y=\"-598.8\">inp_imgt1: InputLayer</text>\n",
       "</g>\n",
       "<!-- 139780470037640 -->\n",
       "<g class=\"node\" id=\"node23\"><title>139780470037640</title>\n",
       "<polygon fill=\"none\" points=\"2346.5,-511.5 2346.5,-547.5 2496.5,-547.5 2496.5,-511.5 2346.5,-511.5\" stroke=\"black\"/>\n",
       "<text font-family=\"Times,serif\" font-size=\"14.00\" text-anchor=\"middle\" x=\"2421.5\" y=\"-525.8\">emb_imgt1: Embedding</text>\n",
       "</g>\n",
       "<!-- 139780470034728&#45;&gt;139780470037640 -->\n",
       "<g class=\"edge\" id=\"edge14\"><title>139780470034728-&gt;139780470037640</title>\n",
       "<path d=\"M2421.5,-584.313C2421.5,-576.289 2421.5,-566.547 2421.5,-557.569\" fill=\"none\" stroke=\"black\"/>\n",
       "<polygon fill=\"black\" points=\"2425,-557.529 2421.5,-547.529 2418,-557.529 2425,-557.529\" stroke=\"black\"/>\n",
       "</g>\n",
       "<!-- 139780468944232 -->\n",
       "<g class=\"node\" id=\"node27\"><title>139780468944232</title>\n",
       "<polygon fill=\"none\" points=\"478.5,-511.5 478.5,-547.5 562.5,-547.5 562.5,-511.5 478.5,-511.5\" stroke=\"black\"/>\n",
       "<text font-family=\"Times,serif\" font-size=\"14.00\" text-anchor=\"middle\" x=\"520.5\" y=\"-525.8\">gru_1: GRU</text>\n",
       "</g>\n",
       "<!-- 139780468944008&#45;&gt;139780468944232 -->\n",
       "<g class=\"edge\" id=\"edge15\"><title>139780468944008-&gt;139780468944232</title>\n",
       "<path d=\"M524.29,-584.313C523.725,-576.289 523.039,-566.547 522.406,-557.569\" fill=\"none\" stroke=\"black\"/>\n",
       "<polygon fill=\"black\" points=\"525.893,-557.258 521.699,-547.529 518.91,-557.75 525.893,-557.258\" stroke=\"black\"/>\n",
       "</g>\n",
       "<!-- 139780424207104 -->\n",
       "<g class=\"node\" id=\"node28\"><title>139780424207104</title>\n",
       "<polygon fill=\"none\" points=\"738.5,-511.5 738.5,-547.5 822.5,-547.5 822.5,-511.5 738.5,-511.5\" stroke=\"black\"/>\n",
       "<text font-family=\"Times,serif\" font-size=\"14.00\" text-anchor=\"middle\" x=\"780.5\" y=\"-525.8\">gru_2: GRU</text>\n",
       "</g>\n",
       "<!-- 139780424096960&#45;&gt;139780424207104 -->\n",
       "<g class=\"edge\" id=\"edge16\"><title>139780424096960-&gt;139780424207104</title>\n",
       "<path d=\"M763.068,-584.313C765.695,-576.202 768.891,-566.336 771.826,-557.277\" fill=\"none\" stroke=\"black\"/>\n",
       "<polygon fill=\"black\" points=\"775.231,-558.121 774.984,-547.529 768.572,-555.963 775.231,-558.121\" stroke=\"black\"/>\n",
       "</g>\n",
       "<!-- 139780420302552 -->\n",
       "<g class=\"node\" id=\"node29\"><title>139780420302552</title>\n",
       "<polygon fill=\"none\" points=\"864.5,-511.5 864.5,-547.5 948.5,-547.5 948.5,-511.5 864.5,-511.5\" stroke=\"black\"/>\n",
       "<text font-family=\"Times,serif\" font-size=\"14.00\" text-anchor=\"middle\" x=\"906.5\" y=\"-525.8\">gru_3: GRU</text>\n",
       "</g>\n",
       "<!-- 139780420212944&#45;&gt;139780420302552 -->\n",
       "<g class=\"edge\" id=\"edge17\"><title>139780420212944-&gt;139780420302552</title>\n",
       "<path d=\"M901.952,-584.313C902.63,-576.289 903.454,-566.547 904.212,-557.569\" fill=\"none\" stroke=\"black\"/>\n",
       "<polygon fill=\"black\" points=\"907.706,-557.788 905.061,-547.529 900.731,-557.199 907.706,-557.788\" stroke=\"black\"/>\n",
       "</g>\n",
       "<!-- 139780471110904 -->\n",
       "<g class=\"node\" id=\"node30\"><title>139780471110904</title>\n",
       "<polygon fill=\"none\" points=\"1235,-438.5 1235,-474.5 1360,-474.5 1360,-438.5 1235,-438.5\" stroke=\"black\"/>\n",
       "<text font-family=\"Times,serif\" font-size=\"14.00\" text-anchor=\"middle\" x=\"1297.5\" y=\"-452.8\">reshape_1: Reshape</text>\n",
       "</g>\n",
       "<!-- 139780471107712&#45;&gt;139780471110904 -->\n",
       "<g class=\"edge\" id=\"edge18\"><title>139780471107712-&gt;139780471110904</title>\n",
       "<path d=\"M1108.14,-511.494C1144.07,-501.25 1189.99,-488.157 1227.61,-477.429\" fill=\"none\" stroke=\"black\"/>\n",
       "<polygon fill=\"black\" points=\"1228.83,-480.722 1237.48,-474.614 1226.91,-473.99 1228.83,-480.722\" stroke=\"black\"/>\n",
       "</g>\n",
       "<!-- 139780471109784 -->\n",
       "<g class=\"node\" id=\"node31\"><title>139780471109784</title>\n",
       "<polygon fill=\"none\" points=\"1388,-438.5 1388,-474.5 1513,-474.5 1513,-438.5 1388,-438.5\" stroke=\"black\"/>\n",
       "<text font-family=\"Times,serif\" font-size=\"14.00\" text-anchor=\"middle\" x=\"1450.5\" y=\"-452.8\">reshape_2: Reshape</text>\n",
       "</g>\n",
       "<!-- 139780471111464&#45;&gt;139780471109784 -->\n",
       "<g class=\"edge\" id=\"edge19\"><title>139780471111464-&gt;139780471109784</title>\n",
       "<path d=\"M1308.29,-511.494C1334.58,-501.512 1368,-488.824 1395.83,-478.255\" fill=\"none\" stroke=\"black\"/>\n",
       "<polygon fill=\"black\" points=\"1397.32,-481.435 1405.43,-474.614 1394.84,-474.891 1397.32,-481.435\" stroke=\"black\"/>\n",
       "</g>\n",
       "<!-- 139780471111072 -->\n",
       "<g class=\"node\" id=\"node32\"><title>139780471111072</title>\n",
       "<polygon fill=\"none\" points=\"1536,-438.5 1536,-474.5 1661,-474.5 1661,-438.5 1536,-438.5\" stroke=\"black\"/>\n",
       "<text font-family=\"Times,serif\" font-size=\"14.00\" text-anchor=\"middle\" x=\"1598.5\" y=\"-452.8\">reshape_3: Reshape</text>\n",
       "</g>\n",
       "<!-- 139780471097832&#45;&gt;139780471111072 -->\n",
       "<g class=\"edge\" id=\"edge20\"><title>139780471097832-&gt;139780471111072</title>\n",
       "<path d=\"M1526.5,-511.313C1538.87,-502.069 1554.29,-490.543 1567.68,-480.532\" fill=\"none\" stroke=\"black\"/>\n",
       "<polygon fill=\"black\" points=\"1569.8,-483.319 1575.71,-474.529 1565.61,-477.712 1569.8,-483.319\" stroke=\"black\"/>\n",
       "</g>\n",
       "<!-- 139780471082400 -->\n",
       "<g class=\"node\" id=\"node33\"><title>139780471082400</title>\n",
       "<polygon fill=\"none\" points=\"1681,-438.5 1681,-474.5 1806,-474.5 1806,-438.5 1681,-438.5\" stroke=\"black\"/>\n",
       "<text font-family=\"Times,serif\" font-size=\"14.00\" text-anchor=\"middle\" x=\"1743.5\" y=\"-452.8\">reshape_4: Reshape</text>\n",
       "</g>\n",
       "<!-- 139780471088072&#45;&gt;139780471082400 -->\n",
       "<g class=\"edge\" id=\"edge21\"><title>139780471088072-&gt;139780471082400</title>\n",
       "<path d=\"M1716.21,-511.313C1720.42,-503.028 1725.55,-492.91 1730.22,-483.693\" fill=\"none\" stroke=\"black\"/>\n",
       "<polygon fill=\"black\" points=\"1733.46,-485.031 1734.87,-474.529 1727.22,-481.865 1733.46,-485.031\" stroke=\"black\"/>\n",
       "</g>\n",
       "<!-- 139780471080608 -->\n",
       "<g class=\"node\" id=\"node34\"><title>139780471080608</title>\n",
       "<polygon fill=\"none\" points=\"1825,-438.5 1825,-474.5 1950,-474.5 1950,-438.5 1825,-438.5\" stroke=\"black\"/>\n",
       "<text font-family=\"Times,serif\" font-size=\"14.00\" text-anchor=\"middle\" x=\"1887.5\" y=\"-452.8\">reshape_5: Reshape</text>\n",
       "</g>\n",
       "<!-- 139780471052552&#45;&gt;139780471080608 -->\n",
       "<g class=\"edge\" id=\"edge22\"><title>139780471052552-&gt;139780471080608</title>\n",
       "<path d=\"M1881.44,-511.313C1882.34,-503.289 1883.44,-493.547 1884.45,-484.569\" fill=\"none\" stroke=\"black\"/>\n",
       "<polygon fill=\"black\" points=\"1887.94,-484.858 1885.58,-474.529 1880.98,-484.074 1887.94,-484.858\" stroke=\"black\"/>\n",
       "</g>\n",
       "<!-- 139780470904928 -->\n",
       "<g class=\"node\" id=\"node35\"><title>139780470904928</title>\n",
       "<polygon fill=\"none\" points=\"1969,-438.5 1969,-474.5 2094,-474.5 2094,-438.5 1969,-438.5\" stroke=\"black\"/>\n",
       "<text font-family=\"Times,serif\" font-size=\"14.00\" text-anchor=\"middle\" x=\"2031.5\" y=\"-452.8\">reshape_6: Reshape</text>\n",
       "</g>\n",
       "<!-- 139780470906272&#45;&gt;139780470904928 -->\n",
       "<g class=\"edge\" id=\"edge23\"><title>139780470906272-&gt;139780470904928</title>\n",
       "<path d=\"M2037.56,-511.313C2036.66,-503.289 2035.56,-493.547 2034.55,-484.569\" fill=\"none\" stroke=\"black\"/>\n",
       "<polygon fill=\"black\" points=\"2038.02,-484.074 2033.42,-474.529 2031.06,-484.858 2038.02,-484.074\" stroke=\"black\"/>\n",
       "</g>\n",
       "<!-- 139780470038312 -->\n",
       "<g class=\"node\" id=\"node36\"><title>139780470038312</title>\n",
       "<polygon fill=\"none\" points=\"2139,-438.5 2139,-474.5 2264,-474.5 2264,-438.5 2139,-438.5\" stroke=\"black\"/>\n",
       "<text font-family=\"Times,serif\" font-size=\"14.00\" text-anchor=\"middle\" x=\"2201.5\" y=\"-452.8\">reshape_7: Reshape</text>\n",
       "</g>\n",
       "<!-- 139780471116352&#45;&gt;139780470038312 -->\n",
       "<g class=\"edge\" id=\"edge24\"><title>139780471116352-&gt;139780470038312</title>\n",
       "<path d=\"M2222.72,-511.313C2219.49,-503.115 2215.55,-493.123 2211.94,-483.985\" fill=\"none\" stroke=\"black\"/>\n",
       "<polygon fill=\"black\" points=\"2215.14,-482.548 2208.22,-474.529 2208.63,-485.116 2215.14,-482.548\" stroke=\"black\"/>\n",
       "</g>\n",
       "<!-- 139780470035456 -->\n",
       "<g class=\"node\" id=\"node37\"><title>139780470035456</title>\n",
       "<polygon fill=\"none\" points=\"2320,-438.5 2320,-474.5 2445,-474.5 2445,-438.5 2320,-438.5\" stroke=\"black\"/>\n",
       "<text font-family=\"Times,serif\" font-size=\"14.00\" text-anchor=\"middle\" x=\"2382.5\" y=\"-452.8\">reshape_8: Reshape</text>\n",
       "</g>\n",
       "<!-- 139780470037640&#45;&gt;139780470035456 -->\n",
       "<g class=\"edge\" id=\"edge25\"><title>139780470037640-&gt;139780470035456</title>\n",
       "<path d=\"M2412.06,-511.313C2407.46,-502.941 2401.83,-492.697 2396.73,-483.403\" fill=\"none\" stroke=\"black\"/>\n",
       "<polygon fill=\"black\" points=\"2399.74,-481.609 2391.85,-474.529 2393.6,-484.979 2399.74,-481.609\" stroke=\"black\"/>\n",
       "</g>\n",
       "<!-- 139780471110064 -->\n",
       "<g class=\"node\" id=\"node24\"><title>139780471110064</title>\n",
       "<polygon fill=\"none\" points=\"2515,-511.5 2515,-547.5 2650,-547.5 2650,-511.5 2515,-511.5\" stroke=\"black\"/>\n",
       "<text font-family=\"Times,serif\" font-size=\"14.00\" text-anchor=\"middle\" x=\"2582.5\" y=\"-525.8\">inp_price: InputLayer</text>\n",
       "</g>\n",
       "<!-- 139780470132688 -->\n",
       "<g class=\"node\" id=\"node38\"><title>139780470132688</title>\n",
       "<polygon fill=\"none\" points=\"2493.5,-438.5 2493.5,-474.5 2609.5,-474.5 2609.5,-438.5 2493.5,-438.5\" stroke=\"black\"/>\n",
       "<text font-family=\"Times,serif\" font-size=\"14.00\" text-anchor=\"middle\" x=\"2551.5\" y=\"-452.8\">emb_price: Dense</text>\n",
       "</g>\n",
       "<!-- 139780471110064&#45;&gt;139780470132688 -->\n",
       "<g class=\"edge\" id=\"edge26\"><title>139780471110064-&gt;139780470132688</title>\n",
       "<path d=\"M2575,-511.313C2571.42,-503.115 2567.05,-493.123 2563.06,-483.985\" fill=\"none\" stroke=\"black\"/>\n",
       "<polygon fill=\"black\" points=\"2566.14,-482.293 2558.94,-474.529 2559.73,-485.094 2566.14,-482.293\" stroke=\"black\"/>\n",
       "</g>\n",
       "<!-- 139778544016744 -->\n",
       "<g class=\"node\" id=\"node25\"><title>139778544016744</title>\n",
       "<polygon fill=\"none\" points=\"2668,-511.5 2668,-547.5 2819,-547.5 2819,-511.5 2668,-511.5\" stroke=\"black\"/>\n",
       "<text font-family=\"Times,serif\" font-size=\"14.00\" text-anchor=\"middle\" x=\"2743.5\" y=\"-525.8\">inp_itemseq: InputLayer</text>\n",
       "</g>\n",
       "<!-- 139780469893048 -->\n",
       "<g class=\"node\" id=\"node39\"><title>139780469893048</title>\n",
       "<polygon fill=\"none\" points=\"2653,-438.5 2653,-474.5 2784,-474.5 2784,-438.5 2653,-438.5\" stroke=\"black\"/>\n",
       "<text font-family=\"Times,serif\" font-size=\"14.00\" text-anchor=\"middle\" x=\"2718.5\" y=\"-452.8\">emb_itemseq: Dense</text>\n",
       "</g>\n",
       "<!-- 139778544016744&#45;&gt;139780469893048 -->\n",
       "<g class=\"edge\" id=\"edge27\"><title>139778544016744-&gt;139780469893048</title>\n",
       "<path d=\"M2737.45,-511.313C2734.56,-503.115 2731.04,-493.123 2727.83,-483.985\" fill=\"none\" stroke=\"black\"/>\n",
       "<polygon fill=\"black\" points=\"2731.12,-482.799 2724.5,-474.529 2724.52,-485.124 2731.12,-482.799\" stroke=\"black\"/>\n",
       "</g>\n",
       "<!-- 139780469480920 -->\n",
       "<g class=\"node\" id=\"node26\"><title>139780469480920</title>\n",
       "<polygon fill=\"none\" points=\"2837,-511.5 2837,-547.5 2992,-547.5 2992,-511.5 2837,-511.5\" stroke=\"black\"/>\n",
       "<text font-family=\"Times,serif\" font-size=\"14.00\" text-anchor=\"middle\" x=\"2914.5\" y=\"-525.8\">inp_feat_eng: InputLayer</text>\n",
       "</g>\n",
       "<!-- 139780469480416 -->\n",
       "<g class=\"node\" id=\"node40\"><title>139780469480416</title>\n",
       "<polygon fill=\"none\" points=\"2824,-438.5 2824,-474.5 2959,-474.5 2959,-438.5 2824,-438.5\" stroke=\"black\"/>\n",
       "<text font-family=\"Times,serif\" font-size=\"14.00\" text-anchor=\"middle\" x=\"2891.5\" y=\"-452.8\">emb_feat_eng: Dense</text>\n",
       "</g>\n",
       "<!-- 139780469480920&#45;&gt;139780469480416 -->\n",
       "<g class=\"edge\" id=\"edge28\"><title>139780469480920-&gt;139780469480416</title>\n",
       "<path d=\"M2908.93,-511.313C2906.3,-503.202 2903.11,-493.336 2900.17,-484.277\" fill=\"none\" stroke=\"black\"/>\n",
       "<polygon fill=\"black\" points=\"2903.43,-482.963 2897.02,-474.529 2896.77,-485.121 2903.43,-482.963\" stroke=\"black\"/>\n",
       "</g>\n",
       "<!-- 139780469014480 -->\n",
       "<g class=\"node\" id=\"node41\"><title>139780469014480</title>\n",
       "<polygon fill=\"none\" points=\"357.5,-438.5 357.5,-474.5 617.5,-474.5 617.5,-438.5 357.5,-438.5\" stroke=\"black\"/>\n",
       "<text font-family=\"Times,serif\" font-size=\"14.00\" text-anchor=\"middle\" x=\"487.5\" y=\"-452.8\">batch_normalization_1: BatchNormalization</text>\n",
       "</g>\n",
       "<!-- 139780468944232&#45;&gt;139780469014480 -->\n",
       "<g class=\"edge\" id=\"edge29\"><title>139780468944232-&gt;139780469014480</title>\n",
       "<path d=\"M512.512,-511.313C508.661,-503.028 503.958,-492.91 499.674,-483.693\" fill=\"none\" stroke=\"black\"/>\n",
       "<polygon fill=\"black\" points=\"502.804,-482.122 495.415,-474.529 496.456,-485.072 502.804,-482.122\" stroke=\"black\"/>\n",
       "</g>\n",
       "<!-- 139780424207832 -->\n",
       "<g class=\"node\" id=\"node42\"><title>139780424207832</title>\n",
       "<polygon fill=\"none\" points=\"658.5,-438.5 658.5,-474.5 918.5,-474.5 918.5,-438.5 658.5,-438.5\" stroke=\"black\"/>\n",
       "<text font-family=\"Times,serif\" font-size=\"14.00\" text-anchor=\"middle\" x=\"788.5\" y=\"-452.8\">batch_normalization_2: BatchNormalization</text>\n",
       "</g>\n",
       "<!-- 139780424207104&#45;&gt;139780424207832 -->\n",
       "<g class=\"edge\" id=\"edge30\"><title>139780424207104-&gt;139780424207832</title>\n",
       "<path d=\"M782.437,-511.313C783.341,-503.289 784.438,-493.547 785.45,-484.569\" fill=\"none\" stroke=\"black\"/>\n",
       "<polygon fill=\"black\" points=\"788.939,-484.858 786.581,-474.529 781.984,-484.074 788.939,-484.858\" stroke=\"black\"/>\n",
       "</g>\n",
       "<!-- 139780420303168 -->\n",
       "<g class=\"node\" id=\"node43\"><title>139780420303168</title>\n",
       "<polygon fill=\"none\" points=\"937.5,-438.5 937.5,-474.5 1197.5,-474.5 1197.5,-438.5 937.5,-438.5\" stroke=\"black\"/>\n",
       "<text font-family=\"Times,serif\" font-size=\"14.00\" text-anchor=\"middle\" x=\"1067.5\" y=\"-452.8\">batch_normalization_3: BatchNormalization</text>\n",
       "</g>\n",
       "<!-- 139780420302552&#45;&gt;139780420303168 -->\n",
       "<g class=\"edge\" id=\"edge31\"><title>139780420302552-&gt;139780420303168</title>\n",
       "<path d=\"M945.064,-511.494C967.402,-501.643 995.718,-489.156 1019.49,-478.672\" fill=\"none\" stroke=\"black\"/>\n",
       "<polygon fill=\"black\" points=\"1020.96,-481.851 1028.69,-474.614 1018.13,-475.446 1020.96,-481.851\" stroke=\"black\"/>\n",
       "</g>\n",
       "<!-- 139780469576816 -->\n",
       "<g class=\"node\" id=\"node44\"><title>139780469576816</title>\n",
       "<polygon fill=\"none\" points=\"1919,-365.5 1919,-401.5 2124,-401.5 2124,-365.5 1919,-365.5\" stroke=\"black\"/>\n",
       "<text font-family=\"Times,serif\" font-size=\"14.00\" text-anchor=\"middle\" x=\"2021.5\" y=\"-379.8\">concat_cat_and_cont: Concatenate</text>\n",
       "</g>\n",
       "<!-- 139780471110904&#45;&gt;139780469576816 -->\n",
       "<g class=\"edge\" id=\"edge32\"><title>139780471110904-&gt;139780469576816</title>\n",
       "<path d=\"M1360.15,-441.125C1366.33,-439.96 1372.52,-438.89 1378.5,-438 1563.1,-410.498 1779.78,-396.133 1908.58,-389.454\" fill=\"none\" stroke=\"black\"/>\n",
       "<polygon fill=\"black\" points=\"1909.04,-392.935 1918.85,-388.928 1908.69,-385.944 1909.04,-392.935\" stroke=\"black\"/>\n",
       "</g>\n",
       "<!-- 139780471109784&#45;&gt;139780469576816 -->\n",
       "<g class=\"edge\" id=\"edge33\"><title>139780471109784-&gt;139780469576816</title>\n",
       "<path d=\"M1513.01,-440.488C1517.56,-439.585 1522.09,-438.743 1526.5,-438 1656.7,-416.053 1807.76,-401.249 1908.43,-392.878\" fill=\"none\" stroke=\"black\"/>\n",
       "<polygon fill=\"black\" points=\"1908.95,-396.348 1918.63,-392.038 1908.37,-389.371 1908.95,-396.348\" stroke=\"black\"/>\n",
       "</g>\n",
       "<!-- 139780471111072&#45;&gt;139780469576816 -->\n",
       "<g class=\"edge\" id=\"edge34\"><title>139780471111072-&gt;139780469576816</title>\n",
       "<path d=\"M1661.34,-440.083C1664.77,-439.351 1668.17,-438.652 1671.5,-438 1750.41,-422.538 1840.07,-408.908 1908.88,-399.276\" fill=\"none\" stroke=\"black\"/>\n",
       "<polygon fill=\"black\" points=\"1909.46,-402.729 1918.88,-397.884 1908.49,-395.796 1909.46,-402.729\" stroke=\"black\"/>\n",
       "</g>\n",
       "<!-- 139780471082400&#45;&gt;139780469576816 -->\n",
       "<g class=\"edge\" id=\"edge35\"><title>139780471082400-&gt;139780469576816</title>\n",
       "<path d=\"M1806.24,-439.478C1847.33,-428.983 1901.3,-415.199 1944.92,-404.059\" fill=\"none\" stroke=\"black\"/>\n",
       "<polygon fill=\"black\" points=\"1945.8,-407.445 1954.63,-401.579 1944.07,-400.662 1945.8,-407.445\" stroke=\"black\"/>\n",
       "</g>\n",
       "<!-- 139780471080608&#45;&gt;139780469576816 -->\n",
       "<g class=\"edge\" id=\"edge36\"><title>139780471080608-&gt;139780469576816</title>\n",
       "<path d=\"M1919.6,-438.494C1937.78,-428.861 1960.72,-416.707 1980.22,-406.37\" fill=\"none\" stroke=\"black\"/>\n",
       "<polygon fill=\"black\" points=\"1982,-409.388 1989.2,-401.614 1978.73,-403.203 1982,-409.388\" stroke=\"black\"/>\n",
       "</g>\n",
       "<!-- 139780470904928&#45;&gt;139780469576816 -->\n",
       "<g class=\"edge\" id=\"edge37\"><title>139780470904928-&gt;139780469576816</title>\n",
       "<path d=\"M2029.08,-438.313C2027.95,-430.289 2026.58,-420.547 2025.31,-411.569\" fill=\"none\" stroke=\"black\"/>\n",
       "<polygon fill=\"black\" points=\"2028.76,-410.943 2023.9,-401.529 2021.83,-411.919 2028.76,-410.943\" stroke=\"black\"/>\n",
       "</g>\n",
       "<!-- 139780470038312&#45;&gt;139780469576816 -->\n",
       "<g class=\"edge\" id=\"edge38\"><title>139780470038312-&gt;139780469576816</title>\n",
       "<path d=\"M2158.39,-438.494C2133.19,-428.555 2101.19,-415.934 2074.47,-405.394\" fill=\"none\" stroke=\"black\"/>\n",
       "<polygon fill=\"black\" points=\"2075.47,-402.027 2064.89,-401.614 2072.9,-408.539 2075.47,-402.027\" stroke=\"black\"/>\n",
       "</g>\n",
       "<!-- 139780470035456&#45;&gt;139780469576816 -->\n",
       "<g class=\"edge\" id=\"edge39\"><title>139780470035456-&gt;139780469576816</title>\n",
       "<path d=\"M2319.62,-443.133C2264.01,-432.196 2182.02,-416.071 2118.1,-403.498\" fill=\"none\" stroke=\"black\"/>\n",
       "<polygon fill=\"black\" points=\"2118.48,-400.008 2108,-401.512 2117.13,-406.876 2118.48,-400.008\" stroke=\"black\"/>\n",
       "</g>\n",
       "<!-- 139780470132688&#45;&gt;139780469576816 -->\n",
       "<g class=\"edge\" id=\"edge40\"><title>139780470132688-&gt;139780469576816</title>\n",
       "<path d=\"M2493.29,-444.576C2480.22,-442.271 2466.4,-439.949 2453.5,-438 2345.5,-421.682 2221.76,-406.737 2134.47,-396.816\" fill=\"none\" stroke=\"black\"/>\n",
       "<polygon fill=\"black\" points=\"2134.6,-393.309 2124.27,-395.661 2133.81,-400.264 2134.6,-393.309\" stroke=\"black\"/>\n",
       "</g>\n",
       "<!-- 139780469893048&#45;&gt;139780469576816 -->\n",
       "<g class=\"edge\" id=\"edge41\"><title>139780469893048-&gt;139780469576816</title>\n",
       "<path d=\"M2653,-443.227C2641.52,-441.309 2629.68,-439.477 2618.5,-438 2450.59,-415.824 2254.88,-400.221 2134.58,-391.797\" fill=\"none\" stroke=\"black\"/>\n",
       "<polygon fill=\"black\" points=\"2134.48,-388.281 2124.26,-391.078 2133.99,-395.264 2134.48,-388.281\" stroke=\"black\"/>\n",
       "</g>\n",
       "<!-- 139780469480416&#45;&gt;139780469576816 -->\n",
       "<g class=\"edge\" id=\"edge42\"><title>139780469480416-&gt;139780469576816</title>\n",
       "<path d=\"M2823.74,-442.545C2813.31,-440.833 2802.63,-439.244 2792.5,-438 2559.47,-409.4 2284.79,-394.902 2134.27,-388.59\" fill=\"none\" stroke=\"black\"/>\n",
       "<polygon fill=\"black\" points=\"2134.23,-385.086 2124.1,-388.168 2133.94,-392.08 2134.23,-385.086\" stroke=\"black\"/>\n",
       "</g>\n",
       "<!-- 139780466567712 -->\n",
       "<g class=\"node\" id=\"node45\"><title>139780466567712</title>\n",
       "<polygon fill=\"none\" points=\"422,-365.5 422,-401.5 545,-401.5 545,-365.5 422,-365.5\" stroke=\"black\"/>\n",
       "<text font-family=\"Times,serif\" font-size=\"14.00\" text-anchor=\"middle\" x=\"483.5\" y=\"-379.8\">conv1d_1: Conv1D</text>\n",
       "</g>\n",
       "<!-- 139780469014480&#45;&gt;139780466567712 -->\n",
       "<g class=\"edge\" id=\"edge43\"><title>139780469014480-&gt;139780466567712</title>\n",
       "<path d=\"M486.532,-438.313C486.08,-430.289 485.531,-420.547 485.025,-411.569\" fill=\"none\" stroke=\"black\"/>\n",
       "<polygon fill=\"black\" points=\"488.516,-411.316 484.459,-401.529 481.527,-411.71 488.516,-411.316\" stroke=\"black\"/>\n",
       "</g>\n",
       "<!-- 139780423853952 -->\n",
       "<g class=\"node\" id=\"node46\"><title>139780423853952</title>\n",
       "<polygon fill=\"none\" points=\"744,-365.5 744,-401.5 867,-401.5 867,-365.5 744,-365.5\" stroke=\"black\"/>\n",
       "<text font-family=\"Times,serif\" font-size=\"14.00\" text-anchor=\"middle\" x=\"805.5\" y=\"-379.8\">conv1d_2: Conv1D</text>\n",
       "</g>\n",
       "<!-- 139780424207832&#45;&gt;139780423853952 -->\n",
       "<g class=\"edge\" id=\"edge44\"><title>139780424207832-&gt;139780423853952</title>\n",
       "<path d=\"M792.615,-438.313C794.557,-430.202 796.92,-420.336 799.089,-411.277\" fill=\"none\" stroke=\"black\"/>\n",
       "<polygon fill=\"black\" points=\"802.498,-412.069 801.423,-401.529 795.69,-410.439 802.498,-412.069\" stroke=\"black\"/>\n",
       "</g>\n",
       "<!-- 139780418263752 -->\n",
       "<g class=\"node\" id=\"node47\"><title>139780418263752</title>\n",
       "<polygon fill=\"none\" points=\"1388,-365.5 1388,-401.5 1511,-401.5 1511,-365.5 1388,-365.5\" stroke=\"black\"/>\n",
       "<text font-family=\"Times,serif\" font-size=\"14.00\" text-anchor=\"middle\" x=\"1449.5\" y=\"-379.8\">conv1d_3: Conv1D</text>\n",
       "</g>\n",
       "<!-- 139780420303168&#45;&gt;139780418263752 -->\n",
       "<g class=\"edge\" id=\"edge45\"><title>139780420303168-&gt;139780418263752</title>\n",
       "<path d=\"M1159,-438.494C1226.11,-426.019 1315.97,-409.318 1377.89,-397.81\" fill=\"none\" stroke=\"black\"/>\n",
       "<polygon fill=\"black\" points=\"1378.77,-401.206 1387.96,-395.938 1377.49,-394.324 1378.77,-401.206\" stroke=\"black\"/>\n",
       "</g>\n",
       "<!-- 139780469654920 -->\n",
       "<g class=\"node\" id=\"node48\"><title>139780469654920</title>\n",
       "<polygon fill=\"none\" points=\"1941,-292.5 1941,-328.5 2066,-328.5 2066,-292.5 1941,-292.5\" stroke=\"black\"/>\n",
       "<text font-family=\"Times,serif\" font-size=\"14.00\" text-anchor=\"middle\" x=\"2003.5\" y=\"-306.8\">dropout_1: Dropout</text>\n",
       "</g>\n",
       "<!-- 139780469576816&#45;&gt;139780469654920 -->\n",
       "<g class=\"edge\" id=\"edge46\"><title>139780469576816-&gt;139780469654920</title>\n",
       "<path d=\"M2017.14,-365.313C2015.09,-357.202 2012.59,-347.336 2010.29,-338.277\" fill=\"none\" stroke=\"black\"/>\n",
       "<polygon fill=\"black\" points=\"2013.67,-337.362 2007.82,-328.529 2006.88,-339.082 2013.67,-337.362\" stroke=\"black\"/>\n",
       "</g>\n",
       "<!-- 139780466964016 -->\n",
       "<g class=\"node\" id=\"node49\"><title>139780466964016</title>\n",
       "<polygon fill=\"none\" points=\"0,-292.5 0,-328.5 323,-328.5 323,-292.5 0,-292.5\" stroke=\"black\"/>\n",
       "<text font-family=\"Times,serif\" font-size=\"14.00\" text-anchor=\"middle\" x=\"161.5\" y=\"-306.8\">global_average_pooling1d_1: GlobalAveragePooling1D</text>\n",
       "</g>\n",
       "<!-- 139780466567712&#45;&gt;139780466964016 -->\n",
       "<g class=\"edge\" id=\"edge47\"><title>139780466567712-&gt;139780466964016</title>\n",
       "<path d=\"M421.796,-368.894C372.715,-358.072 303.435,-342.796 248.687,-330.724\" fill=\"none\" stroke=\"black\"/>\n",
       "<polygon fill=\"black\" points=\"249.161,-327.245 238.642,-328.51 247.654,-334.081 249.161,-327.245\" stroke=\"black\"/>\n",
       "</g>\n",
       "<!-- 139780424611264 -->\n",
       "<g class=\"node\" id=\"node50\"><title>139780424611264</title>\n",
       "<polygon fill=\"none\" points=\"341.5,-292.5 341.5,-328.5 625.5,-328.5 625.5,-292.5 341.5,-292.5\" stroke=\"black\"/>\n",
       "<text font-family=\"Times,serif\" font-size=\"14.00\" text-anchor=\"middle\" x=\"483.5\" y=\"-306.8\">global_max_pooling1d_1: GlobalMaxPooling1D</text>\n",
       "</g>\n",
       "<!-- 139780466567712&#45;&gt;139780424611264 -->\n",
       "<g class=\"edge\" id=\"edge48\"><title>139780466567712-&gt;139780424611264</title>\n",
       "<path d=\"M483.5,-365.313C483.5,-357.289 483.5,-347.547 483.5,-338.569\" fill=\"none\" stroke=\"black\"/>\n",
       "<polygon fill=\"black\" points=\"487,-338.529 483.5,-328.529 480,-338.529 487,-338.529\" stroke=\"black\"/>\n",
       "</g>\n",
       "<!-- 139780422086048 -->\n",
       "<g class=\"node\" id=\"node51\"><title>139780422086048</title>\n",
       "<polygon fill=\"none\" points=\"644,-292.5 644,-328.5 967,-328.5 967,-292.5 644,-292.5\" stroke=\"black\"/>\n",
       "<text font-family=\"Times,serif\" font-size=\"14.00\" text-anchor=\"middle\" x=\"805.5\" y=\"-306.8\">global_average_pooling1d_2: GlobalAveragePooling1D</text>\n",
       "</g>\n",
       "<!-- 139780423853952&#45;&gt;139780422086048 -->\n",
       "<g class=\"edge\" id=\"edge49\"><title>139780423853952-&gt;139780422086048</title>\n",
       "<path d=\"M805.5,-365.313C805.5,-357.289 805.5,-347.547 805.5,-338.569\" fill=\"none\" stroke=\"black\"/>\n",
       "<polygon fill=\"black\" points=\"809,-338.529 805.5,-328.529 802,-338.529 809,-338.529\" stroke=\"black\"/>\n",
       "</g>\n",
       "<!-- 139780421143968 -->\n",
       "<g class=\"node\" id=\"node52\"><title>139780421143968</title>\n",
       "<polygon fill=\"none\" points=\"985.5,-292.5 985.5,-328.5 1269.5,-328.5 1269.5,-292.5 985.5,-292.5\" stroke=\"black\"/>\n",
       "<text font-family=\"Times,serif\" font-size=\"14.00\" text-anchor=\"middle\" x=\"1127.5\" y=\"-306.8\">global_max_pooling1d_2: GlobalMaxPooling1D</text>\n",
       "</g>\n",
       "<!-- 139780423853952&#45;&gt;139780421143968 -->\n",
       "<g class=\"edge\" id=\"edge50\"><title>139780423853952-&gt;139780421143968</title>\n",
       "<path d=\"M867.204,-368.894C916.285,-358.072 985.565,-342.796 1040.31,-330.724\" fill=\"none\" stroke=\"black\"/>\n",
       "<polygon fill=\"black\" points=\"1041.35,-334.081 1050.36,-328.51 1039.84,-327.245 1041.35,-334.081\" stroke=\"black\"/>\n",
       "</g>\n",
       "<!-- 139780417142624 -->\n",
       "<g class=\"node\" id=\"node53\"><title>139780417142624</title>\n",
       "<polygon fill=\"none\" points=\"1288,-292.5 1288,-328.5 1611,-328.5 1611,-292.5 1288,-292.5\" stroke=\"black\"/>\n",
       "<text font-family=\"Times,serif\" font-size=\"14.00\" text-anchor=\"middle\" x=\"1449.5\" y=\"-306.8\">global_average_pooling1d_3: GlobalAveragePooling1D</text>\n",
       "</g>\n",
       "<!-- 139780418263752&#45;&gt;139780417142624 -->\n",
       "<g class=\"edge\" id=\"edge51\"><title>139780418263752-&gt;139780417142624</title>\n",
       "<path d=\"M1449.5,-365.313C1449.5,-357.289 1449.5,-347.547 1449.5,-338.569\" fill=\"none\" stroke=\"black\"/>\n",
       "<polygon fill=\"black\" points=\"1453,-338.529 1449.5,-328.529 1446,-338.529 1453,-338.529\" stroke=\"black\"/>\n",
       "</g>\n",
       "<!-- 139780416708000 -->\n",
       "<g class=\"node\" id=\"node54\"><title>139780416708000</title>\n",
       "<polygon fill=\"none\" points=\"1629.5,-292.5 1629.5,-328.5 1913.5,-328.5 1913.5,-292.5 1629.5,-292.5\" stroke=\"black\"/>\n",
       "<text font-family=\"Times,serif\" font-size=\"14.00\" text-anchor=\"middle\" x=\"1771.5\" y=\"-306.8\">global_max_pooling1d_3: GlobalMaxPooling1D</text>\n",
       "</g>\n",
       "<!-- 139780418263752&#45;&gt;139780416708000 -->\n",
       "<g class=\"edge\" id=\"edge52\"><title>139780418263752-&gt;139780416708000</title>\n",
       "<path d=\"M1511.2,-368.894C1560.29,-358.072 1629.57,-342.796 1684.31,-330.724\" fill=\"none\" stroke=\"black\"/>\n",
       "<polygon fill=\"black\" points=\"1685.35,-334.081 1694.36,-328.51 1683.84,-327.245 1685.35,-334.081\" stroke=\"black\"/>\n",
       "</g>\n",
       "<!-- 139780469577432 -->\n",
       "<g class=\"node\" id=\"node55\"><title>139780469577432</title>\n",
       "<polygon fill=\"none\" points=\"1751.5,-219.5 1751.5,-255.5 1853.5,-255.5 1853.5,-219.5 1751.5,-219.5\" stroke=\"black\"/>\n",
       "<text font-family=\"Times,serif\" font-size=\"14.00\" text-anchor=\"middle\" x=\"1802.5\" y=\"-233.8\">dense_1: Dense</text>\n",
       "</g>\n",
       "<!-- 139780469654920&#45;&gt;139780469577432 -->\n",
       "<g class=\"edge\" id=\"edge53\"><title>139780469654920-&gt;139780469577432</title>\n",
       "<path d=\"M1955.36,-292.494C1926.85,-282.425 1890.55,-269.602 1860.48,-258.979\" fill=\"none\" stroke=\"black\"/>\n",
       "<polygon fill=\"black\" points=\"1861.54,-255.644 1850.95,-255.614 1859.21,-262.244 1861.54,-255.644\" stroke=\"black\"/>\n",
       "</g>\n",
       "<!-- 139780424562112 -->\n",
       "<g class=\"node\" id=\"node56\"><title>139780424562112</title>\n",
       "<polygon fill=\"none\" points=\"399.5,-219.5 399.5,-255.5 567.5,-255.5 567.5,-219.5 399.5,-219.5\" stroke=\"black\"/>\n",
       "<text font-family=\"Times,serif\" font-size=\"14.00\" text-anchor=\"middle\" x=\"483.5\" y=\"-233.8\">concatenate_1: Concatenate</text>\n",
       "</g>\n",
       "<!-- 139780466964016&#45;&gt;139780424562112 -->\n",
       "<g class=\"edge\" id=\"edge54\"><title>139780466964016-&gt;139780424562112</title>\n",
       "<path d=\"M238.627,-292.494C286.06,-282.035 346.967,-268.605 396.171,-257.756\" fill=\"none\" stroke=\"black\"/>\n",
       "<polygon fill=\"black\" points=\"397.154,-261.123 406.166,-255.552 395.647,-254.287 397.154,-261.123\" stroke=\"black\"/>\n",
       "</g>\n",
       "<!-- 139780424611264&#45;&gt;139780424562112 -->\n",
       "<g class=\"edge\" id=\"edge55\"><title>139780424611264-&gt;139780424562112</title>\n",
       "<path d=\"M483.5,-292.313C483.5,-284.289 483.5,-274.547 483.5,-265.569\" fill=\"none\" stroke=\"black\"/>\n",
       "<polygon fill=\"black\" points=\"487,-265.529 483.5,-255.529 480,-265.529 487,-265.529\" stroke=\"black\"/>\n",
       "</g>\n",
       "<!-- 139780420149992 -->\n",
       "<g class=\"node\" id=\"node57\"><title>139780420149992</title>\n",
       "<polygon fill=\"none\" points=\"1043.5,-219.5 1043.5,-255.5 1211.5,-255.5 1211.5,-219.5 1043.5,-219.5\" stroke=\"black\"/>\n",
       "<text font-family=\"Times,serif\" font-size=\"14.00\" text-anchor=\"middle\" x=\"1127.5\" y=\"-233.8\">concatenate_2: Concatenate</text>\n",
       "</g>\n",
       "<!-- 139780422086048&#45;&gt;139780420149992 -->\n",
       "<g class=\"edge\" id=\"edge56\"><title>139780422086048-&gt;139780420149992</title>\n",
       "<path d=\"M882.627,-292.494C930.06,-282.035 990.967,-268.605 1040.17,-257.756\" fill=\"none\" stroke=\"black\"/>\n",
       "<polygon fill=\"black\" points=\"1041.15,-261.123 1050.17,-255.552 1039.65,-254.287 1041.15,-261.123\" stroke=\"black\"/>\n",
       "</g>\n",
       "<!-- 139780421143968&#45;&gt;139780420149992 -->\n",
       "<g class=\"edge\" id=\"edge57\"><title>139780421143968-&gt;139780420149992</title>\n",
       "<path d=\"M1127.5,-292.313C1127.5,-284.289 1127.5,-274.547 1127.5,-265.569\" fill=\"none\" stroke=\"black\"/>\n",
       "<polygon fill=\"black\" points=\"1131,-265.529 1127.5,-255.529 1124,-265.529 1131,-265.529\" stroke=\"black\"/>\n",
       "</g>\n",
       "<!-- 139780417198848 -->\n",
       "<g class=\"node\" id=\"node58\"><title>139780417198848</title>\n",
       "<polygon fill=\"none\" points=\"1365.5,-219.5 1365.5,-255.5 1533.5,-255.5 1533.5,-219.5 1365.5,-219.5\" stroke=\"black\"/>\n",
       "<text font-family=\"Times,serif\" font-size=\"14.00\" text-anchor=\"middle\" x=\"1449.5\" y=\"-233.8\">concatenate_3: Concatenate</text>\n",
       "</g>\n",
       "<!-- 139780417142624&#45;&gt;139780417198848 -->\n",
       "<g class=\"edge\" id=\"edge58\"><title>139780417142624-&gt;139780417198848</title>\n",
       "<path d=\"M1449.5,-292.313C1449.5,-284.289 1449.5,-274.547 1449.5,-265.569\" fill=\"none\" stroke=\"black\"/>\n",
       "<polygon fill=\"black\" points=\"1453,-265.529 1449.5,-255.529 1446,-265.529 1453,-265.529\" stroke=\"black\"/>\n",
       "</g>\n",
       "<!-- 139780416708000&#45;&gt;139780417198848 -->\n",
       "<g class=\"edge\" id=\"edge59\"><title>139780416708000-&gt;139780417198848</title>\n",
       "<path d=\"M1694.37,-292.494C1646.94,-282.035 1586.03,-268.605 1536.83,-257.756\" fill=\"none\" stroke=\"black\"/>\n",
       "<polygon fill=\"black\" points=\"1537.35,-254.287 1526.83,-255.552 1535.85,-261.123 1537.35,-254.287\" stroke=\"black\"/>\n",
       "</g>\n",
       "<!-- 139780417198456 -->\n",
       "<g class=\"node\" id=\"node59\"><title>139780417198456</title>\n",
       "<polygon fill=\"none\" points=\"1204.5,-146.5 1204.5,-182.5 1372.5,-182.5 1372.5,-146.5 1204.5,-146.5\" stroke=\"black\"/>\n",
       "<text font-family=\"Times,serif\" font-size=\"14.00\" text-anchor=\"middle\" x=\"1288.5\" y=\"-160.8\">concatenate_4: Concatenate</text>\n",
       "</g>\n",
       "<!-- 139780469577432&#45;&gt;139780417198456 -->\n",
       "<g class=\"edge\" id=\"edge60\"><title>139780469577432-&gt;139780417198456</title>\n",
       "<path d=\"M1751.34,-229.433C1665.52,-217.579 1491.35,-193.52 1382.84,-178.532\" fill=\"none\" stroke=\"black\"/>\n",
       "<polygon fill=\"black\" points=\"1383.26,-175.057 1372.88,-177.155 1382.3,-181.991 1383.26,-175.057\" stroke=\"black\"/>\n",
       "</g>\n",
       "<!-- 139780424562112&#45;&gt;139780417198456 -->\n",
       "<g class=\"edge\" id=\"edge61\"><title>139780424562112-&gt;139780417198456</title>\n",
       "<path d=\"M567.749,-229.069C719.049,-215.725 1035.74,-187.793 1194.11,-173.825\" fill=\"none\" stroke=\"black\"/>\n",
       "<polygon fill=\"black\" points=\"1194.65,-177.291 1204.31,-172.926 1194.04,-170.318 1194.65,-177.291\" stroke=\"black\"/>\n",
       "</g>\n",
       "<!-- 139780420149992&#45;&gt;139780417198456 -->\n",
       "<g class=\"edge\" id=\"edge62\"><title>139780420149992-&gt;139780417198456</title>\n",
       "<path d=\"M1166.06,-219.494C1188.4,-209.643 1216.72,-197.156 1240.49,-186.672\" fill=\"none\" stroke=\"black\"/>\n",
       "<polygon fill=\"black\" points=\"1241.96,-189.851 1249.69,-182.614 1239.13,-183.446 1241.96,-189.851\" stroke=\"black\"/>\n",
       "</g>\n",
       "<!-- 139780417198848&#45;&gt;139780417198456 -->\n",
       "<g class=\"edge\" id=\"edge63\"><title>139780417198848-&gt;139780417198456</title>\n",
       "<path d=\"M1410.94,-219.494C1388.6,-209.643 1360.28,-197.156 1336.51,-186.672\" fill=\"none\" stroke=\"black\"/>\n",
       "<polygon fill=\"black\" points=\"1337.87,-183.446 1327.31,-182.614 1335.04,-189.851 1337.87,-183.446\" stroke=\"black\"/>\n",
       "</g>\n",
       "<!-- 139780416335656 -->\n",
       "<g class=\"node\" id=\"node60\"><title>139780416335656</title>\n",
       "<polygon fill=\"none\" points=\"1226,-73.5 1226,-109.5 1351,-109.5 1351,-73.5 1226,-73.5\" stroke=\"black\"/>\n",
       "<text font-family=\"Times,serif\" font-size=\"14.00\" text-anchor=\"middle\" x=\"1288.5\" y=\"-87.8\">dropout_5: Dropout</text>\n",
       "</g>\n",
       "<!-- 139780417198456&#45;&gt;139780416335656 -->\n",
       "<g class=\"edge\" id=\"edge64\"><title>139780417198456-&gt;139780416335656</title>\n",
       "<path d=\"M1288.5,-146.313C1288.5,-138.289 1288.5,-128.547 1288.5,-119.569\" fill=\"none\" stroke=\"black\"/>\n",
       "<polygon fill=\"black\" points=\"1292,-119.529 1288.5,-109.529 1285,-119.529 1292,-119.529\" stroke=\"black\"/>\n",
       "</g>\n",
       "<!-- 139780416333864 -->\n",
       "<g class=\"node\" id=\"node61\"><title>139780416333864</title>\n",
       "<polygon fill=\"none\" points=\"1242.5,-0.5 1242.5,-36.5 1334.5,-36.5 1334.5,-0.5 1242.5,-0.5\" stroke=\"black\"/>\n",
       "<text font-family=\"Times,serif\" font-size=\"14.00\" text-anchor=\"middle\" x=\"1288.5\" y=\"-14.8\">output: Dense</text>\n",
       "</g>\n",
       "<!-- 139780416335656&#45;&gt;139780416333864 -->\n",
       "<g class=\"edge\" id=\"edge65\"><title>139780416335656-&gt;139780416333864</title>\n",
       "<path d=\"M1288.5,-73.3129C1288.5,-65.2895 1288.5,-55.5475 1288.5,-46.5691\" fill=\"none\" stroke=\"black\"/>\n",
       "<polygon fill=\"black\" points=\"1292,-46.5288 1288.5,-36.5288 1285,-46.5289 1292,-46.5288\" stroke=\"black\"/>\n",
       "</g>\n",
       "</g>\n",
       "</svg>"
      ],
      "text/plain": [
       "<IPython.core.display.SVG object>"
      ]
     },
     "execution_count": 123,
     "metadata": {},
     "output_type": "execute_result"
    }
   ],
   "source": [
    "SVG(model_to_dot(model).create(prog='dot', format='svg'))"
   ]
  },
  {
   "cell_type": "code",
   "execution_count": null,
   "metadata": {
    "collapsed": true
   },
   "outputs": [],
   "source": []
  },
  {
   "cell_type": "code",
   "execution_count": 59,
   "metadata": {
    "collapsed": true
   },
   "outputs": [],
   "source": [
    "model = get_model()"
   ]
  },
  {
   "cell_type": "code",
   "execution_count": null,
   "metadata": {
    "collapsed": true
   },
   "outputs": [],
   "source": [
    "batch_size = 2500\n",
    "learning_rate = 0.001"
   ]
  },
  {
   "cell_type": "code",
   "execution_count": null,
   "metadata": {},
   "outputs": [
    {
     "name": "stdout",
     "output_type": "stream",
     "text": [
      "Train on 1202739 samples, validate on 300685 samples\n",
      "Epoch 1/30\n",
      "1202739/1202739 [==============================] - 146s 121us/step - loss: 0.2924 - val_loss: 0.2366\n",
      "\n",
      "Epoch 00001: val_loss improved from inf to 0.23656, saving model to best.hdf5\n",
      "Epoch 2/30\n",
      "1202739/1202739 [==============================] - 143s 119us/step - loss: 0.2414 - val_loss: 0.2320\n",
      "\n",
      "Epoch 00002: val_loss improved from 0.23656 to 0.23195, saving model to best.hdf5\n",
      "Epoch 3/30\n",
      "1202739/1202739 [==============================] - 142s 118us/step - loss: 0.2372 - val_loss: 0.2306\n",
      "\n",
      "Epoch 00003: val_loss improved from 0.23195 to 0.23064, saving model to best.hdf5\n",
      "Epoch 4/30\n",
      "1202739/1202739 [==============================] - 141s 118us/step - loss: 0.2350 - val_loss: 0.2292\n",
      "\n",
      "Epoch 00004: val_loss improved from 0.23064 to 0.22921, saving model to best.hdf5\n",
      "Epoch 5/30\n",
      "1202739/1202739 [==============================] - 142s 118us/step - loss: 0.2335 - val_loss: 0.2291\n",
      "\n",
      "Epoch 00005: val_loss improved from 0.22921 to 0.22909, saving model to best.hdf5\n",
      "Epoch 6/30\n",
      "1202739/1202739 [==============================] - 143s 119us/step - loss: 0.2324 - val_loss: 0.2286\n",
      "\n",
      "Epoch 00006: val_loss improved from 0.22909 to 0.22859, saving model to best.hdf5\n",
      "Epoch 7/30\n",
      "1202739/1202739 [==============================] - 144s 120us/step - loss: 0.2316 - val_loss: 0.2288\n",
      "\n",
      "Epoch 00007: val_loss did not improve from 0.22859\n",
      "Epoch 8/30\n",
      "1202739/1202739 [==============================] - 143s 119us/step - loss: 0.2311 - val_loss: 0.2285\n",
      "\n",
      "Epoch 00008: val_loss improved from 0.22859 to 0.22854, saving model to best.hdf5\n",
      "Epoch 9/30\n",
      "1202739/1202739 [==============================] - 144s 119us/step - loss: 0.2303 - val_loss: 0.2281\n",
      "\n",
      "Epoch 00009: val_loss improved from 0.22854 to 0.22813, saving model to best.hdf5\n",
      "Epoch 10/30\n",
      "1202739/1202739 [==============================] - 144s 119us/step - loss: 0.2300 - val_loss: 0.2280\n",
      "\n",
      "Epoch 00010: val_loss improved from 0.22813 to 0.22798, saving model to best.hdf5\n",
      "Epoch 11/30\n",
      "1202739/1202739 [==============================] - 144s 120us/step - loss: 0.2298 - val_loss: 0.2279\n",
      "\n",
      "Epoch 00011: val_loss improved from 0.22798 to 0.22788, saving model to best.hdf5\n",
      "Epoch 12/30\n",
      "1047500/1202739 [=========================>....] - ETA: 18s - loss: 0.2296"
     ]
    }
   ],
   "source": [
    "model.compile(optimizer=Adam(lr=learning_rate), loss = root_mean_squared_error)\n",
    "checkpoint = ModelCheckpoint('best.hdf5', monitor='val_loss', verbose=1, save_best_only=True)\n",
    "\n",
    "early = EarlyStopping(patience=4, mode='min')\n",
    "reduce_lr =  ReduceLROnPlateau(monitor='val_loss', factor=0.5, patience=2, min_lr=0.000001)\n",
    "lrate_exp = LearningRateScheduler(exp_decay)\n",
    "clr = CyclicLR(mode='exp_range', base_lr=0.0001, max_lr=0.1)\n",
    "\n",
    "callbacks = [checkpoint, early, reduce_lr]\n",
    "\n",
    "\n",
    "model.fit(X_train, y_train, validation_data=(X_valid, y_valid),\n",
    "          batch_size=batch_size, epochs=30, callbacks=callbacks, verbose=1)\n",
    "    "
   ]
  },
  {
   "cell_type": "code",
   "execution_count": 326,
   "metadata": {
    "collapsed": true
   },
   "outputs": [],
   "source": [
    "model.load_weights('best.hdf5')"
   ]
  },
  {
   "cell_type": "code",
   "execution_count": 343,
   "metadata": {},
   "outputs": [
    {
     "data": {
      "text/plain": [
       "<tf.Tensor 'GatherV2_13:0' shape=(100,) dtype=float32>"
      ]
     },
     "execution_count": 343,
     "metadata": {},
     "output_type": "execute_result"
    }
   ],
   "source": []
  },
  {
   "cell_type": "code",
   "execution_count": null,
   "metadata": {
    "collapsed": true
   },
   "outputs": [],
   "source": [
    "0.2133 / 0.2420 "
   ]
  },
  {
   "cell_type": "code",
   "execution_count": 116,
   "metadata": {},
   "outputs": [
    {
     "data": {
      "image/png": "[encoded data removed]",
      "text/plain": [
       "<matplotlib.figure.Figure at 0x7facfc05ca20>"
      ]
     },
     "metadata": {},
     "output_type": "display_data"
    }
   ],
   "source": [
    "plot_lr(clr.history)"
   ]
  },
  {
   "cell_type": "code",
   "execution_count": 171,
   "metadata": {
    "collapsed": true
   },
   "outputs": [],
   "source": [
    "y_pred = model.predict(X_valid, batch_size=batch_size)\n",
    "y_pred = np.clip(y_pred, 0, 1)"
   ]
  },
  {
   "cell_type": "code",
   "execution_count": 172,
   "metadata": {
    "scrolled": true
   },
   "outputs": [
    {
     "data": {
      "text/plain": [
       "0.2133922860754405"
      ]
     },
     "execution_count": 172,
     "metadata": {},
     "output_type": "execute_result"
    }
   ],
   "source": [
    "math.sqrt(((y_valid-y_pred)**2).mean())"
   ]
  },
  {
   "cell_type": "code",
   "execution_count": 141,
   "metadata": {},
   "outputs": [
    {
     "data": {
      "text/plain": [
       "(227848, 1)"
      ]
     },
     "execution_count": 141,
     "metadata": {},
     "output_type": "execute_result"
    }
   ],
   "source": [
    "y_pred.shape"
   ]
  },
  {
   "cell_type": "code",
   "execution_count": 144,
   "metadata": {},
   "outputs": [
    {
     "name": "stdout",
     "output_type": "stream",
     "text": [
      "[ 0.0403143   0.4394172   0.02837736 ...,  0.16886499  0.33733565\n",
      "  0.13886825]\n"
     ]
    }
   ],
   "source": [
    "sess = tf.Session()\n",
    "\n",
    "with sess.as_default():\n",
    "    print(K.sqrt(K.mean(K.square(y_valid - y_pred))).eval())"
   ]
  },
  {
   "cell_type": "code",
   "execution_count": null,
   "metadata": {
    "collapsed": true
   },
   "outputs": [],
   "source": []
  },
  {
   "cell_type": "code",
   "execution_count": 153,
   "metadata": {
    "collapsed": true
   },
   "outputs": [],
   "source": [
    "#model.load_weights('model_baseline_weights.hdf5')\n",
    "y_pred = model.predict(X_test, batch_size=batch_size)\n",
    "y_pred = np.clip(y_pred, 0, 1)\n",
    "df_submission = pd.DataFrame(df_test['item_id'], columns=['item_id'])\n",
    "df_submission['deal_probability'] = y_pred\n",
    "df_submission[['item_id','deal_probability']].to_csv('../../../submission.csv', index=False)"
   ]
  },
  {
   "cell_type": "code",
   "execution_count": null,
   "metadata": {
    "collapsed": true
   },
   "outputs": [],
   "source": []
  },
  {
   "cell_type": "code",
   "execution_count": null,
   "metadata": {
    "collapsed": true
   },
   "outputs": [],
   "source": []
  },
  {
   "cell_type": "code",
   "execution_count": null,
   "metadata": {
    "collapsed": true
   },
   "outputs": [],
   "source": []
  },
  {
   "cell_type": "code",
   "execution_count": null,
   "metadata": {
    "collapsed": true
   },
   "outputs": [],
   "source": []
  }
 ],
 "metadata": {
  "kernelspec": {
   "display_name": "Python 3",
   "language": "python",
   "name": "python3"
  },
  "language_info": {
   "codemirror_mode": {
    "name": "ipython",
    "version": 3
   },
   "file_extension": ".py",
   "mimetype": "text/x-python",
   "name": "python",
   "nbconvert_exporter": "python",
   "pygments_lexer": "ipython3",
   "version": "3.6.3"
  }
 },
 "nbformat": 4,
 "nbformat_minor": 2
}
