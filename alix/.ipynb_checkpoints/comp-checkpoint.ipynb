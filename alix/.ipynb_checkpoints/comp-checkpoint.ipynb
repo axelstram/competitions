{
 "cells": [
  {
   "cell_type": "code",
   "execution_count": 1,
   "metadata": {},
   "outputs": [],
   "source": [
    "import pandas as pd\n",
    "import matplotlib as plt"
   ]
  },
  {
   "cell_type": "code",
   "execution_count": null,
   "metadata": {},
   "outputs": [],
   "source": []
  },
  {
   "cell_type": "code",
   "execution_count": 50,
   "metadata": {},
   "outputs": [],
   "source": []
  },
  {
   "cell_type": "code",
   "execution_count": 34,
   "metadata": {},
   "outputs": [],
   "source": [
    "df_test = pd.read_csv('../../ejemploRespuesta.csv', header=None)"
   ]
  },
  {
   "cell_type": "code",
   "execution_count": 73,
   "metadata": {},
   "outputs": [],
   "source": [
    "df_envios = pd.read_csv('envios.txt', sep='|', parse_dates=['fecha'])\n",
    "df_ventas = pd.read_csv('ventas.txt', sep='|', parse_dates=['fecha'])\n",
    "df_envios = df_envios.rename(columns={'fecha': 'fecha_envios'})\n",
    "df_ventas = df_ventas.rename(columns={'fecha': 'fecha_ventas'})\n",
    "\n",
    "df_pos = pd.read_csv('pos.csv')\n",
    "df_pos = df_pos.dropna()\n",
    "df_pos = df_pos[df_pos.id_pos != 'Not Available']\n",
    "df_pos = df_pos.astype({\"id_pos\": int})\n",
    "\n",
    "df = df_envios.merge(df_ventas, on='id_pos', how='left')\n",
    "#df = df.merge(df_pos, on='id_pos', how='inner')"
   ]
  },
  {
   "cell_type": "code",
   "execution_count": 74,
   "metadata": {},
   "outputs": [
    {
     "data": {
      "text/plain": [
       "13449"
      ]
     },
     "execution_count": 74,
     "metadata": {},
     "output_type": "execute_result"
    }
   ],
   "source": [
    "len(df.id_pos.unique())"
   ]
  },
  {
   "cell_type": "code",
   "execution_count": 56,
   "metadata": {},
   "outputs": [
    {
     "data": {
      "text/plain": [
       "11823"
      ]
     },
     "execution_count": 56,
     "metadata": {},
     "output_type": "execute_result"
    }
   ],
   "source": [
    "len((pd.Series(list(set(df.id_pos).intersection(set(df_test[0].values))))))"
   ]
  },
  {
   "cell_type": "code",
   "execution_count": 70,
   "metadata": {},
   "outputs": [
    {
     "data": {
      "text/plain": [
       "12300"
      ]
     },
     "execution_count": 70,
     "metadata": {},
     "output_type": "execute_result"
    }
   ],
   "source": [
    "len((pd.Series(list(set(df_ventas.id_pos).intersection(set(df_envios.id_pos))))))"
   ]
  },
  {
   "cell_type": "code",
   "execution_count": 72,
   "metadata": {},
   "outputs": [
    {
     "data": {
      "text/plain": [
       "13449"
      ]
     },
     "execution_count": 72,
     "metadata": {},
     "output_type": "execute_result"
    }
   ],
   "source": [
    "len(set(df_envios.id_pos))"
   ]
  },
  {
   "cell_type": "code",
   "execution_count": 62,
   "metadata": {},
   "outputs": [
    {
     "data": {
      "text/plain": [
       "12897"
      ]
     },
     "execution_count": 62,
     "metadata": {},
     "output_type": "execute_result"
    }
   ],
   "source": [
    "len(df_test[0].values)"
   ]
  },
  {
   "cell_type": "code",
   "execution_count": null,
   "metadata": {},
   "outputs": [],
   "source": []
  },
  {
   "cell_type": "code",
   "execution_count": null,
   "metadata": {},
   "outputs": [],
   "source": []
  },
  {
   "cell_type": "code",
   "execution_count": null,
   "metadata": {},
   "outputs": [],
   "source": []
  },
  {
   "cell_type": "code",
   "execution_count": 102,
   "metadata": {},
   "outputs": [],
   "source": [
    "df_gp = df_envios.groupby(['id_pos'])\n",
    "mean = df_gp.mean().rename(columns={'unidades_despachadas': 'unidades_despachadas_mean'})\n",
    "std = df_gp.std().rename(columns={'unidades_despachadas': 'unidades_despachadas_std'})\n",
    "tot = df_gp.sum().rename(columns={'unidades_despachadas': 'unidades_despachadas_tot'})"
   ]
  },
  {
   "cell_type": "code",
   "execution_count": 103,
   "metadata": {},
   "outputs": [],
   "source": [
    "df = df.join(mean['unidades_despachadas_mean'], on='id_pos')\n",
    "df = df.join(std['unidades_despachadas_std'], on='id_pos')\n",
    "df = df.join(tot['unidades_despachadas_tot'], on='id_pos')"
   ]
  },
  {
   "cell_type": "code",
   "execution_count": 105,
   "metadata": {},
   "outputs": [
    {
     "data": {
      "text/html": [
       "<div>\n",
       "<style scoped>\n",
       "    .dataframe tbody tr th:only-of-type {\n",
       "        vertical-align: middle;\n",
       "    }\n",
       "\n",
       "    .dataframe tbody tr th {\n",
       "        vertical-align: top;\n",
       "    }\n",
       "\n",
       "    .dataframe thead th {\n",
       "        text-align: right;\n",
       "    }\n",
       "</style>\n",
       "<table border=\"1\" class=\"dataframe\">\n",
       "  <thead>\n",
       "    <tr style=\"text-align: right;\">\n",
       "      <th></th>\n",
       "      <th>id_pos</th>\n",
       "      <th>unidades_despachadas</th>\n",
       "      <th>cantidad_envios</th>\n",
       "      <th>unidades_despachadas_mean</th>\n",
       "      <th>unidades_despachadas_std</th>\n",
       "      <th>unidades_despachadas_tot</th>\n",
       "    </tr>\n",
       "  </thead>\n",
       "  <tbody>\n",
       "    <tr>\n",
       "      <th>id_pos</th>\n",
       "      <td>1.000000</td>\n",
       "      <td>-0.300435</td>\n",
       "      <td>-0.013539</td>\n",
       "      <td>-0.421490</td>\n",
       "      <td>-0.363437</td>\n",
       "      <td>-0.548785</td>\n",
       "    </tr>\n",
       "    <tr>\n",
       "      <th>unidades_despachadas</th>\n",
       "      <td>-0.300435</td>\n",
       "      <td>1.000000</td>\n",
       "      <td>0.027490</td>\n",
       "      <td>0.712794</td>\n",
       "      <td>0.535086</td>\n",
       "      <td>0.584530</td>\n",
       "    </tr>\n",
       "    <tr>\n",
       "      <th>cantidad_envios</th>\n",
       "      <td>-0.013539</td>\n",
       "      <td>0.027490</td>\n",
       "      <td>1.000000</td>\n",
       "      <td>0.017707</td>\n",
       "      <td>0.012157</td>\n",
       "      <td>0.019829</td>\n",
       "    </tr>\n",
       "    <tr>\n",
       "      <th>unidades_despachadas_mean</th>\n",
       "      <td>-0.421490</td>\n",
       "      <td>0.712794</td>\n",
       "      <td>0.017707</td>\n",
       "      <td>1.000000</td>\n",
       "      <td>0.777436</td>\n",
       "      <td>0.820055</td>\n",
       "    </tr>\n",
       "    <tr>\n",
       "      <th>unidades_despachadas_std</th>\n",
       "      <td>-0.363437</td>\n",
       "      <td>0.535086</td>\n",
       "      <td>0.012157</td>\n",
       "      <td>0.777436</td>\n",
       "      <td>1.000000</td>\n",
       "      <td>0.807810</td>\n",
       "    </tr>\n",
       "    <tr>\n",
       "      <th>unidades_despachadas_tot</th>\n",
       "      <td>-0.548785</td>\n",
       "      <td>0.584530</td>\n",
       "      <td>0.019829</td>\n",
       "      <td>0.820055</td>\n",
       "      <td>0.807810</td>\n",
       "      <td>1.000000</td>\n",
       "    </tr>\n",
       "  </tbody>\n",
       "</table>\n",
       "</div>"
      ],
      "text/plain": [
       "                             id_pos  unidades_despachadas  cantidad_envios  \\\n",
       "id_pos                     1.000000             -0.300435        -0.013539   \n",
       "unidades_despachadas      -0.300435              1.000000         0.027490   \n",
       "cantidad_envios           -0.013539              0.027490         1.000000   \n",
       "unidades_despachadas_mean -0.421490              0.712794         0.017707   \n",
       "unidades_despachadas_std  -0.363437              0.535086         0.012157   \n",
       "unidades_despachadas_tot  -0.548785              0.584530         0.019829   \n",
       "\n",
       "                           unidades_despachadas_mean  \\\n",
       "id_pos                                     -0.421490   \n",
       "unidades_despachadas                        0.712794   \n",
       "cantidad_envios                             0.017707   \n",
       "unidades_despachadas_mean                   1.000000   \n",
       "unidades_despachadas_std                    0.777436   \n",
       "unidades_despachadas_tot                    0.820055   \n",
       "\n",
       "                           unidades_despachadas_std  unidades_despachadas_tot  \n",
       "id_pos                                    -0.363437                 -0.548785  \n",
       "unidades_despachadas                       0.535086                  0.584530  \n",
       "cantidad_envios                            0.012157                  0.019829  \n",
       "unidades_despachadas_mean                  0.777436                  0.820055  \n",
       "unidades_despachadas_std                   1.000000                  0.807810  \n",
       "unidades_despachadas_tot                   0.807810                  1.000000  "
      ]
     },
     "execution_count": 105,
     "metadata": {},
     "output_type": "execute_result"
    }
   ],
   "source": [
    "df.corr()"
   ]
  },
  {
   "cell_type": "code",
   "execution_count": null,
   "metadata": {},
   "outputs": [],
   "source": []
  },
  {
   "cell_type": "code",
   "execution_count": null,
   "metadata": {},
   "outputs": [],
   "source": []
  }
 ],
 "metadata": {
  "kernelspec": {
   "display_name": "Python 3",
   "language": "python",
   "name": "python3"
  },
  "language_info": {
   "codemirror_mode": {
    "name": "ipython",
    "version": 3
   },
   "file_extension": ".py",
   "mimetype": "text/x-python",
   "name": "python",
   "nbconvert_exporter": "python",
   "pygments_lexer": "ipython3",
   "version": "3.7.1"
  }
 },
 "nbformat": 4,
 "nbformat_minor": 2
}
